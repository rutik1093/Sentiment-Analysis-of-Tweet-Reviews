{
  "cells": [
    {
      "cell_type": "markdown",
      "metadata": {
        "id": "view-in-github",
        "colab_type": "text"
      },
      "source": [
        "<a href=\"https://colab.research.google.com/github/rutik1093/Sentiment-Analysis-of-Tweet-Reviews/blob/main/Sentiment_Analysis_Project.ipynb\" target=\"_parent\"><img src=\"https://colab.research.google.com/assets/colab-badge.svg\" alt=\"Open In Colab\"/></a>"
      ]
    },
    {
      "cell_type": "markdown",
      "id": "44c70337",
      "metadata": {
        "id": "44c70337"
      },
      "source": [
        "# 1. Load The Tweets Dataset"
      ]
    },
    {
      "cell_type": "code",
      "execution_count": 180,
      "id": "1c6d6b10",
      "metadata": {
        "id": "1c6d6b10"
      },
      "outputs": [],
      "source": [
        "import pandas as pd\n",
        "pd.set_option(\"display.max_colwidth\", 200)"
      ]
    },
    {
      "cell_type": "code",
      "execution_count": 181,
      "id": "IbSZPZSzmo5W",
      "metadata": {
        "colab": {
          "base_uri": "https://localhost:8080/"
        },
        "id": "IbSZPZSzmo5W",
        "outputId": "29fe3625-8e24-431d-cf9d-3f181208f51f"
      },
      "outputs": [
        {
          "output_type": "stream",
          "name": "stdout",
          "text": [
            "Drive already mounted at /content/drive; to attempt to forcibly remount, call drive.mount(\"/content/drive\", force_remount=True).\n"
          ]
        }
      ],
      "source": [
        "from google.colab import drive\n",
        "drive.mount('/content/drive')"
      ]
    },
    {
      "cell_type": "code",
      "execution_count": 182,
      "id": "8d002621",
      "metadata": {
        "colab": {
          "base_uri": "https://localhost:8080/",
          "height": 206
        },
        "id": "8d002621",
        "outputId": "cf9329e4-29eb-4e4f-9a63-baaf8df058e4"
      },
      "outputs": [
        {
          "output_type": "execute_result",
          "data": {
            "text/plain": [
              "   id  label  \\\n",
              "0   1      0   \n",
              "1   2      0   \n",
              "2   3      0   \n",
              "3   4      0   \n",
              "4   5      1   \n",
              "\n",
              "                                                                                                                                 tweet  \n",
              "0     #fingerprint #Pregnancy Test https://goo.gl/h1MfQV #android #apps #beautiful #cute #health #igers #iphoneonly #iphonesia #iphone  \n",
              "1  Finally a transparant silicon case ^^ Thanks to my uncle :) #yay #Sony #Xperia #S #sonyexperias… http://instagram.com/p/YGEt5JC6JM/  \n",
              "2          We love this! Would you go? #talk #makememories #unplug #relax #iphone #smartphone #wifi #connect... http://fb.me/6N3LsUpCu  \n",
              "3                     I'm wired I know I'm George I was made that way ;) #iphone #cute #daventry #home http://instagr.am/p/Li_5_ujS4k/  \n",
              "4         What amazing service! Apple won't even talk to me about a question I have unless I pay them $19.95 for their stupid support!  "
            ],
            "text/html": [
              "\n",
              "  <div id=\"df-067d7011-c2e1-4eb5-8de5-898a32a9ab5d\" class=\"colab-df-container\">\n",
              "    <div>\n",
              "<style scoped>\n",
              "    .dataframe tbody tr th:only-of-type {\n",
              "        vertical-align: middle;\n",
              "    }\n",
              "\n",
              "    .dataframe tbody tr th {\n",
              "        vertical-align: top;\n",
              "    }\n",
              "\n",
              "    .dataframe thead th {\n",
              "        text-align: right;\n",
              "    }\n",
              "</style>\n",
              "<table border=\"1\" class=\"dataframe\">\n",
              "  <thead>\n",
              "    <tr style=\"text-align: right;\">\n",
              "      <th></th>\n",
              "      <th>id</th>\n",
              "      <th>label</th>\n",
              "      <th>tweet</th>\n",
              "    </tr>\n",
              "  </thead>\n",
              "  <tbody>\n",
              "    <tr>\n",
              "      <th>0</th>\n",
              "      <td>1</td>\n",
              "      <td>0</td>\n",
              "      <td>#fingerprint #Pregnancy Test https://goo.gl/h1MfQV #android #apps #beautiful #cute #health #igers #iphoneonly #iphonesia #iphone</td>\n",
              "    </tr>\n",
              "    <tr>\n",
              "      <th>1</th>\n",
              "      <td>2</td>\n",
              "      <td>0</td>\n",
              "      <td>Finally a transparant silicon case ^^ Thanks to my uncle :) #yay #Sony #Xperia #S #sonyexperias… http://instagram.com/p/YGEt5JC6JM/</td>\n",
              "    </tr>\n",
              "    <tr>\n",
              "      <th>2</th>\n",
              "      <td>3</td>\n",
              "      <td>0</td>\n",
              "      <td>We love this! Would you go? #talk #makememories #unplug #relax #iphone #smartphone #wifi #connect... http://fb.me/6N3LsUpCu</td>\n",
              "    </tr>\n",
              "    <tr>\n",
              "      <th>3</th>\n",
              "      <td>4</td>\n",
              "      <td>0</td>\n",
              "      <td>I'm wired I know I'm George I was made that way ;) #iphone #cute #daventry #home http://instagr.am/p/Li_5_ujS4k/</td>\n",
              "    </tr>\n",
              "    <tr>\n",
              "      <th>4</th>\n",
              "      <td>5</td>\n",
              "      <td>1</td>\n",
              "      <td>What amazing service! Apple won't even talk to me about a question I have unless I pay them $19.95 for their stupid support!</td>\n",
              "    </tr>\n",
              "  </tbody>\n",
              "</table>\n",
              "</div>\n",
              "    <div class=\"colab-df-buttons\">\n",
              "\n",
              "  <div class=\"colab-df-container\">\n",
              "    <button class=\"colab-df-convert\" onclick=\"convertToInteractive('df-067d7011-c2e1-4eb5-8de5-898a32a9ab5d')\"\n",
              "            title=\"Convert this dataframe to an interactive table.\"\n",
              "            style=\"display:none;\">\n",
              "\n",
              "  <svg xmlns=\"http://www.w3.org/2000/svg\" height=\"24px\" viewBox=\"0 -960 960 960\">\n",
              "    <path d=\"M120-120v-720h720v720H120Zm60-500h600v-160H180v160Zm220 220h160v-160H400v160Zm0 220h160v-160H400v160ZM180-400h160v-160H180v160Zm440 0h160v-160H620v160ZM180-180h160v-160H180v160Zm440 0h160v-160H620v160Z\"/>\n",
              "  </svg>\n",
              "    </button>\n",
              "\n",
              "  <style>\n",
              "    .colab-df-container {\n",
              "      display:flex;\n",
              "      gap: 12px;\n",
              "    }\n",
              "\n",
              "    .colab-df-convert {\n",
              "      background-color: #E8F0FE;\n",
              "      border: none;\n",
              "      border-radius: 50%;\n",
              "      cursor: pointer;\n",
              "      display: none;\n",
              "      fill: #1967D2;\n",
              "      height: 32px;\n",
              "      padding: 0 0 0 0;\n",
              "      width: 32px;\n",
              "    }\n",
              "\n",
              "    .colab-df-convert:hover {\n",
              "      background-color: #E2EBFA;\n",
              "      box-shadow: 0px 1px 2px rgba(60, 64, 67, 0.3), 0px 1px 3px 1px rgba(60, 64, 67, 0.15);\n",
              "      fill: #174EA6;\n",
              "    }\n",
              "\n",
              "    .colab-df-buttons div {\n",
              "      margin-bottom: 4px;\n",
              "    }\n",
              "\n",
              "    [theme=dark] .colab-df-convert {\n",
              "      background-color: #3B4455;\n",
              "      fill: #D2E3FC;\n",
              "    }\n",
              "\n",
              "    [theme=dark] .colab-df-convert:hover {\n",
              "      background-color: #434B5C;\n",
              "      box-shadow: 0px 1px 3px 1px rgba(0, 0, 0, 0.15);\n",
              "      filter: drop-shadow(0px 1px 2px rgba(0, 0, 0, 0.3));\n",
              "      fill: #FFFFFF;\n",
              "    }\n",
              "  </style>\n",
              "\n",
              "    <script>\n",
              "      const buttonEl =\n",
              "        document.querySelector('#df-067d7011-c2e1-4eb5-8de5-898a32a9ab5d button.colab-df-convert');\n",
              "      buttonEl.style.display =\n",
              "        google.colab.kernel.accessAllowed ? 'block' : 'none';\n",
              "\n",
              "      async function convertToInteractive(key) {\n",
              "        const element = document.querySelector('#df-067d7011-c2e1-4eb5-8de5-898a32a9ab5d');\n",
              "        const dataTable =\n",
              "          await google.colab.kernel.invokeFunction('convertToInteractive',\n",
              "                                                    [key], {});\n",
              "        if (!dataTable) return;\n",
              "\n",
              "        const docLinkHtml = 'Like what you see? Visit the ' +\n",
              "          '<a target=\"_blank\" href=https://colab.research.google.com/notebooks/data_table.ipynb>data table notebook</a>'\n",
              "          + ' to learn more about interactive tables.';\n",
              "        element.innerHTML = '';\n",
              "        dataTable['output_type'] = 'display_data';\n",
              "        await google.colab.output.renderOutput(dataTable, element);\n",
              "        const docLink = document.createElement('div');\n",
              "        docLink.innerHTML = docLinkHtml;\n",
              "        element.appendChild(docLink);\n",
              "      }\n",
              "    </script>\n",
              "  </div>\n",
              "\n",
              "\n",
              "<div id=\"df-605bc651-44de-4322-a917-943f8fb0f020\">\n",
              "  <button class=\"colab-df-quickchart\" onclick=\"quickchart('df-605bc651-44de-4322-a917-943f8fb0f020')\"\n",
              "            title=\"Suggest charts\"\n",
              "            style=\"display:none;\">\n",
              "\n",
              "<svg xmlns=\"http://www.w3.org/2000/svg\" height=\"24px\"viewBox=\"0 0 24 24\"\n",
              "     width=\"24px\">\n",
              "    <g>\n",
              "        <path d=\"M19 3H5c-1.1 0-2 .9-2 2v14c0 1.1.9 2 2 2h14c1.1 0 2-.9 2-2V5c0-1.1-.9-2-2-2zM9 17H7v-7h2v7zm4 0h-2V7h2v10zm4 0h-2v-4h2v4z\"/>\n",
              "    </g>\n",
              "</svg>\n",
              "  </button>\n",
              "\n",
              "<style>\n",
              "  .colab-df-quickchart {\n",
              "      --bg-color: #E8F0FE;\n",
              "      --fill-color: #1967D2;\n",
              "      --hover-bg-color: #E2EBFA;\n",
              "      --hover-fill-color: #174EA6;\n",
              "      --disabled-fill-color: #AAA;\n",
              "      --disabled-bg-color: #DDD;\n",
              "  }\n",
              "\n",
              "  [theme=dark] .colab-df-quickchart {\n",
              "      --bg-color: #3B4455;\n",
              "      --fill-color: #D2E3FC;\n",
              "      --hover-bg-color: #434B5C;\n",
              "      --hover-fill-color: #FFFFFF;\n",
              "      --disabled-bg-color: #3B4455;\n",
              "      --disabled-fill-color: #666;\n",
              "  }\n",
              "\n",
              "  .colab-df-quickchart {\n",
              "    background-color: var(--bg-color);\n",
              "    border: none;\n",
              "    border-radius: 50%;\n",
              "    cursor: pointer;\n",
              "    display: none;\n",
              "    fill: var(--fill-color);\n",
              "    height: 32px;\n",
              "    padding: 0;\n",
              "    width: 32px;\n",
              "  }\n",
              "\n",
              "  .colab-df-quickchart:hover {\n",
              "    background-color: var(--hover-bg-color);\n",
              "    box-shadow: 0 1px 2px rgba(60, 64, 67, 0.3), 0 1px 3px 1px rgba(60, 64, 67, 0.15);\n",
              "    fill: var(--button-hover-fill-color);\n",
              "  }\n",
              "\n",
              "  .colab-df-quickchart-complete:disabled,\n",
              "  .colab-df-quickchart-complete:disabled:hover {\n",
              "    background-color: var(--disabled-bg-color);\n",
              "    fill: var(--disabled-fill-color);\n",
              "    box-shadow: none;\n",
              "  }\n",
              "\n",
              "  .colab-df-spinner {\n",
              "    border: 2px solid var(--fill-color);\n",
              "    border-color: transparent;\n",
              "    border-bottom-color: var(--fill-color);\n",
              "    animation:\n",
              "      spin 1s steps(1) infinite;\n",
              "  }\n",
              "\n",
              "  @keyframes spin {\n",
              "    0% {\n",
              "      border-color: transparent;\n",
              "      border-bottom-color: var(--fill-color);\n",
              "      border-left-color: var(--fill-color);\n",
              "    }\n",
              "    20% {\n",
              "      border-color: transparent;\n",
              "      border-left-color: var(--fill-color);\n",
              "      border-top-color: var(--fill-color);\n",
              "    }\n",
              "    30% {\n",
              "      border-color: transparent;\n",
              "      border-left-color: var(--fill-color);\n",
              "      border-top-color: var(--fill-color);\n",
              "      border-right-color: var(--fill-color);\n",
              "    }\n",
              "    40% {\n",
              "      border-color: transparent;\n",
              "      border-right-color: var(--fill-color);\n",
              "      border-top-color: var(--fill-color);\n",
              "    }\n",
              "    60% {\n",
              "      border-color: transparent;\n",
              "      border-right-color: var(--fill-color);\n",
              "    }\n",
              "    80% {\n",
              "      border-color: transparent;\n",
              "      border-right-color: var(--fill-color);\n",
              "      border-bottom-color: var(--fill-color);\n",
              "    }\n",
              "    90% {\n",
              "      border-color: transparent;\n",
              "      border-bottom-color: var(--fill-color);\n",
              "    }\n",
              "  }\n",
              "</style>\n",
              "\n",
              "  <script>\n",
              "    async function quickchart(key) {\n",
              "      const quickchartButtonEl =\n",
              "        document.querySelector('#' + key + ' button');\n",
              "      quickchartButtonEl.disabled = true;  // To prevent multiple clicks.\n",
              "      quickchartButtonEl.classList.add('colab-df-spinner');\n",
              "      try {\n",
              "        const charts = await google.colab.kernel.invokeFunction(\n",
              "            'suggestCharts', [key], {});\n",
              "      } catch (error) {\n",
              "        console.error('Error during call to suggestCharts:', error);\n",
              "      }\n",
              "      quickchartButtonEl.classList.remove('colab-df-spinner');\n",
              "      quickchartButtonEl.classList.add('colab-df-quickchart-complete');\n",
              "    }\n",
              "    (() => {\n",
              "      let quickchartButtonEl =\n",
              "        document.querySelector('#df-605bc651-44de-4322-a917-943f8fb0f020 button');\n",
              "      quickchartButtonEl.style.display =\n",
              "        google.colab.kernel.accessAllowed ? 'block' : 'none';\n",
              "    })();\n",
              "  </script>\n",
              "</div>\n",
              "\n",
              "    </div>\n",
              "  </div>\n"
            ],
            "application/vnd.google.colaboratory.intrinsic+json": {
              "type": "dataframe",
              "variable_name": "data",
              "summary": "{\n  \"name\": \"data\",\n  \"rows\": 7920,\n  \"fields\": [\n    {\n      \"column\": \"id\",\n      \"properties\": {\n        \"dtype\": \"number\",\n        \"std\": 2286,\n        \"min\": 1,\n        \"max\": 7920,\n        \"num_unique_values\": 7920,\n        \"samples\": [\n          4897,\n          7540,\n          1678\n        ],\n        \"semantic_type\": \"\",\n        \"description\": \"\"\n      }\n    },\n    {\n      \"column\": \"label\",\n      \"properties\": {\n        \"dtype\": \"number\",\n        \"std\": 0,\n        \"min\": 0,\n        \"max\": 1,\n        \"num_unique_values\": 2,\n        \"samples\": [\n          1,\n          0\n        ],\n        \"semantic_type\": \"\",\n        \"description\": \"\"\n      }\n    },\n    {\n      \"column\": \"tweet\",\n      \"properties\": {\n        \"dtype\": \"string\",\n        \"num_unique_values\": 7918,\n        \"samples\": [\n          \"My face as dad gave me cards worth \\u00a320, 000.00 #gay #shopping #boy #macbook #apple #blonde #pickofthe http://instagr.am/p/Uo5Ue7H7A8/\",\n          \"@skullcandy your product is brutal, 1 headphone always stops working. Get it together #Sony ftw\"\n        ],\n        \"semantic_type\": \"\",\n        \"description\": \"\"\n      }\n    }\n  ]\n}"
            }
          },
          "metadata": {},
          "execution_count": 182
        }
      ],
      "source": [
        "data = pd.read_csv('/content/tweets.csv')\n",
        "data.head()"
      ]
    },
    {
      "cell_type": "code",
      "execution_count": 183,
      "id": "377d93bf",
      "metadata": {
        "id": "377d93bf"
      },
      "outputs": [],
      "source": [
        "# 0 refers to positive sentiment, 1 is negative sentiment"
      ]
    },
    {
      "cell_type": "code",
      "execution_count": 184,
      "id": "607aab79",
      "metadata": {
        "colab": {
          "base_uri": "https://localhost:8080/"
        },
        "id": "607aab79",
        "outputId": "1d66ca6f-02b5-448e-a931-ac76f0c650b3"
      },
      "outputs": [
        {
          "output_type": "stream",
          "name": "stdout",
          "text": [
            "<class 'pandas.core.frame.DataFrame'>\n",
            "RangeIndex: 7920 entries, 0 to 7919\n",
            "Data columns (total 3 columns):\n",
            " #   Column  Non-Null Count  Dtype \n",
            "---  ------  --------------  ----- \n",
            " 0   id      7920 non-null   int64 \n",
            " 1   label   7920 non-null   int64 \n",
            " 2   tweet   7920 non-null   object\n",
            "dtypes: int64(2), object(1)\n",
            "memory usage: 185.8+ KB\n"
          ]
        }
      ],
      "source": [
        "data.info()"
      ]
    },
    {
      "cell_type": "code",
      "execution_count": 185,
      "id": "25e83372",
      "metadata": {
        "colab": {
          "base_uri": "https://localhost:8080/"
        },
        "id": "25e83372",
        "outputId": "83fa30c9-28bf-48a9-8afb-af2bf01ae5df"
      },
      "outputs": [
        {
          "output_type": "execute_result",
          "data": {
            "text/plain": [
              "id       0\n",
              "label    0\n",
              "tweet    0\n",
              "dtype: int64"
            ]
          },
          "metadata": {},
          "execution_count": 185
        }
      ],
      "source": [
        "# check for missing values\n",
        "data.isnull().sum()"
      ]
    },
    {
      "cell_type": "code",
      "execution_count": 186,
      "id": "3a762be5",
      "metadata": {
        "colab": {
          "base_uri": "https://localhost:8080/",
          "height": 206
        },
        "id": "3a762be5",
        "outputId": "2ed22581-709d-449f-b85c-3e50173c7e83"
      },
      "outputs": [
        {
          "output_type": "execute_result",
          "data": {
            "text/plain": [
              "   id  label  \\\n",
              "0   1      0   \n",
              "1   2      0   \n",
              "2   3      0   \n",
              "3   4      0   \n",
              "4   5      1   \n",
              "\n",
              "                                                                                                                                 tweet  \n",
              "0     #fingerprint #Pregnancy Test https://goo.gl/h1MfQV #android #apps #beautiful #cute #health #igers #iphoneonly #iphonesia #iphone  \n",
              "1  Finally a transparant silicon case ^^ Thanks to my uncle :) #yay #Sony #Xperia #S #sonyexperias… http://instagram.com/p/YGEt5JC6JM/  \n",
              "2          We love this! Would you go? #talk #makememories #unplug #relax #iphone #smartphone #wifi #connect... http://fb.me/6N3LsUpCu  \n",
              "3                     I'm wired I know I'm George I was made that way ;) #iphone #cute #daventry #home http://instagr.am/p/Li_5_ujS4k/  \n",
              "4         What amazing service! Apple won't even talk to me about a question I have unless I pay them $19.95 for their stupid support!  "
            ],
            "text/html": [
              "\n",
              "  <div id=\"df-3547ce9a-2368-48de-9613-b7abff060a55\" class=\"colab-df-container\">\n",
              "    <div>\n",
              "<style scoped>\n",
              "    .dataframe tbody tr th:only-of-type {\n",
              "        vertical-align: middle;\n",
              "    }\n",
              "\n",
              "    .dataframe tbody tr th {\n",
              "        vertical-align: top;\n",
              "    }\n",
              "\n",
              "    .dataframe thead th {\n",
              "        text-align: right;\n",
              "    }\n",
              "</style>\n",
              "<table border=\"1\" class=\"dataframe\">\n",
              "  <thead>\n",
              "    <tr style=\"text-align: right;\">\n",
              "      <th></th>\n",
              "      <th>id</th>\n",
              "      <th>label</th>\n",
              "      <th>tweet</th>\n",
              "    </tr>\n",
              "  </thead>\n",
              "  <tbody>\n",
              "    <tr>\n",
              "      <th>0</th>\n",
              "      <td>1</td>\n",
              "      <td>0</td>\n",
              "      <td>#fingerprint #Pregnancy Test https://goo.gl/h1MfQV #android #apps #beautiful #cute #health #igers #iphoneonly #iphonesia #iphone</td>\n",
              "    </tr>\n",
              "    <tr>\n",
              "      <th>1</th>\n",
              "      <td>2</td>\n",
              "      <td>0</td>\n",
              "      <td>Finally a transparant silicon case ^^ Thanks to my uncle :) #yay #Sony #Xperia #S #sonyexperias… http://instagram.com/p/YGEt5JC6JM/</td>\n",
              "    </tr>\n",
              "    <tr>\n",
              "      <th>2</th>\n",
              "      <td>3</td>\n",
              "      <td>0</td>\n",
              "      <td>We love this! Would you go? #talk #makememories #unplug #relax #iphone #smartphone #wifi #connect... http://fb.me/6N3LsUpCu</td>\n",
              "    </tr>\n",
              "    <tr>\n",
              "      <th>3</th>\n",
              "      <td>4</td>\n",
              "      <td>0</td>\n",
              "      <td>I'm wired I know I'm George I was made that way ;) #iphone #cute #daventry #home http://instagr.am/p/Li_5_ujS4k/</td>\n",
              "    </tr>\n",
              "    <tr>\n",
              "      <th>4</th>\n",
              "      <td>5</td>\n",
              "      <td>1</td>\n",
              "      <td>What amazing service! Apple won't even talk to me about a question I have unless I pay them $19.95 for their stupid support!</td>\n",
              "    </tr>\n",
              "  </tbody>\n",
              "</table>\n",
              "</div>\n",
              "    <div class=\"colab-df-buttons\">\n",
              "\n",
              "  <div class=\"colab-df-container\">\n",
              "    <button class=\"colab-df-convert\" onclick=\"convertToInteractive('df-3547ce9a-2368-48de-9613-b7abff060a55')\"\n",
              "            title=\"Convert this dataframe to an interactive table.\"\n",
              "            style=\"display:none;\">\n",
              "\n",
              "  <svg xmlns=\"http://www.w3.org/2000/svg\" height=\"24px\" viewBox=\"0 -960 960 960\">\n",
              "    <path d=\"M120-120v-720h720v720H120Zm60-500h600v-160H180v160Zm220 220h160v-160H400v160Zm0 220h160v-160H400v160ZM180-400h160v-160H180v160Zm440 0h160v-160H620v160ZM180-180h160v-160H180v160Zm440 0h160v-160H620v160Z\"/>\n",
              "  </svg>\n",
              "    </button>\n",
              "\n",
              "  <style>\n",
              "    .colab-df-container {\n",
              "      display:flex;\n",
              "      gap: 12px;\n",
              "    }\n",
              "\n",
              "    .colab-df-convert {\n",
              "      background-color: #E8F0FE;\n",
              "      border: none;\n",
              "      border-radius: 50%;\n",
              "      cursor: pointer;\n",
              "      display: none;\n",
              "      fill: #1967D2;\n",
              "      height: 32px;\n",
              "      padding: 0 0 0 0;\n",
              "      width: 32px;\n",
              "    }\n",
              "\n",
              "    .colab-df-convert:hover {\n",
              "      background-color: #E2EBFA;\n",
              "      box-shadow: 0px 1px 2px rgba(60, 64, 67, 0.3), 0px 1px 3px 1px rgba(60, 64, 67, 0.15);\n",
              "      fill: #174EA6;\n",
              "    }\n",
              "\n",
              "    .colab-df-buttons div {\n",
              "      margin-bottom: 4px;\n",
              "    }\n",
              "\n",
              "    [theme=dark] .colab-df-convert {\n",
              "      background-color: #3B4455;\n",
              "      fill: #D2E3FC;\n",
              "    }\n",
              "\n",
              "    [theme=dark] .colab-df-convert:hover {\n",
              "      background-color: #434B5C;\n",
              "      box-shadow: 0px 1px 3px 1px rgba(0, 0, 0, 0.15);\n",
              "      filter: drop-shadow(0px 1px 2px rgba(0, 0, 0, 0.3));\n",
              "      fill: #FFFFFF;\n",
              "    }\n",
              "  </style>\n",
              "\n",
              "    <script>\n",
              "      const buttonEl =\n",
              "        document.querySelector('#df-3547ce9a-2368-48de-9613-b7abff060a55 button.colab-df-convert');\n",
              "      buttonEl.style.display =\n",
              "        google.colab.kernel.accessAllowed ? 'block' : 'none';\n",
              "\n",
              "      async function convertToInteractive(key) {\n",
              "        const element = document.querySelector('#df-3547ce9a-2368-48de-9613-b7abff060a55');\n",
              "        const dataTable =\n",
              "          await google.colab.kernel.invokeFunction('convertToInteractive',\n",
              "                                                    [key], {});\n",
              "        if (!dataTable) return;\n",
              "\n",
              "        const docLinkHtml = 'Like what you see? Visit the ' +\n",
              "          '<a target=\"_blank\" href=https://colab.research.google.com/notebooks/data_table.ipynb>data table notebook</a>'\n",
              "          + ' to learn more about interactive tables.';\n",
              "        element.innerHTML = '';\n",
              "        dataTable['output_type'] = 'display_data';\n",
              "        await google.colab.output.renderOutput(dataTable, element);\n",
              "        const docLink = document.createElement('div');\n",
              "        docLink.innerHTML = docLinkHtml;\n",
              "        element.appendChild(docLink);\n",
              "      }\n",
              "    </script>\n",
              "  </div>\n",
              "\n",
              "\n",
              "<div id=\"df-ad5a020e-8dd4-4eea-8b11-d512f671bcbc\">\n",
              "  <button class=\"colab-df-quickchart\" onclick=\"quickchart('df-ad5a020e-8dd4-4eea-8b11-d512f671bcbc')\"\n",
              "            title=\"Suggest charts\"\n",
              "            style=\"display:none;\">\n",
              "\n",
              "<svg xmlns=\"http://www.w3.org/2000/svg\" height=\"24px\"viewBox=\"0 0 24 24\"\n",
              "     width=\"24px\">\n",
              "    <g>\n",
              "        <path d=\"M19 3H5c-1.1 0-2 .9-2 2v14c0 1.1.9 2 2 2h14c1.1 0 2-.9 2-2V5c0-1.1-.9-2-2-2zM9 17H7v-7h2v7zm4 0h-2V7h2v10zm4 0h-2v-4h2v4z\"/>\n",
              "    </g>\n",
              "</svg>\n",
              "  </button>\n",
              "\n",
              "<style>\n",
              "  .colab-df-quickchart {\n",
              "      --bg-color: #E8F0FE;\n",
              "      --fill-color: #1967D2;\n",
              "      --hover-bg-color: #E2EBFA;\n",
              "      --hover-fill-color: #174EA6;\n",
              "      --disabled-fill-color: #AAA;\n",
              "      --disabled-bg-color: #DDD;\n",
              "  }\n",
              "\n",
              "  [theme=dark] .colab-df-quickchart {\n",
              "      --bg-color: #3B4455;\n",
              "      --fill-color: #D2E3FC;\n",
              "      --hover-bg-color: #434B5C;\n",
              "      --hover-fill-color: #FFFFFF;\n",
              "      --disabled-bg-color: #3B4455;\n",
              "      --disabled-fill-color: #666;\n",
              "  }\n",
              "\n",
              "  .colab-df-quickchart {\n",
              "    background-color: var(--bg-color);\n",
              "    border: none;\n",
              "    border-radius: 50%;\n",
              "    cursor: pointer;\n",
              "    display: none;\n",
              "    fill: var(--fill-color);\n",
              "    height: 32px;\n",
              "    padding: 0;\n",
              "    width: 32px;\n",
              "  }\n",
              "\n",
              "  .colab-df-quickchart:hover {\n",
              "    background-color: var(--hover-bg-color);\n",
              "    box-shadow: 0 1px 2px rgba(60, 64, 67, 0.3), 0 1px 3px 1px rgba(60, 64, 67, 0.15);\n",
              "    fill: var(--button-hover-fill-color);\n",
              "  }\n",
              "\n",
              "  .colab-df-quickchart-complete:disabled,\n",
              "  .colab-df-quickchart-complete:disabled:hover {\n",
              "    background-color: var(--disabled-bg-color);\n",
              "    fill: var(--disabled-fill-color);\n",
              "    box-shadow: none;\n",
              "  }\n",
              "\n",
              "  .colab-df-spinner {\n",
              "    border: 2px solid var(--fill-color);\n",
              "    border-color: transparent;\n",
              "    border-bottom-color: var(--fill-color);\n",
              "    animation:\n",
              "      spin 1s steps(1) infinite;\n",
              "  }\n",
              "\n",
              "  @keyframes spin {\n",
              "    0% {\n",
              "      border-color: transparent;\n",
              "      border-bottom-color: var(--fill-color);\n",
              "      border-left-color: var(--fill-color);\n",
              "    }\n",
              "    20% {\n",
              "      border-color: transparent;\n",
              "      border-left-color: var(--fill-color);\n",
              "      border-top-color: var(--fill-color);\n",
              "    }\n",
              "    30% {\n",
              "      border-color: transparent;\n",
              "      border-left-color: var(--fill-color);\n",
              "      border-top-color: var(--fill-color);\n",
              "      border-right-color: var(--fill-color);\n",
              "    }\n",
              "    40% {\n",
              "      border-color: transparent;\n",
              "      border-right-color: var(--fill-color);\n",
              "      border-top-color: var(--fill-color);\n",
              "    }\n",
              "    60% {\n",
              "      border-color: transparent;\n",
              "      border-right-color: var(--fill-color);\n",
              "    }\n",
              "    80% {\n",
              "      border-color: transparent;\n",
              "      border-right-color: var(--fill-color);\n",
              "      border-bottom-color: var(--fill-color);\n",
              "    }\n",
              "    90% {\n",
              "      border-color: transparent;\n",
              "      border-bottom-color: var(--fill-color);\n",
              "    }\n",
              "  }\n",
              "</style>\n",
              "\n",
              "  <script>\n",
              "    async function quickchart(key) {\n",
              "      const quickchartButtonEl =\n",
              "        document.querySelector('#' + key + ' button');\n",
              "      quickchartButtonEl.disabled = true;  // To prevent multiple clicks.\n",
              "      quickchartButtonEl.classList.add('colab-df-spinner');\n",
              "      try {\n",
              "        const charts = await google.colab.kernel.invokeFunction(\n",
              "            'suggestCharts', [key], {});\n",
              "      } catch (error) {\n",
              "        console.error('Error during call to suggestCharts:', error);\n",
              "      }\n",
              "      quickchartButtonEl.classList.remove('colab-df-spinner');\n",
              "      quickchartButtonEl.classList.add('colab-df-quickchart-complete');\n",
              "    }\n",
              "    (() => {\n",
              "      let quickchartButtonEl =\n",
              "        document.querySelector('#df-ad5a020e-8dd4-4eea-8b11-d512f671bcbc button');\n",
              "      quickchartButtonEl.style.display =\n",
              "        google.colab.kernel.accessAllowed ? 'block' : 'none';\n",
              "    })();\n",
              "  </script>\n",
              "</div>\n",
              "\n",
              "    </div>\n",
              "  </div>\n"
            ],
            "application/vnd.google.colaboratory.intrinsic+json": {
              "type": "dataframe",
              "variable_name": "data",
              "summary": "{\n  \"name\": \"data\",\n  \"rows\": 7920,\n  \"fields\": [\n    {\n      \"column\": \"id\",\n      \"properties\": {\n        \"dtype\": \"number\",\n        \"std\": 2286,\n        \"min\": 1,\n        \"max\": 7920,\n        \"num_unique_values\": 7920,\n        \"samples\": [\n          4897,\n          7540,\n          1678\n        ],\n        \"semantic_type\": \"\",\n        \"description\": \"\"\n      }\n    },\n    {\n      \"column\": \"label\",\n      \"properties\": {\n        \"dtype\": \"number\",\n        \"std\": 0,\n        \"min\": 0,\n        \"max\": 1,\n        \"num_unique_values\": 2,\n        \"samples\": [\n          1,\n          0\n        ],\n        \"semantic_type\": \"\",\n        \"description\": \"\"\n      }\n    },\n    {\n      \"column\": \"tweet\",\n      \"properties\": {\n        \"dtype\": \"string\",\n        \"num_unique_values\": 7918,\n        \"samples\": [\n          \"My face as dad gave me cards worth \\u00a320, 000.00 #gay #shopping #boy #macbook #apple #blonde #pickofthe http://instagr.am/p/Uo5Ue7H7A8/\",\n          \"@skullcandy your product is brutal, 1 headphone always stops working. Get it together #Sony ftw\"\n        ],\n        \"semantic_type\": \"\",\n        \"description\": \"\"\n      }\n    }\n  ]\n}"
            }
          },
          "metadata": {},
          "execution_count": 186
        }
      ],
      "source": [
        "# drop the id column\n",
        "# data.drop(['id'], axis=1, inplace=True)\n",
        "data.head()"
      ]
    },
    {
      "cell_type": "code",
      "execution_count": 187,
      "id": "5fef08e2",
      "metadata": {
        "colab": {
          "base_uri": "https://localhost:8080/"
        },
        "id": "5fef08e2",
        "outputId": "1b5ac0da-f27b-4d0c-c617-f3feeaa40781"
      },
      "outputs": [
        {
          "output_type": "execute_result",
          "data": {
            "text/plain": [
              "label\n",
              "0    0.744192\n",
              "1    0.255808\n",
              "Name: proportion, dtype: float64"
            ]
          },
          "metadata": {},
          "execution_count": 187
        }
      ],
      "source": [
        "# Check for the class balance\n",
        "data['label'].value_counts(normalize=True)"
      ]
    },
    {
      "cell_type": "code",
      "execution_count": 188,
      "id": "da964ccc",
      "metadata": {
        "colab": {
          "base_uri": "https://localhost:8080/",
          "height": 461
        },
        "id": "da964ccc",
        "outputId": "7de5d271-d7a9-4917-de9e-a5013584730e"
      },
      "outputs": [
        {
          "output_type": "execute_result",
          "data": {
            "text/plain": [
              "<Axes: xlabel='label'>"
            ]
          },
          "metadata": {},
          "execution_count": 188
        },
        {
          "output_type": "display_data",
          "data": {
            "text/plain": [
              "<Figure size 640x480 with 1 Axes>"
            ],
            "image/png": "[encoded data removed]"
          },
          "metadata": {}
        }
      ],
      "source": [
        "# plot the label counts\n",
        "data['label'].value_counts().plot(kind='bar')"
      ]
    },
    {
      "cell_type": "markdown",
      "id": "2ebe7934",
      "metadata": {
        "id": "2ebe7934"
      },
      "source": [
        "# 2. Data Cleaning"
      ]
    },
    {
      "cell_type": "code",
      "execution_count": 189,
      "id": "864cb495",
      "metadata": {
        "colab": {
          "base_uri": "https://localhost:8080/",
          "height": 36
        },
        "id": "864cb495",
        "outputId": "f3256864-e28b-4513-d113-391bc4bb1c69"
      },
      "outputs": [
        {
          "output_type": "execute_result",
          "data": {
            "text/plain": [
              "\"It's time for new wallpapers #phone #wallpapers #wall #screen #galaxy #samsung #app … https://www.instagram.com/p/BcsKTNNn51c/\""
            ],
            "application/vnd.google.colaboratory.intrinsic+json": {
              "type": "string"
            }
          },
          "metadata": {},
          "execution_count": 189
        }
      ],
      "source": [
        "data['tweet'][24]"
      ]
    },
    {
      "cell_type": "code",
      "execution_count": 190,
      "id": "29638830",
      "metadata": {
        "id": "29638830"
      },
      "outputs": [],
      "source": [
        "import re"
      ]
    },
    {
      "cell_type": "code",
      "execution_count": 191,
      "id": "e21a6b13",
      "metadata": {
        "colab": {
          "base_uri": "https://localhost:8080/",
          "height": 36
        },
        "id": "e21a6b13",
        "outputId": "39052545-f450-4224-fff2-36a6667276cd"
      },
      "outputs": [
        {
          "output_type": "execute_result",
          "data": {
            "text/plain": [
              "'It is time for new wallpapers #phone #wallpapers #wall #screen #galaxy #samsung #app … https://www.instagram.com/p/BcsKTNNn51c/'"
            ],
            "application/vnd.google.colaboratory.intrinsic+json": {
              "type": "string"
            }
          },
          "metadata": {},
          "execution_count": 191
        }
      ],
      "source": [
        "# Substitute 's with \" is\"\n",
        "re.sub(r\"'s\\b\", \" is\", data['tweet'][24])"
      ]
    },
    {
      "cell_type": "code",
      "execution_count": 192,
      "id": "cd7dcd23",
      "metadata": {
        "colab": {
          "base_uri": "https://localhost:8080/",
          "height": 36
        },
        "id": "cd7dcd23",
        "outputId": "46435734-5d8d-4647-f755-bf0be720e239"
      },
      "outputs": [
        {
          "output_type": "execute_result",
          "data": {
            "text/plain": [
              "'Ha! Not heavy machinery but it does what I need it to. @Apple really dropped the ball with that design. #drinkyourhaterade'"
            ],
            "application/vnd.google.colaboratory.intrinsic+json": {
              "type": "string"
            }
          },
          "metadata": {},
          "execution_count": 192
        }
      ],
      "source": [
        "# Removing the user mentions\n",
        "data['tweet'][11]"
      ]
    },
    {
      "cell_type": "code",
      "execution_count": 193,
      "id": "6376ce28",
      "metadata": {
        "colab": {
          "base_uri": "https://localhost:8080/",
          "height": 36
        },
        "id": "6376ce28",
        "outputId": "8e80c970-b9d2-41b6-ecbf-47393ac0ad50"
      },
      "outputs": [
        {
          "output_type": "execute_result",
          "data": {
            "text/plain": [
              "'Ha! Not heavy machinery but it does what I need it to.  really dropped the ball with that design. #drinkyourhaterade'"
            ],
            "application/vnd.google.colaboratory.intrinsic+json": {
              "type": "string"
            }
          },
          "metadata": {},
          "execution_count": 193
        }
      ],
      "source": [
        "# We'll retain on the alphabets & digits\n",
        "re.sub(\"@[A-Za-z0-9]+\", \"\", data['tweet'][11])"
      ]
    },
    {
      "cell_type": "code",
      "execution_count": 194,
      "id": "dfef97f7",
      "metadata": {
        "colab": {
          "base_uri": "https://localhost:8080/",
          "height": 36
        },
        "id": "dfef97f7",
        "outputId": "55ef3fdc-2dd5-4580-d760-fa9027c29e01"
      },
      "outputs": [
        {
          "output_type": "execute_result",
          "data": {
            "text/plain": [
              "'#fingerprint #Pregnancy Test https://goo.gl/h1MfQV #android #apps #beautiful #cute #health #igers #iphoneonly #iphonesia #iphone'"
            ],
            "application/vnd.google.colaboratory.intrinsic+json": {
              "type": "string"
            }
          },
          "metadata": {},
          "execution_count": 194
        }
      ],
      "source": [
        "# remove the hashtags\n",
        "data['tweet'][0]"
      ]
    },
    {
      "cell_type": "code",
      "execution_count": 195,
      "id": "414a68ed",
      "metadata": {
        "colab": {
          "base_uri": "https://localhost:8080/",
          "height": 36
        },
        "id": "414a68ed",
        "outputId": "4651b7a2-9d5b-4039-b5f5-803fa34a3993"
      },
      "outputs": [
        {
          "output_type": "execute_result",
          "data": {
            "text/plain": [
              "'fingerprint Pregnancy Test https://goo.gl/h1MfQV android apps beautiful cute health igers iphoneonly iphonesia iphone'"
            ],
            "application/vnd.google.colaboratory.intrinsic+json": {
              "type": "string"
            }
          },
          "metadata": {},
          "execution_count": 195
        }
      ],
      "source": [
        "re.sub(\"#\", \"\", data['tweet'][0])"
      ]
    },
    {
      "cell_type": "code",
      "execution_count": 196,
      "id": "d228f1a8",
      "metadata": {
        "colab": {
          "base_uri": "https://localhost:8080/",
          "height": 36
        },
        "id": "d228f1a8",
        "outputId": "ab4d2bdf-18a3-4e1d-e128-5b2c045c9d9b"
      },
      "outputs": [
        {
          "output_type": "execute_result",
          "data": {
            "text/plain": [
              "'#fingerprint #Pregnancy Test  #android #apps #beautiful #cute #health #igers #iphoneonly #iphonesia #iphone'"
            ],
            "application/vnd.google.colaboratory.intrinsic+json": {
              "type": "string"
            }
          },
          "metadata": {},
          "execution_count": 196
        }
      ],
      "source": [
        "# Removing the hyperlinks\n",
        "re.sub(r\"http\\S+\", \"\", data['tweet'][0])"
      ]
    },
    {
      "cell_type": "code",
      "execution_count": 197,
      "id": "6db434b8",
      "metadata": {
        "colab": {
          "base_uri": "https://localhost:8080/",
          "height": 36
        },
        "id": "6db434b8",
        "outputId": "cdb66f56-2a52-4eb2-b71a-1c00ddf265d6"
      },
      "outputs": [
        {
          "output_type": "execute_result",
          "data": {
            "text/plain": [
              "'1.05 billion for 3 patents where there is prior art = 300 millions each = patent trolls are partying now thanks to Apple #apple'"
            ],
            "application/vnd.google.colaboratory.intrinsic+json": {
              "type": "string"
            }
          },
          "metadata": {},
          "execution_count": 197
        }
      ],
      "source": [
        "# Retain on the alphabets (get rid of punctuations, special char, digits)\n",
        "data['tweet'][25]"
      ]
    },
    {
      "cell_type": "code",
      "execution_count": 198,
      "id": "39aba7ae",
      "metadata": {
        "colab": {
          "base_uri": "https://localhost:8080/",
          "height": 36
        },
        "id": "39aba7ae",
        "outputId": "c8898368-7e4f-4deb-9df4-27a5c228c5ff"
      },
      "outputs": [
        {
          "output_type": "execute_result",
          "data": {
            "text/plain": [
              "' fingerprint  Pregnancy Test https   goo gl h MfQV  android  apps  beautiful  cute  health  igers  iphoneonly  iphonesia  iphone'"
            ],
            "application/vnd.google.colaboratory.intrinsic+json": {
              "type": "string"
            }
          },
          "metadata": {},
          "execution_count": 198
        }
      ],
      "source": [
        "re.sub(r\"[^a-zA-Z]\", \" \", data['tweet'][0])"
      ]
    },
    {
      "cell_type": "code",
      "execution_count": 199,
      "id": "64848c44",
      "metadata": {
        "colab": {
          "base_uri": "https://localhost:8080/"
        },
        "id": "64848c44",
        "outputId": "73e4ece5-6a0c-4ae7-df9b-d0320765314a"
      },
      "outputs": [
        {
          "output_type": "stream",
          "name": "stderr",
          "text": [
            "[nltk_data] Downloading package stopwords to /root/nltk_data...\n",
            "[nltk_data]   Package stopwords is already up-to-date!\n"
          ]
        }
      ],
      "source": [
        "# Stop words Removal\n",
        "import nltk\n",
        "nltk.download('stopwords')\n",
        "from nltk.corpus import stopwords"
      ]
    },
    {
      "cell_type": "code",
      "execution_count": 200,
      "id": "e791f4e7",
      "metadata": {
        "colab": {
          "base_uri": "https://localhost:8080/"
        },
        "id": "e791f4e7",
        "outputId": "2fc3adde-1a51-4926-c884-1298f7d27104"
      },
      "outputs": [
        {
          "output_type": "stream",
          "name": "stdout",
          "text": [
            "{'they', 'an', 'any', 'you', 'ain', 'but', 'needn', 'her', 'couldn', 'itself', \"don't\", 'the', 'mustn', 'its', 'them', \"haven't\", 'ourselves', 'hadn', 'theirs', 'weren', 'until', 'before', 'no', 'aren', \"it's\", 'll', 'below', 'can', \"doesn't\", 'isn', 'because', 'over', 'doesn', 'hasn', 'whom', 'with', 'y', 'in', 'against', 'been', 'up', 'out', 'why', 'she', 'only', 're', 't', 'it', 'where', 'as', 'from', \"couldn't\", 'how', 'should', 'was', 'doing', 'through', 'when', 'didn', 'he', 'shan', 'own', \"hadn't\", 'him', 'haven', 'by', 'their', 'this', 'yourselves', 'having', 'nor', 'here', 'these', \"isn't\", 'down', 'does', 'such', \"wasn't\", 'have', \"you'll\", 'to', \"shouldn't\", 'what', 'is', 've', 'do', \"needn't\", \"weren't\", 'm', 'so', 'just', 'too', \"wouldn't\", 'don', 'shouldn', 'i', 'then', 'were', 'has', 'while', 'ma', 'and', 'off', 'all', 'above', 'each', 'be', \"aren't\", \"won't\", 'your', 's', \"shan't\", 'after', 'we', 'than', 'myself', 'more', \"you've\", 'yourself', 'yours', 'had', \"should've\", 'won', 'of', \"mustn't\", 'both', 'himself', 'few', 'under', 'some', 'there', \"she's\", 'a', 'hers', 'will', 'those', 'about', 'now', 'which', 'mightn', \"that'll\", 'did', 'at', 'most', 'are', 'same', 'herself', \"you'd\", 'wouldn', 'once', 'during', 'if', 'other', \"hasn't\", 'into', 'or', 'on', 'who', 'my', \"you're\", 'being', 'further', 'our', 'themselves', 'wasn', 'not', \"mightn't\", 'am', 'very', 'again', 'o', \"didn't\", 'his', 'for', 'between', 'that', 'd', 'ours', 'me'}\n"
          ]
        }
      ],
      "source": [
        "nltk_stopwords = set(stopwords.words('english'))\n",
        "print(nltk_stopwords)"
      ]
    },
    {
      "cell_type": "code",
      "execution_count": 201,
      "id": "f4ae7f75",
      "metadata": {
        "colab": {
          "base_uri": "https://localhost:8080/"
        },
        "id": "f4ae7f75",
        "outputId": "c2eeb1d0-79f0-499d-fefe-64444cd750d6"
      },
      "outputs": [
        {
          "output_type": "execute_result",
          "data": {
            "text/plain": [
              "179"
            ]
          },
          "metadata": {},
          "execution_count": 201
        }
      ],
      "source": [
        "len(nltk_stopwords)"
      ]
    },
    {
      "cell_type": "code",
      "execution_count": 202,
      "id": "3a8095da",
      "metadata": {
        "colab": {
          "base_uri": "https://localhost:8080/"
        },
        "id": "3a8095da",
        "outputId": "75b3099c-e6cd-4ccc-922a-175aa70b737e"
      },
      "outputs": [
        {
          "output_type": "stream",
          "name": "stdout",
          "text": [
            "{'however', 'an', 'third', 'but', 'her', 'one', 'empty', 'interest', 'ie', 'de', 'somehow', 'among', 'alone', 'nowhere', 'its', 'beforehand', 'somewhere', 'within', 'until', 'since', 'three', 'before', 'anyway', 'no', 'amount', 'former', 'below', 'can', 'seeming', 'yet', 'often', 'over', 'in', 'against', 'been', 'why', 'out', 'up', 'she', 'sixty', 'whereas', 'rather', 'except', 'where', 'hereupon', 'full', 'whereupon', 'thence', 'was', 'please', 'twenty', 'him', 'by', 'nor', 'become', 'ten', 'whither', 'four', 'here', 'down', 'such', 'have', 'much', 'always', 'back', 'without', 'never', 'also', 'bottom', 'sometime', 'whoever', 'behind', 'has', 'off', 'onto', 'could', 'anything', 'towards', 'even', 'hasnt', 'latter', 'above', 'each', 'seemed', 'wherein', 'be', 'mine', 'none', 'already', 'find', 'show', 'we', 'than', 'ever', 'more', 'yourself', 'had', 'may', 'something', 'thereby', 'therein', 'both', 'many', 'cry', 'under', 'some', 'via', 'there', 'fire', 'hers', 'will', 'herein', 'moreover', 'about', 'thereafter', 'those', 'meanwhile', 'now', 'together', 'which', 'others', 'mostly', 'though', 'side', 'next', 'otherwise', 'at', 'became', 'herself', 'else', 'thru', 'hereafter', 'once', 'call', 'during', 'put', 'less', 'on', 'another', 'or', 'part', 'thereupon', 'namely', 'serious', 'further', 'mill', 'our', 'enough', 'themselves', 'hence', 'elsewhere', 'again', 'due', 'perhaps', 'that', 'toward', 'get', 'give', 'they', 'any', 'beyond', 'cannot', 'you', 'might', 'whence', 'itself', 'the', 'eg', 'noone', 'forty', 'ourselves', 'them', 'someone', 'twelve', 'hereby', 'least', 'inc', 'thick', 'amoungst', 'wherever', 'keep', 'although', 'along', 'seem', 'latterly', 'detail', 'because', 'everyone', 'whom', 'every', 'describe', 'with', 'whenever', 're', 'only', 'beside', 'hundred', 'it', 'whatever', 'as', 'from', 'move', 'eight', 'fifty', 'should', 'how', 'when', 'sometimes', 'through', 'becomes', 'afterwards', 'he', 'almost', 'own', 'top', 'around', 'their', 'this', 'yourselves', 'front', 'six', 'couldnt', 'these', 'fill', 'to', 'formerly', 'thus', 'system', 'what', 'is', 'anyone', 'anywhere', 'per', 'do', 'whether', 'across', 'so', 'last', 'too', 'bill', 'done', 'upon', 'i', 'then', 'besides', 'first', 'while', 'were', 'two', 'and', 'nobody', 'all', 'ltd', 'anyhow', 'your', 'found', 'would', 'either', 'after', 'co', 'see', 'myself', 'therefore', 'everywhere', 'yours', 'whose', 'of', 'himself', 'few', 'throughout', 'un', 'whereafter', 'con', 'nevertheless', 'whereby', 'a', 'seems', 'name', 'eleven', 'nine', 'must', 'indeed', 'same', 'most', 'are', 'go', 'us', 'fifteen', 'sincere', 'if', 'other', 'take', 'nothing', 'becoming', 'well', 'into', 'whole', 'several', 'who', 'being', 'my', 'thin', 'not', 'made', 'everything', 'very', 'am', 'etc', 'his', 'for', 'between', 'cant', 'five', 'still', 'ours', 'me', 'amongst', 'neither'}\n"
          ]
        }
      ],
      "source": [
        "from sklearn.feature_extraction.text import ENGLISH_STOP_WORDS\n",
        "sklearn_stopwords = set(ENGLISH_STOP_WORDS)\n",
        "print(sklearn_stopwords)"
      ]
    },
    {
      "cell_type": "code",
      "execution_count": 203,
      "id": "cf4e095c",
      "metadata": {
        "colab": {
          "base_uri": "https://localhost:8080/"
        },
        "id": "cf4e095c",
        "outputId": "6a9fa640-2092-4625-9a5e-aa12b72c4225"
      },
      "outputs": [
        {
          "output_type": "execute_result",
          "data": {
            "text/plain": [
              "318"
            ]
          },
          "metadata": {},
          "execution_count": 203
        }
      ],
      "source": [
        "len(sklearn_stopwords)"
      ]
    },
    {
      "cell_type": "code",
      "execution_count": 204,
      "id": "c0b37185",
      "metadata": {
        "colab": {
          "base_uri": "https://localhost:8080/"
        },
        "id": "c0b37185",
        "outputId": "c79e59c9-b804-4c07-e138-6f315fc03440"
      },
      "outputs": [
        {
          "output_type": "stream",
          "name": "stdout",
          "text": [
            "{'they', 'any', 'an', 'you', 'but', 'her', 'itself', 'the', 'its', 'them', 'ourselves', 'until', 'before', 'no', 'can', 'below', 'because', 'over', 'whom', 'with', 'in', 'against', 'been', 'up', 'out', 'why', 'she', 'only', 're', 'it', 'where', 'as', 'from', 'how', 'should', 'was', 'when', 'through', 'he', 'own', 'him', 'by', 'their', 'this', 'yourselves', 'nor', 'here', 'these', 'down', 'such', 'have', 'to', 'what', 'is', 'do', 'so', 'too', 'i', 'then', 'were', 'has', 'while', 'and', 'off', 'all', 'above', 'each', 'be', 'your', 'after', 'we', 'than', 'myself', 'more', 'yourself', 'yours', 'had', 'of', 'both', 'himself', 'few', 'under', 'some', 'there', 'a', 'hers', 'will', 'those', 'about', 'now', 'which', 'at', 'most', 'are', 'same', 'herself', 'once', 'during', 'if', 'other', 'into', 'or', 'on', 'who', 'my', 'being', 'further', 'our', 'themselves', 'not', 'am', 'very', 'again', 'his', 'for', 'between', 'that', 'ours', 'me'}\n"
          ]
        }
      ],
      "source": [
        "# Find the common stopwords from NLTK & sklearn\n",
        "print(nltk_stopwords.intersection(sklearn_stopwords))"
      ]
    },
    {
      "cell_type": "code",
      "execution_count": 205,
      "id": "f46b31b6",
      "metadata": {
        "colab": {
          "base_uri": "https://localhost:8080/"
        },
        "id": "f46b31b6",
        "outputId": "1395269a-dc18-44c0-99e8-8f7a1caa1636"
      },
      "outputs": [
        {
          "output_type": "execute_result",
          "data": {
            "text/plain": [
              "119"
            ]
          },
          "metadata": {},
          "execution_count": 205
        }
      ],
      "source": [
        "len(nltk_stopwords.intersection(sklearn_stopwords))"
      ]
    },
    {
      "cell_type": "code",
      "execution_count": 206,
      "id": "4d244574",
      "metadata": {
        "id": "4d244574"
      },
      "outputs": [],
      "source": [
        "# Combining the stopwords from sklearn & NLTK\n",
        "combined_stopwords = nltk_stopwords.union(sklearn_stopwords)"
      ]
    },
    {
      "cell_type": "code",
      "execution_count": 207,
      "id": "7c5cab13",
      "metadata": {
        "colab": {
          "base_uri": "https://localhost:8080/"
        },
        "id": "7c5cab13",
        "outputId": "371c80e8-f0b8-4c31-fd86-b80ec7cbe6b4"
      },
      "outputs": [
        {
          "output_type": "execute_result",
          "data": {
            "text/plain": [
              "378"
            ]
          },
          "metadata": {},
          "execution_count": 207
        }
      ],
      "source": [
        "len(combined_stopwords)"
      ]
    },
    {
      "cell_type": "code",
      "execution_count": 208,
      "id": "1434274a",
      "metadata": {
        "id": "1434274a"
      },
      "outputs": [],
      "source": [
        "# Text Normalization: Stemming or Lemmatization (prefer)\n",
        "from nltk.stem import WordNetLemmatizer\n",
        "lemmatizer = WordNetLemmatizer()"
      ]
    },
    {
      "cell_type": "code",
      "execution_count": 209,
      "id": "adf51cf7",
      "metadata": {
        "colab": {
          "base_uri": "https://localhost:8080/"
        },
        "id": "adf51cf7",
        "outputId": "2e983a57-5e59-432f-c0c0-d5b1ec74c670"
      },
      "outputs": [
        {
          "output_type": "execute_result",
          "data": {
            "text/plain": [
              "['Gain',\n",
              " 'Followers',\n",
              " 'RT',\n",
              " 'This',\n",
              " 'MUST',\n",
              " 'FOLLOW',\n",
              " 'ME',\n",
              " 'I',\n",
              " 'FOLLOW',\n",
              " 'BACK',\n",
              " 'Follow',\n",
              " 'everyone',\n",
              " 'who',\n",
              " 'rts',\n",
              " 'Gain',\n",
              " '#iphone',\n",
              " '#sougofollow',\n",
              " '#ff',\n",
              " 'i7si']"
            ]
          },
          "metadata": {},
          "execution_count": 209
        }
      ],
      "source": [
        "data['tweet'][63].split()"
      ]
    },
    {
      "cell_type": "code",
      "execution_count": 210,
      "id": "44aa4683",
      "metadata": {
        "colab": {
          "base_uri": "https://localhost:8080/",
          "height": 71
        },
        "id": "44aa4683",
        "outputId": "e2c39802-cb53-4374-9150-10445c7f4ae7"
      },
      "outputs": [
        {
          "output_type": "stream",
          "name": "stderr",
          "text": [
            "[nltk_data] Downloading package wordnet to /root/nltk_data...\n",
            "[nltk_data]   Package wordnet is already up-to-date!\n"
          ]
        },
        {
          "output_type": "execute_result",
          "data": {
            "text/plain": [
              "'gain follower rt this must follow me i follow back follow everyone who rts gain #iphone #sougofollow #ff i7si '"
            ],
            "application/vnd.google.colaboratory.intrinsic+json": {
              "type": "string"
            }
          },
          "metadata": {},
          "execution_count": 210
        }
      ],
      "source": [
        "import nltk\n",
        "nltk.download('wordnet')\n",
        "new_sent = ''\n",
        "for token in data['tweet'][63].split():\n",
        "    new_sent = new_sent + lemmatizer.lemmatize(token.lower()) + ' '\n",
        "\n",
        "new_sent"
      ]
    },
    {
      "cell_type": "code",
      "execution_count": 210,
      "id": "R555yD2TWuNC",
      "metadata": {
        "id": "R555yD2TWuNC"
      },
      "outputs": [],
      "source": []
    },
    {
      "cell_type": "code",
      "execution_count": 211,
      "id": "cd8d70fc",
      "metadata": {
        "colab": {
          "base_uri": "https://localhost:8080/"
        },
        "id": "cd8d70fc",
        "outputId": "8e28c6a8-2d26-4e3e-fdf9-69a26f6dea68"
      },
      "outputs": [
        {
          "output_type": "stream",
          "name": "stdout",
          "text": [
            "Requirement already satisfied: contractions in /usr/local/lib/python3.10/dist-packages (0.1.73)\n",
            "Requirement already satisfied: textsearch>=0.0.21 in /usr/local/lib/python3.10/dist-packages (from contractions) (0.0.24)\n",
            "Requirement already satisfied: anyascii in /usr/local/lib/python3.10/dist-packages (from textsearch>=0.0.21->contractions) (0.3.2)\n",
            "Requirement already satisfied: pyahocorasick in /usr/local/lib/python3.10/dist-packages (from textsearch>=0.0.21->contractions) (2.1.0)\n"
          ]
        }
      ],
      "source": [
        "!pip install contractions"
      ]
    },
    {
      "cell_type": "code",
      "execution_count": 211,
      "id": "1d7ce8c1",
      "metadata": {
        "id": "1d7ce8c1"
      },
      "outputs": [],
      "source": []
    },
    {
      "cell_type": "code",
      "execution_count": 212,
      "id": "6ea94262",
      "metadata": {
        "colab": {
          "base_uri": "https://localhost:8080/",
          "height": 36
        },
        "id": "6ea94262",
        "outputId": "566ed055-7423-4c99-a60a-43c80a1dcd22"
      },
      "outputs": [
        {
          "output_type": "execute_result",
          "data": {
            "text/plain": [
              "\"It's time for new wallpapers #phone #wallpapers #wall #screen #galaxy #samsung #app … https://www.instagram.com/p/BcsKTNNn51c/\""
            ],
            "application/vnd.google.colaboratory.intrinsic+json": {
              "type": "string"
            }
          },
          "metadata": {},
          "execution_count": 212
        }
      ],
      "source": [
        "import contractions\n",
        "data['tweet'][24]"
      ]
    },
    {
      "cell_type": "code",
      "execution_count": 213,
      "id": "c8a417a5",
      "metadata": {
        "colab": {
          "base_uri": "https://localhost:8080/",
          "height": 36
        },
        "id": "c8a417a5",
        "outputId": "a64e3316-aaf5-4f12-f6a9-2d212e8c9040"
      },
      "outputs": [
        {
          "output_type": "execute_result",
          "data": {
            "text/plain": [
              "'It is time for new wallpapers #phone #wallpapers #wall #screen #galaxy #samsung #app … https://www.instagram.com/p/BcsKTNNn51c/'"
            ],
            "application/vnd.google.colaboratory.intrinsic+json": {
              "type": "string"
            }
          },
          "metadata": {},
          "execution_count": 213
        }
      ],
      "source": [
        "contractions.fix(data['tweet'][24])"
      ]
    },
    {
      "cell_type": "markdown",
      "id": "a00fd547",
      "metadata": {
        "id": "a00fd547"
      },
      "source": [
        "## Define the Cleaner Function & Apply"
      ]
    },
    {
      "cell_type": "code",
      "execution_count": 214,
      "id": "6bcdc3be",
      "metadata": {
        "id": "6bcdc3be"
      },
      "outputs": [],
      "source": [
        "import re"
      ]
    },
    {
      "cell_type": "code",
      "execution_count": 215,
      "id": "8be4ed4b",
      "metadata": {
        "id": "8be4ed4b"
      },
      "outputs": [],
      "source": [
        "def tweet_cleaner_without_stopwords(text):\n",
        "    new_text = re.sub(r\"'s\\b\", \" is\", text)\n",
        "    new_text = re.sub(\"#\", \"\", new_text)\n",
        "    new_text = re.sub(\"@[A-Za-z0-9]+\", \"\", new_text)\n",
        "    new_text = re.sub(r\"http\\S+\", \"\", new_text)\n",
        "    new_text = contractions.fix(new_text)\n",
        "    new_text = re.sub(r\"[^a-zA-Z]\", \" \", new_text)\n",
        "    new_text = new_text.lower().strip()\n",
        "\n",
        "    cleaned_text = ''\n",
        "    for token in new_text.split():\n",
        "        cleaned_text = cleaned_text + lemmatizer.lemmatize(token) + ' '\n",
        "\n",
        "    return cleaned_text"
      ]
    },
    {
      "cell_type": "code",
      "execution_count": 216,
      "id": "5f490cc9",
      "metadata": {
        "id": "5f490cc9"
      },
      "outputs": [],
      "source": [
        "cleaned_tweets = []  # list of cleaned tweets\n",
        "for twt in data['tweet']:\n",
        "    cleaned_tweets.append(tweet_cleaner_without_stopwords(twt))"
      ]
    },
    {
      "cell_type": "code",
      "execution_count": 217,
      "id": "d0ade359",
      "metadata": {
        "colab": {
          "base_uri": "https://localhost:8080/"
        },
        "id": "d0ade359",
        "outputId": "f67c52fc-9b0c-41cc-e0b6-73f8e1d9b395"
      },
      "outputs": [
        {
          "output_type": "execute_result",
          "data": {
            "text/plain": [
              "['fingerprint pregnancy test android apps beautiful cute health igers iphoneonly iphonesia iphone ',\n",
              " 'finally a transparant silicon case thanks to my uncle yay sony xperia s sonyexperias ',\n",
              " 'we love this would you go talk makememories unplug relax iphone smartphone wifi connect ',\n",
              " 'i am wired i know i am george i wa made that way iphone cute daventry home ',\n",
              " 'what amazing service apple will not even talk to me about a question i have unless i pay them for their stupid support ']"
            ]
          },
          "metadata": {},
          "execution_count": 217
        }
      ],
      "source": [
        "cleaned_tweets[:5]"
      ]
    },
    {
      "cell_type": "code",
      "execution_count": 218,
      "id": "c9a4d13f",
      "metadata": {
        "colab": {
          "base_uri": "https://localhost:8080/",
          "height": 36
        },
        "id": "c9a4d13f",
        "outputId": "222f5dd8-5d83-48f0-af2b-43de5a06c230"
      },
      "outputs": [
        {
          "output_type": "execute_result",
          "data": {
            "text/plain": [
              "'it is time for new wallpaper phone wallpaper wall screen galaxy samsung app '"
            ],
            "application/vnd.google.colaboratory.intrinsic+json": {
              "type": "string"
            }
          },
          "metadata": {},
          "execution_count": 218
        }
      ],
      "source": [
        "cleaned_tweets[24]"
      ]
    },
    {
      "cell_type": "code",
      "execution_count": 219,
      "id": "be51e00a",
      "metadata": {
        "colab": {
          "base_uri": "https://localhost:8080/",
          "height": 53
        },
        "id": "be51e00a",
        "outputId": "f6993d43-ba87-4e60-d229-e7d4c60927ec"
      },
      "outputs": [
        {
          "output_type": "execute_result",
          "data": {
            "text/plain": [
              "'#Apple Bunch if Crooks Refused to repair/replace my beats wireless. Problem rubber on mic coming off microphones stopped working. Said warranty was void because ear piece looked chewed. Bullshit. I don’t have any animals and I would chew on anything I put in my ear. pic.twitter.com/GfgvquEpuC'"
            ],
            "application/vnd.google.colaboratory.intrinsic+json": {
              "type": "string"
            }
          },
          "metadata": {},
          "execution_count": 219
        }
      ],
      "source": [
        "data['tweet'][1500]"
      ]
    },
    {
      "cell_type": "code",
      "execution_count": 220,
      "id": "6bc838c8",
      "metadata": {
        "colab": {
          "base_uri": "https://localhost:8080/"
        },
        "id": "6bc838c8",
        "outputId": "94e8a0d3-5659-48e7-af7d-08d418bc216b"
      },
      "outputs": [
        {
          "output_type": "execute_result",
          "data": {
            "text/plain": [
              "['#Apple',\n",
              " 'Bunch',\n",
              " 'if',\n",
              " 'Crooks',\n",
              " 'Refused',\n",
              " 'to',\n",
              " 'repair/replace',\n",
              " 'my',\n",
              " 'beats',\n",
              " 'wireless.',\n",
              " 'Problem',\n",
              " 'rubber',\n",
              " 'on',\n",
              " 'mic',\n",
              " 'coming',\n",
              " 'off',\n",
              " 'microphones',\n",
              " 'stopped',\n",
              " 'working.',\n",
              " 'Said',\n",
              " 'warranty',\n",
              " 'was',\n",
              " 'void',\n",
              " 'because',\n",
              " 'ear',\n",
              " 'piece',\n",
              " 'looked',\n",
              " 'chewed.',\n",
              " 'Bullshit.',\n",
              " 'I',\n",
              " 'don’t',\n",
              " 'have',\n",
              " 'any',\n",
              " 'animals',\n",
              " 'and',\n",
              " 'I',\n",
              " 'would',\n",
              " 'chew',\n",
              " 'on',\n",
              " 'anything',\n",
              " 'I',\n",
              " 'put',\n",
              " 'in',\n",
              " 'my',\n",
              " 'ear.',\n",
              " 'pic.twitter.com/GfgvquEpuC']"
            ]
          },
          "metadata": {},
          "execution_count": 220
        }
      ],
      "source": [
        "data['tweet'][1500].split()"
      ]
    },
    {
      "cell_type": "code",
      "execution_count": 221,
      "id": "6b35606a",
      "metadata": {
        "colab": {
          "base_uri": "https://localhost:8080/",
          "height": 53
        },
        "id": "6b35606a",
        "outputId": "82417ce1-05a8-4d1b-dc97-1ec165244950"
      },
      "outputs": [
        {
          "output_type": "execute_result",
          "data": {
            "text/plain": [
              "'apple bunch if crook refused to repair replace my beat wireless problem rubber on mic coming off microphone stopped working said warranty wa void because ear piece looked chewed bullshit i do not have any animal and i would chew on anything i put in my ear pic twitter com gfgvquepuc '"
            ],
            "application/vnd.google.colaboratory.intrinsic+json": {
              "type": "string"
            }
          },
          "metadata": {},
          "execution_count": 221
        }
      ],
      "source": [
        "cleaned_tweets[1500]"
      ]
    },
    {
      "cell_type": "code",
      "execution_count": 222,
      "id": "035c3fde",
      "metadata": {
        "id": "035c3fde"
      },
      "outputs": [],
      "source": [
        "# tweet['tweet'].apply(lambda x: tweet_cleaner(x))"
      ]
    },
    {
      "cell_type": "code",
      "execution_count": 223,
      "id": "578f9e75",
      "metadata": {
        "colab": {
          "base_uri": "https://localhost:8080/",
          "height": 293
        },
        "id": "578f9e75",
        "outputId": "4bfbc1b5-1929-428c-db4e-99084951e546"
      },
      "outputs": [
        {
          "output_type": "execute_result",
          "data": {
            "text/plain": [
              "   id  label  \\\n",
              "0   1      0   \n",
              "1   2      0   \n",
              "2   3      0   \n",
              "3   4      0   \n",
              "4   5      1   \n",
              "\n",
              "                                                                                                                                 tweet  \\\n",
              "0     #fingerprint #Pregnancy Test https://goo.gl/h1MfQV #android #apps #beautiful #cute #health #igers #iphoneonly #iphonesia #iphone   \n",
              "1  Finally a transparant silicon case ^^ Thanks to my uncle :) #yay #Sony #Xperia #S #sonyexperias… http://instagram.com/p/YGEt5JC6JM/   \n",
              "2          We love this! Would you go? #talk #makememories #unplug #relax #iphone #smartphone #wifi #connect... http://fb.me/6N3LsUpCu   \n",
              "3                     I'm wired I know I'm George I was made that way ;) #iphone #cute #daventry #home http://instagr.am/p/Li_5_ujS4k/   \n",
              "4         What amazing service! Apple won't even talk to me about a question I have unless I pay them $19.95 for their stupid support!   \n",
              "\n",
              "                                                                                                     cleaned_tweets_w/o_SW  \n",
              "0                         fingerprint pregnancy test android apps beautiful cute health igers iphoneonly iphonesia iphone   \n",
              "1                                    finally a transparant silicon case thanks to my uncle yay sony xperia s sonyexperias   \n",
              "2                                 we love this would you go talk makememories unplug relax iphone smartphone wifi connect   \n",
              "3                                              i am wired i know i am george i wa made that way iphone cute daventry home   \n",
              "4  what amazing service apple will not even talk to me about a question i have unless i pay them for their stupid support   "
            ],
            "text/html": [
              "\n",
              "  <div id=\"df-685d518a-b2d7-4adc-a65a-cc1655ff7585\" class=\"colab-df-container\">\n",
              "    <div>\n",
              "<style scoped>\n",
              "    .dataframe tbody tr th:only-of-type {\n",
              "        vertical-align: middle;\n",
              "    }\n",
              "\n",
              "    .dataframe tbody tr th {\n",
              "        vertical-align: top;\n",
              "    }\n",
              "\n",
              "    .dataframe thead th {\n",
              "        text-align: right;\n",
              "    }\n",
              "</style>\n",
              "<table border=\"1\" class=\"dataframe\">\n",
              "  <thead>\n",
              "    <tr style=\"text-align: right;\">\n",
              "      <th></th>\n",
              "      <th>id</th>\n",
              "      <th>label</th>\n",
              "      <th>tweet</th>\n",
              "      <th>cleaned_tweets_w/o_SW</th>\n",
              "    </tr>\n",
              "  </thead>\n",
              "  <tbody>\n",
              "    <tr>\n",
              "      <th>0</th>\n",
              "      <td>1</td>\n",
              "      <td>0</td>\n",
              "      <td>#fingerprint #Pregnancy Test https://goo.gl/h1MfQV #android #apps #beautiful #cute #health #igers #iphoneonly #iphonesia #iphone</td>\n",
              "      <td>fingerprint pregnancy test android apps beautiful cute health igers iphoneonly iphonesia iphone</td>\n",
              "    </tr>\n",
              "    <tr>\n",
              "      <th>1</th>\n",
              "      <td>2</td>\n",
              "      <td>0</td>\n",
              "      <td>Finally a transparant silicon case ^^ Thanks to my uncle :) #yay #Sony #Xperia #S #sonyexperias… http://instagram.com/p/YGEt5JC6JM/</td>\n",
              "      <td>finally a transparant silicon case thanks to my uncle yay sony xperia s sonyexperias</td>\n",
              "    </tr>\n",
              "    <tr>\n",
              "      <th>2</th>\n",
              "      <td>3</td>\n",
              "      <td>0</td>\n",
              "      <td>We love this! Would you go? #talk #makememories #unplug #relax #iphone #smartphone #wifi #connect... http://fb.me/6N3LsUpCu</td>\n",
              "      <td>we love this would you go talk makememories unplug relax iphone smartphone wifi connect</td>\n",
              "    </tr>\n",
              "    <tr>\n",
              "      <th>3</th>\n",
              "      <td>4</td>\n",
              "      <td>0</td>\n",
              "      <td>I'm wired I know I'm George I was made that way ;) #iphone #cute #daventry #home http://instagr.am/p/Li_5_ujS4k/</td>\n",
              "      <td>i am wired i know i am george i wa made that way iphone cute daventry home</td>\n",
              "    </tr>\n",
              "    <tr>\n",
              "      <th>4</th>\n",
              "      <td>5</td>\n",
              "      <td>1</td>\n",
              "      <td>What amazing service! Apple won't even talk to me about a question I have unless I pay them $19.95 for their stupid support!</td>\n",
              "      <td>what amazing service apple will not even talk to me about a question i have unless i pay them for their stupid support</td>\n",
              "    </tr>\n",
              "  </tbody>\n",
              "</table>\n",
              "</div>\n",
              "    <div class=\"colab-df-buttons\">\n",
              "\n",
              "  <div class=\"colab-df-container\">\n",
              "    <button class=\"colab-df-convert\" onclick=\"convertToInteractive('df-685d518a-b2d7-4adc-a65a-cc1655ff7585')\"\n",
              "            title=\"Convert this dataframe to an interactive table.\"\n",
              "            style=\"display:none;\">\n",
              "\n",
              "  <svg xmlns=\"http://www.w3.org/2000/svg\" height=\"24px\" viewBox=\"0 -960 960 960\">\n",
              "    <path d=\"M120-120v-720h720v720H120Zm60-500h600v-160H180v160Zm220 220h160v-160H400v160Zm0 220h160v-160H400v160ZM180-400h160v-160H180v160Zm440 0h160v-160H620v160ZM180-180h160v-160H180v160Zm440 0h160v-160H620v160Z\"/>\n",
              "  </svg>\n",
              "    </button>\n",
              "\n",
              "  <style>\n",
              "    .colab-df-container {\n",
              "      display:flex;\n",
              "      gap: 12px;\n",
              "    }\n",
              "\n",
              "    .colab-df-convert {\n",
              "      background-color: #E8F0FE;\n",
              "      border: none;\n",
              "      border-radius: 50%;\n",
              "      cursor: pointer;\n",
              "      display: none;\n",
              "      fill: #1967D2;\n",
              "      height: 32px;\n",
              "      padding: 0 0 0 0;\n",
              "      width: 32px;\n",
              "    }\n",
              "\n",
              "    .colab-df-convert:hover {\n",
              "      background-color: #E2EBFA;\n",
              "      box-shadow: 0px 1px 2px rgba(60, 64, 67, 0.3), 0px 1px 3px 1px rgba(60, 64, 67, 0.15);\n",
              "      fill: #174EA6;\n",
              "    }\n",
              "\n",
              "    .colab-df-buttons div {\n",
              "      margin-bottom: 4px;\n",
              "    }\n",
              "\n",
              "    [theme=dark] .colab-df-convert {\n",
              "      background-color: #3B4455;\n",
              "      fill: #D2E3FC;\n",
              "    }\n",
              "\n",
              "    [theme=dark] .colab-df-convert:hover {\n",
              "      background-color: #434B5C;\n",
              "      box-shadow: 0px 1px 3px 1px rgba(0, 0, 0, 0.15);\n",
              "      filter: drop-shadow(0px 1px 2px rgba(0, 0, 0, 0.3));\n",
              "      fill: #FFFFFF;\n",
              "    }\n",
              "  </style>\n",
              "\n",
              "    <script>\n",
              "      const buttonEl =\n",
              "        document.querySelector('#df-685d518a-b2d7-4adc-a65a-cc1655ff7585 button.colab-df-convert');\n",
              "      buttonEl.style.display =\n",
              "        google.colab.kernel.accessAllowed ? 'block' : 'none';\n",
              "\n",
              "      async function convertToInteractive(key) {\n",
              "        const element = document.querySelector('#df-685d518a-b2d7-4adc-a65a-cc1655ff7585');\n",
              "        const dataTable =\n",
              "          await google.colab.kernel.invokeFunction('convertToInteractive',\n",
              "                                                    [key], {});\n",
              "        if (!dataTable) return;\n",
              "\n",
              "        const docLinkHtml = 'Like what you see? Visit the ' +\n",
              "          '<a target=\"_blank\" href=https://colab.research.google.com/notebooks/data_table.ipynb>data table notebook</a>'\n",
              "          + ' to learn more about interactive tables.';\n",
              "        element.innerHTML = '';\n",
              "        dataTable['output_type'] = 'display_data';\n",
              "        await google.colab.output.renderOutput(dataTable, element);\n",
              "        const docLink = document.createElement('div');\n",
              "        docLink.innerHTML = docLinkHtml;\n",
              "        element.appendChild(docLink);\n",
              "      }\n",
              "    </script>\n",
              "  </div>\n",
              "\n",
              "\n",
              "<div id=\"df-cd752cb5-2a20-41a0-b92f-8411aedea651\">\n",
              "  <button class=\"colab-df-quickchart\" onclick=\"quickchart('df-cd752cb5-2a20-41a0-b92f-8411aedea651')\"\n",
              "            title=\"Suggest charts\"\n",
              "            style=\"display:none;\">\n",
              "\n",
              "<svg xmlns=\"http://www.w3.org/2000/svg\" height=\"24px\"viewBox=\"0 0 24 24\"\n",
              "     width=\"24px\">\n",
              "    <g>\n",
              "        <path d=\"M19 3H5c-1.1 0-2 .9-2 2v14c0 1.1.9 2 2 2h14c1.1 0 2-.9 2-2V5c0-1.1-.9-2-2-2zM9 17H7v-7h2v7zm4 0h-2V7h2v10zm4 0h-2v-4h2v4z\"/>\n",
              "    </g>\n",
              "</svg>\n",
              "  </button>\n",
              "\n",
              "<style>\n",
              "  .colab-df-quickchart {\n",
              "      --bg-color: #E8F0FE;\n",
              "      --fill-color: #1967D2;\n",
              "      --hover-bg-color: #E2EBFA;\n",
              "      --hover-fill-color: #174EA6;\n",
              "      --disabled-fill-color: #AAA;\n",
              "      --disabled-bg-color: #DDD;\n",
              "  }\n",
              "\n",
              "  [theme=dark] .colab-df-quickchart {\n",
              "      --bg-color: #3B4455;\n",
              "      --fill-color: #D2E3FC;\n",
              "      --hover-bg-color: #434B5C;\n",
              "      --hover-fill-color: #FFFFFF;\n",
              "      --disabled-bg-color: #3B4455;\n",
              "      --disabled-fill-color: #666;\n",
              "  }\n",
              "\n",
              "  .colab-df-quickchart {\n",
              "    background-color: var(--bg-color);\n",
              "    border: none;\n",
              "    border-radius: 50%;\n",
              "    cursor: pointer;\n",
              "    display: none;\n",
              "    fill: var(--fill-color);\n",
              "    height: 32px;\n",
              "    padding: 0;\n",
              "    width: 32px;\n",
              "  }\n",
              "\n",
              "  .colab-df-quickchart:hover {\n",
              "    background-color: var(--hover-bg-color);\n",
              "    box-shadow: 0 1px 2px rgba(60, 64, 67, 0.3), 0 1px 3px 1px rgba(60, 64, 67, 0.15);\n",
              "    fill: var(--button-hover-fill-color);\n",
              "  }\n",
              "\n",
              "  .colab-df-quickchart-complete:disabled,\n",
              "  .colab-df-quickchart-complete:disabled:hover {\n",
              "    background-color: var(--disabled-bg-color);\n",
              "    fill: var(--disabled-fill-color);\n",
              "    box-shadow: none;\n",
              "  }\n",
              "\n",
              "  .colab-df-spinner {\n",
              "    border: 2px solid var(--fill-color);\n",
              "    border-color: transparent;\n",
              "    border-bottom-color: var(--fill-color);\n",
              "    animation:\n",
              "      spin 1s steps(1) infinite;\n",
              "  }\n",
              "\n",
              "  @keyframes spin {\n",
              "    0% {\n",
              "      border-color: transparent;\n",
              "      border-bottom-color: var(--fill-color);\n",
              "      border-left-color: var(--fill-color);\n",
              "    }\n",
              "    20% {\n",
              "      border-color: transparent;\n",
              "      border-left-color: var(--fill-color);\n",
              "      border-top-color: var(--fill-color);\n",
              "    }\n",
              "    30% {\n",
              "      border-color: transparent;\n",
              "      border-left-color: var(--fill-color);\n",
              "      border-top-color: var(--fill-color);\n",
              "      border-right-color: var(--fill-color);\n",
              "    }\n",
              "    40% {\n",
              "      border-color: transparent;\n",
              "      border-right-color: var(--fill-color);\n",
              "      border-top-color: var(--fill-color);\n",
              "    }\n",
              "    60% {\n",
              "      border-color: transparent;\n",
              "      border-right-color: var(--fill-color);\n",
              "    }\n",
              "    80% {\n",
              "      border-color: transparent;\n",
              "      border-right-color: var(--fill-color);\n",
              "      border-bottom-color: var(--fill-color);\n",
              "    }\n",
              "    90% {\n",
              "      border-color: transparent;\n",
              "      border-bottom-color: var(--fill-color);\n",
              "    }\n",
              "  }\n",
              "</style>\n",
              "\n",
              "  <script>\n",
              "    async function quickchart(key) {\n",
              "      const quickchartButtonEl =\n",
              "        document.querySelector('#' + key + ' button');\n",
              "      quickchartButtonEl.disabled = true;  // To prevent multiple clicks.\n",
              "      quickchartButtonEl.classList.add('colab-df-spinner');\n",
              "      try {\n",
              "        const charts = await google.colab.kernel.invokeFunction(\n",
              "            'suggestCharts', [key], {});\n",
              "      } catch (error) {\n",
              "        console.error('Error during call to suggestCharts:', error);\n",
              "      }\n",
              "      quickchartButtonEl.classList.remove('colab-df-spinner');\n",
              "      quickchartButtonEl.classList.add('colab-df-quickchart-complete');\n",
              "    }\n",
              "    (() => {\n",
              "      let quickchartButtonEl =\n",
              "        document.querySelector('#df-cd752cb5-2a20-41a0-b92f-8411aedea651 button');\n",
              "      quickchartButtonEl.style.display =\n",
              "        google.colab.kernel.accessAllowed ? 'block' : 'none';\n",
              "    })();\n",
              "  </script>\n",
              "</div>\n",
              "\n",
              "    </div>\n",
              "  </div>\n"
            ],
            "application/vnd.google.colaboratory.intrinsic+json": {
              "type": "dataframe",
              "variable_name": "data",
              "summary": "{\n  \"name\": \"data\",\n  \"rows\": 7920,\n  \"fields\": [\n    {\n      \"column\": \"id\",\n      \"properties\": {\n        \"dtype\": \"number\",\n        \"std\": 2286,\n        \"min\": 1,\n        \"max\": 7920,\n        \"num_unique_values\": 7920,\n        \"samples\": [\n          4897,\n          7540,\n          1678\n        ],\n        \"semantic_type\": \"\",\n        \"description\": \"\"\n      }\n    },\n    {\n      \"column\": \"label\",\n      \"properties\": {\n        \"dtype\": \"number\",\n        \"std\": 0,\n        \"min\": 0,\n        \"max\": 1,\n        \"num_unique_values\": 2,\n        \"samples\": [\n          1,\n          0\n        ],\n        \"semantic_type\": \"\",\n        \"description\": \"\"\n      }\n    },\n    {\n      \"column\": \"tweet\",\n      \"properties\": {\n        \"dtype\": \"string\",\n        \"num_unique_values\": 7918,\n        \"samples\": [\n          \"My face as dad gave me cards worth \\u00a320, 000.00 #gay #shopping #boy #macbook #apple #blonde #pickofthe http://instagr.am/p/Uo5Ue7H7A8/\",\n          \"@skullcandy your product is brutal, 1 headphone always stops working. Get it together #Sony ftw\"\n        ],\n        \"semantic_type\": \"\",\n        \"description\": \"\"\n      }\n    },\n    {\n      \"column\": \"cleaned_tweets_w/o_SW\",\n      \"properties\": {\n        \"dtype\": \"string\",\n        \"num_unique_values\": 7712,\n        \"samples\": [\n          \"samsung galaxy edge new super ebace geneva genevalake phone photo by b st n ge rge \",\n          \"the key to my heart teamminibar clubdrunkviners iphone lgbt guy lol comedy artpop heart \"\n        ],\n        \"semantic_type\": \"\",\n        \"description\": \"\"\n      }\n    }\n  ]\n}"
            }
          },
          "metadata": {},
          "execution_count": 223
        }
      ],
      "source": [
        "data['cleaned_tweets_w/o_SW'] = cleaned_tweets\n",
        "data.head()"
      ]
    },
    {
      "cell_type": "markdown",
      "id": "3453f45e",
      "metadata": {
        "id": "3453f45e"
      },
      "source": [
        "# 3. Data Visualization\n",
        "\n",
        "Plot the top 25 most common words in this tweets dataset"
      ]
    },
    {
      "cell_type": "code",
      "execution_count": 224,
      "id": "ad7f388f",
      "metadata": {
        "colab": {
          "base_uri": "https://localhost:8080/"
        },
        "id": "ad7f388f",
        "outputId": "c0b70039-4673-403f-9b00-6e09c2cc89c4"
      },
      "outputs": [
        {
          "output_type": "stream",
          "name": "stdout",
          "text": [
            "['#fingerprint', '#Pregnancy', 'Test', 'https://goo.gl/h1MfQV', '#android', '#apps', '#beautiful', '#cute', '#health', '#igers', '#iphoneonly', '#iphonesia', '#iphone', 'Finally', 'a', 'transparant', 'silicon', 'case', '^^', 'Thanks', 'to', 'my', 'uncle', ':)', '#yay', '#Sony', '#Xperia', '#S', '#sonyexperias…', 'http://instagram.com/p/YGEt5JC6JM/', 'We', 'love', 'this!', 'Would', 'you', 'go?', '#talk', '#makememories', '#unplug', '#relax', '#iphone', '#smartphone', '#wifi', '#connect...', 'http://fb.me/6N3LsUpCu', \"I'm\", 'wired', 'I', 'know', \"I'm\"]\n"
          ]
        },
        {
          "output_type": "execute_result",
          "data": {
            "text/plain": [
              "34348"
            ]
          },
          "metadata": {},
          "execution_count": 224
        }
      ],
      "source": [
        "# Write a code to collect all the words from all the tweets into a single list\n",
        "all_words = []\n",
        "for t in data['tweet']:\n",
        "    all_words.extend(t.split())\n",
        "\n",
        "print(all_words[:50])\n",
        "len(set(all_words)) # this is the number of unique words in the list"
      ]
    },
    {
      "cell_type": "code",
      "execution_count": 225,
      "id": "cb70565b",
      "metadata": {
        "id": "cb70565b"
      },
      "outputs": [],
      "source": [
        "import matplotlib.pyplot as plt"
      ]
    },
    {
      "cell_type": "code",
      "execution_count": 226,
      "id": "2f5bd612",
      "metadata": {
        "colab": {
          "base_uri": "https://localhost:8080/",
          "height": 585
        },
        "id": "2f5bd612",
        "outputId": "2a16002f-8364-43f6-cb3e-5a4b57100cfc"
      },
      "outputs": [
        {
          "output_type": "display_data",
          "data": {
            "text/plain": [
              "<Figure size 1200x500 with 1 Axes>"
            ],
            "image/png": "[encoded data removed]"
          },
          "metadata": {}
        }
      ],
      "source": [
        "# Frequency Distribution\n",
        "freq_dist = nltk.FreqDist(all_words)\n",
        "\n",
        "plt.figure(figsize=(12,5))\n",
        "plt.title('Top 25 most common words')\n",
        "plt.xticks(fontsize=15)\n",
        "\n",
        "freq_dist.plot(25, cumulative=False)\n",
        "\n",
        "plt.show()\n"
      ]
    },
    {
      "cell_type": "markdown",
      "id": "81bfdcfd",
      "metadata": {
        "id": "81bfdcfd"
      },
      "source": [
        "## Plot for Cleaned Tweets"
      ]
    },
    {
      "cell_type": "code",
      "execution_count": 227,
      "id": "b8c83f18",
      "metadata": {
        "colab": {
          "base_uri": "https://localhost:8080/"
        },
        "id": "b8c83f18",
        "outputId": "4c97e668-3e07-45df-cc40-e9062348217b"
      },
      "outputs": [
        {
          "output_type": "stream",
          "name": "stdout",
          "text": [
            "['fingerprint', 'pregnancy', 'test', 'android', 'apps', 'beautiful', 'cute', 'health', 'igers', 'iphoneonly', 'iphonesia', 'iphone', 'finally', 'a', 'transparant', 'silicon', 'case', 'thanks', 'to', 'my', 'uncle', 'yay', 'sony', 'xperia', 's', 'sonyexperias', 'we', 'love', 'this', 'would', 'you', 'go', 'talk', 'makememories', 'unplug', 'relax', 'iphone', 'smartphone', 'wifi', 'connect', 'i', 'am', 'wired', 'i', 'know', 'i', 'am', 'george', 'i', 'wa']\n"
          ]
        }
      ],
      "source": [
        "# Write the code for plotting the cleaned tweets\n",
        "all_words = []\n",
        "for t in data['cleaned_tweets_w/o_SW']:\n",
        "    all_words.extend(t.split())\n",
        "\n",
        "print(all_words[:50])"
      ]
    },
    {
      "cell_type": "code",
      "execution_count": 228,
      "id": "c3317753",
      "metadata": {
        "colab": {
          "base_uri": "https://localhost:8080/"
        },
        "id": "c3317753",
        "outputId": "18510c68-f071-4d72-fba2-65728a37f161"
      },
      "outputs": [
        {
          "output_type": "execute_result",
          "data": {
            "text/plain": [
              "15981"
            ]
          },
          "metadata": {},
          "execution_count": 228
        }
      ],
      "source": [
        "len(set(all_words)) # this is the number of unique words in the list"
      ]
    },
    {
      "cell_type": "code",
      "execution_count": 229,
      "id": "e170ffd8",
      "metadata": {
        "colab": {
          "base_uri": "https://localhost:8080/",
          "height": 567
        },
        "id": "e170ffd8",
        "outputId": "e62530ea-f7ff-4480-b145-6ca303e0a266"
      },
      "outputs": [
        {
          "output_type": "display_data",
          "data": {
            "text/plain": [
              "<Figure size 1200x500 with 1 Axes>"
            ],
            "image/png": "[encoded data removed]"
          },
          "metadata": {}
        }
      ],
      "source": [
        "# Frequency Distribution\n",
        "freq_dist = nltk.FreqDist(all_words)\n",
        "\n",
        "plt.figure(figsize=(12,5))\n",
        "plt.title('Top 25 most common words')\n",
        "plt.xticks(fontsize=15)\n",
        "\n",
        "freq_dist.plot(25, cumulative=False)\n",
        "\n",
        "plt.show()\n"
      ]
    },
    {
      "cell_type": "markdown",
      "id": "f961f7f9",
      "metadata": {
        "id": "f961f7f9"
      },
      "source": [
        "## DV After applying Stop words"
      ]
    },
    {
      "cell_type": "code",
      "execution_count": 230,
      "id": "271f2007",
      "metadata": {
        "colab": {
          "base_uri": "https://localhost:8080/"
        },
        "id": "271f2007",
        "outputId": "0e4c2f5e-4fea-4d33-c46f-179f65e14a01"
      },
      "outputs": [
        {
          "output_type": "execute_result",
          "data": {
            "text/plain": [
              "set"
            ]
          },
          "metadata": {},
          "execution_count": 230
        }
      ],
      "source": [
        "type(combined_stopwords)"
      ]
    },
    {
      "cell_type": "code",
      "execution_count": 231,
      "id": "ddf4f2e4",
      "metadata": {
        "id": "ddf4f2e4"
      },
      "outputs": [],
      "source": [
        "def tweet_cleaner_with_stopwords(text):\n",
        "    new_text = re.sub(r\"'s\\b\", \" is\", text)\n",
        "    new_text = re.sub(\"#\", \"\", new_text)\n",
        "    new_text = re.sub(\"@[A-Za-z0-9]+\", \"\", new_text)\n",
        "    new_text = re.sub(r\"http\\S+\", \"\", new_text)\n",
        "    new_text = contractions.fix(new_text)\n",
        "    new_text = re.sub(r\"[^a-zA-Z]\", \" \", new_text)\n",
        "    new_text = new_text.lower().strip()\n",
        "\n",
        "    new_text = [token for token in new_text.split() if token not in combined_stopwords]\n",
        "\n",
        "    new_text = [token for token in new_text if len(token)>2]\n",
        "\n",
        "    cleaned_text = ''\n",
        "    for token in new_text:\n",
        "        cleaned_text = cleaned_text + lemmatizer.lemmatize(token) + ' '\n",
        "\n",
        "    return cleaned_text"
      ]
    },
    {
      "cell_type": "code",
      "execution_count": 232,
      "id": "447a63d8",
      "metadata": {
        "colab": {
          "base_uri": "https://localhost:8080/"
        },
        "id": "447a63d8",
        "outputId": "f84abd32-1b54-433b-a8ed-e31afa645a07"
      },
      "outputs": [
        {
          "output_type": "stream",
          "name": "stdout",
          "text": [
            "['fingerprint pregnancy test android apps beautiful cute health igers iphoneonly iphonesia iphone ', 'finally transparant silicon case thanks uncle yay sony xperia sonyexperias ', 'love talk makememories unplug relax iphone smartphone wifi connect ', 'wired know george way iphone cute daventry home ', 'amazing service apple talk question unless pay stupid support ', 'iphone software update fucked phone big time stupid iphones ', 'happy instapic instadaily sony xperia xperiaz ', 'new type charger cable bay amazon etsy new year rob cross toby young evemun mcmafia taylor spectre newyear starting recipe technology samsunggalaxys iphonex pic twitter com pjiwq wtc ', 'bout shopping listening music iphone justme music likeforlike followforfollow ', 'photo fun selfie pool water sony camera picoftheday sun instagood boy cute outdoor ']\n"
          ]
        }
      ],
      "source": [
        "cleaned_tweets = list(data['tweet'].apply(tweet_cleaner_with_stopwords))\n",
        "print(cleaned_tweets[:10])"
      ]
    },
    {
      "cell_type": "code",
      "execution_count": 233,
      "id": "08f114df",
      "metadata": {
        "colab": {
          "base_uri": "https://localhost:8080/"
        },
        "id": "08f114df",
        "outputId": "c9eef21f-95a7-4b27-cb19-dd95ea1a7d5a"
      },
      "outputs": [
        {
          "output_type": "execute_result",
          "data": {
            "text/plain": [
              "Index(['id', 'label', 'tweet', 'cleaned_tweets_w/o_SW'], dtype='object')"
            ]
          },
          "metadata": {},
          "execution_count": 233
        }
      ],
      "source": [
        "data.columns"
      ]
    },
    {
      "cell_type": "code",
      "execution_count": 234,
      "id": "15ba023d",
      "metadata": {
        "colab": {
          "base_uri": "https://localhost:8080/",
          "height": 293
        },
        "id": "15ba023d",
        "outputId": "b95b5f0c-d06a-4990-8a7c-7a7a6e14acd5"
      },
      "outputs": [
        {
          "output_type": "execute_result",
          "data": {
            "text/plain": [
              "   id  label  \\\n",
              "0   1      0   \n",
              "1   2      0   \n",
              "2   3      0   \n",
              "3   4      0   \n",
              "4   5      1   \n",
              "\n",
              "                                                                                                                                 tweet  \\\n",
              "0     #fingerprint #Pregnancy Test https://goo.gl/h1MfQV #android #apps #beautiful #cute #health #igers #iphoneonly #iphonesia #iphone   \n",
              "1  Finally a transparant silicon case ^^ Thanks to my uncle :) #yay #Sony #Xperia #S #sonyexperias… http://instagram.com/p/YGEt5JC6JM/   \n",
              "2          We love this! Would you go? #talk #makememories #unplug #relax #iphone #smartphone #wifi #connect... http://fb.me/6N3LsUpCu   \n",
              "3                     I'm wired I know I'm George I was made that way ;) #iphone #cute #daventry #home http://instagr.am/p/Li_5_ujS4k/   \n",
              "4         What amazing service! Apple won't even talk to me about a question I have unless I pay them $19.95 for their stupid support!   \n",
              "\n",
              "                                                                                                     cleaned_tweets_w/o_SW  \\\n",
              "0                         fingerprint pregnancy test android apps beautiful cute health igers iphoneonly iphonesia iphone    \n",
              "1                                    finally a transparant silicon case thanks to my uncle yay sony xperia s sonyexperias    \n",
              "2                                 we love this would you go talk makememories unplug relax iphone smartphone wifi connect    \n",
              "3                                              i am wired i know i am george i wa made that way iphone cute daventry home    \n",
              "4  what amazing service apple will not even talk to me about a question i have unless i pay them for their stupid support    \n",
              "\n",
              "                                                                             cleaned_tweets_with_SW  \n",
              "0  fingerprint pregnancy test android apps beautiful cute health igers iphoneonly iphonesia iphone   \n",
              "1                       finally transparant silicon case thanks uncle yay sony xperia sonyexperias   \n",
              "2                               love talk makememories unplug relax iphone smartphone wifi connect   \n",
              "3                                                  wired know george way iphone cute daventry home   \n",
              "4                                    amazing service apple talk question unless pay stupid support   "
            ],
            "text/html": [
              "\n",
              "  <div id=\"df-843e912b-7bf5-466d-88a6-ecebb2f9c22e\" class=\"colab-df-container\">\n",
              "    <div>\n",
              "<style scoped>\n",
              "    .dataframe tbody tr th:only-of-type {\n",
              "        vertical-align: middle;\n",
              "    }\n",
              "\n",
              "    .dataframe tbody tr th {\n",
              "        vertical-align: top;\n",
              "    }\n",
              "\n",
              "    .dataframe thead th {\n",
              "        text-align: right;\n",
              "    }\n",
              "</style>\n",
              "<table border=\"1\" class=\"dataframe\">\n",
              "  <thead>\n",
              "    <tr style=\"text-align: right;\">\n",
              "      <th></th>\n",
              "      <th>id</th>\n",
              "      <th>label</th>\n",
              "      <th>tweet</th>\n",
              "      <th>cleaned_tweets_w/o_SW</th>\n",
              "      <th>cleaned_tweets_with_SW</th>\n",
              "    </tr>\n",
              "  </thead>\n",
              "  <tbody>\n",
              "    <tr>\n",
              "      <th>0</th>\n",
              "      <td>1</td>\n",
              "      <td>0</td>\n",
              "      <td>#fingerprint #Pregnancy Test https://goo.gl/h1MfQV #android #apps #beautiful #cute #health #igers #iphoneonly #iphonesia #iphone</td>\n",
              "      <td>fingerprint pregnancy test android apps beautiful cute health igers iphoneonly iphonesia iphone</td>\n",
              "      <td>fingerprint pregnancy test android apps beautiful cute health igers iphoneonly iphonesia iphone</td>\n",
              "    </tr>\n",
              "    <tr>\n",
              "      <th>1</th>\n",
              "      <td>2</td>\n",
              "      <td>0</td>\n",
              "      <td>Finally a transparant silicon case ^^ Thanks to my uncle :) #yay #Sony #Xperia #S #sonyexperias… http://instagram.com/p/YGEt5JC6JM/</td>\n",
              "      <td>finally a transparant silicon case thanks to my uncle yay sony xperia s sonyexperias</td>\n",
              "      <td>finally transparant silicon case thanks uncle yay sony xperia sonyexperias</td>\n",
              "    </tr>\n",
              "    <tr>\n",
              "      <th>2</th>\n",
              "      <td>3</td>\n",
              "      <td>0</td>\n",
              "      <td>We love this! Would you go? #talk #makememories #unplug #relax #iphone #smartphone #wifi #connect... http://fb.me/6N3LsUpCu</td>\n",
              "      <td>we love this would you go talk makememories unplug relax iphone smartphone wifi connect</td>\n",
              "      <td>love talk makememories unplug relax iphone smartphone wifi connect</td>\n",
              "    </tr>\n",
              "    <tr>\n",
              "      <th>3</th>\n",
              "      <td>4</td>\n",
              "      <td>0</td>\n",
              "      <td>I'm wired I know I'm George I was made that way ;) #iphone #cute #daventry #home http://instagr.am/p/Li_5_ujS4k/</td>\n",
              "      <td>i am wired i know i am george i wa made that way iphone cute daventry home</td>\n",
              "      <td>wired know george way iphone cute daventry home</td>\n",
              "    </tr>\n",
              "    <tr>\n",
              "      <th>4</th>\n",
              "      <td>5</td>\n",
              "      <td>1</td>\n",
              "      <td>What amazing service! Apple won't even talk to me about a question I have unless I pay them $19.95 for their stupid support!</td>\n",
              "      <td>what amazing service apple will not even talk to me about a question i have unless i pay them for their stupid support</td>\n",
              "      <td>amazing service apple talk question unless pay stupid support</td>\n",
              "    </tr>\n",
              "  </tbody>\n",
              "</table>\n",
              "</div>\n",
              "    <div class=\"colab-df-buttons\">\n",
              "\n",
              "  <div class=\"colab-df-container\">\n",
              "    <button class=\"colab-df-convert\" onclick=\"convertToInteractive('df-843e912b-7bf5-466d-88a6-ecebb2f9c22e')\"\n",
              "            title=\"Convert this dataframe to an interactive table.\"\n",
              "            style=\"display:none;\">\n",
              "\n",
              "  <svg xmlns=\"http://www.w3.org/2000/svg\" height=\"24px\" viewBox=\"0 -960 960 960\">\n",
              "    <path d=\"M120-120v-720h720v720H120Zm60-500h600v-160H180v160Zm220 220h160v-160H400v160Zm0 220h160v-160H400v160ZM180-400h160v-160H180v160Zm440 0h160v-160H620v160ZM180-180h160v-160H180v160Zm440 0h160v-160H620v160Z\"/>\n",
              "  </svg>\n",
              "    </button>\n",
              "\n",
              "  <style>\n",
              "    .colab-df-container {\n",
              "      display:flex;\n",
              "      gap: 12px;\n",
              "    }\n",
              "\n",
              "    .colab-df-convert {\n",
              "      background-color: #E8F0FE;\n",
              "      border: none;\n",
              "      border-radius: 50%;\n",
              "      cursor: pointer;\n",
              "      display: none;\n",
              "      fill: #1967D2;\n",
              "      height: 32px;\n",
              "      padding: 0 0 0 0;\n",
              "      width: 32px;\n",
              "    }\n",
              "\n",
              "    .colab-df-convert:hover {\n",
              "      background-color: #E2EBFA;\n",
              "      box-shadow: 0px 1px 2px rgba(60, 64, 67, 0.3), 0px 1px 3px 1px rgba(60, 64, 67, 0.15);\n",
              "      fill: #174EA6;\n",
              "    }\n",
              "\n",
              "    .colab-df-buttons div {\n",
              "      margin-bottom: 4px;\n",
              "    }\n",
              "\n",
              "    [theme=dark] .colab-df-convert {\n",
              "      background-color: #3B4455;\n",
              "      fill: #D2E3FC;\n",
              "    }\n",
              "\n",
              "    [theme=dark] .colab-df-convert:hover {\n",
              "      background-color: #434B5C;\n",
              "      box-shadow: 0px 1px 3px 1px rgba(0, 0, 0, 0.15);\n",
              "      filter: drop-shadow(0px 1px 2px rgba(0, 0, 0, 0.3));\n",
              "      fill: #FFFFFF;\n",
              "    }\n",
              "  </style>\n",
              "\n",
              "    <script>\n",
              "      const buttonEl =\n",
              "        document.querySelector('#df-843e912b-7bf5-466d-88a6-ecebb2f9c22e button.colab-df-convert');\n",
              "      buttonEl.style.display =\n",
              "        google.colab.kernel.accessAllowed ? 'block' : 'none';\n",
              "\n",
              "      async function convertToInteractive(key) {\n",
              "        const element = document.querySelector('#df-843e912b-7bf5-466d-88a6-ecebb2f9c22e');\n",
              "        const dataTable =\n",
              "          await google.colab.kernel.invokeFunction('convertToInteractive',\n",
              "                                                    [key], {});\n",
              "        if (!dataTable) return;\n",
              "\n",
              "        const docLinkHtml = 'Like what you see? Visit the ' +\n",
              "          '<a target=\"_blank\" href=https://colab.research.google.com/notebooks/data_table.ipynb>data table notebook</a>'\n",
              "          + ' to learn more about interactive tables.';\n",
              "        element.innerHTML = '';\n",
              "        dataTable['output_type'] = 'display_data';\n",
              "        await google.colab.output.renderOutput(dataTable, element);\n",
              "        const docLink = document.createElement('div');\n",
              "        docLink.innerHTML = docLinkHtml;\n",
              "        element.appendChild(docLink);\n",
              "      }\n",
              "    </script>\n",
              "  </div>\n",
              "\n",
              "\n",
              "<div id=\"df-992225e5-fdbf-488f-a573-aa6835418ab3\">\n",
              "  <button class=\"colab-df-quickchart\" onclick=\"quickchart('df-992225e5-fdbf-488f-a573-aa6835418ab3')\"\n",
              "            title=\"Suggest charts\"\n",
              "            style=\"display:none;\">\n",
              "\n",
              "<svg xmlns=\"http://www.w3.org/2000/svg\" height=\"24px\"viewBox=\"0 0 24 24\"\n",
              "     width=\"24px\">\n",
              "    <g>\n",
              "        <path d=\"M19 3H5c-1.1 0-2 .9-2 2v14c0 1.1.9 2 2 2h14c1.1 0 2-.9 2-2V5c0-1.1-.9-2-2-2zM9 17H7v-7h2v7zm4 0h-2V7h2v10zm4 0h-2v-4h2v4z\"/>\n",
              "    </g>\n",
              "</svg>\n",
              "  </button>\n",
              "\n",
              "<style>\n",
              "  .colab-df-quickchart {\n",
              "      --bg-color: #E8F0FE;\n",
              "      --fill-color: #1967D2;\n",
              "      --hover-bg-color: #E2EBFA;\n",
              "      --hover-fill-color: #174EA6;\n",
              "      --disabled-fill-color: #AAA;\n",
              "      --disabled-bg-color: #DDD;\n",
              "  }\n",
              "\n",
              "  [theme=dark] .colab-df-quickchart {\n",
              "      --bg-color: #3B4455;\n",
              "      --fill-color: #D2E3FC;\n",
              "      --hover-bg-color: #434B5C;\n",
              "      --hover-fill-color: #FFFFFF;\n",
              "      --disabled-bg-color: #3B4455;\n",
              "      --disabled-fill-color: #666;\n",
              "  }\n",
              "\n",
              "  .colab-df-quickchart {\n",
              "    background-color: var(--bg-color);\n",
              "    border: none;\n",
              "    border-radius: 50%;\n",
              "    cursor: pointer;\n",
              "    display: none;\n",
              "    fill: var(--fill-color);\n",
              "    height: 32px;\n",
              "    padding: 0;\n",
              "    width: 32px;\n",
              "  }\n",
              "\n",
              "  .colab-df-quickchart:hover {\n",
              "    background-color: var(--hover-bg-color);\n",
              "    box-shadow: 0 1px 2px rgba(60, 64, 67, 0.3), 0 1px 3px 1px rgba(60, 64, 67, 0.15);\n",
              "    fill: var(--button-hover-fill-color);\n",
              "  }\n",
              "\n",
              "  .colab-df-quickchart-complete:disabled,\n",
              "  .colab-df-quickchart-complete:disabled:hover {\n",
              "    background-color: var(--disabled-bg-color);\n",
              "    fill: var(--disabled-fill-color);\n",
              "    box-shadow: none;\n",
              "  }\n",
              "\n",
              "  .colab-df-spinner {\n",
              "    border: 2px solid var(--fill-color);\n",
              "    border-color: transparent;\n",
              "    border-bottom-color: var(--fill-color);\n",
              "    animation:\n",
              "      spin 1s steps(1) infinite;\n",
              "  }\n",
              "\n",
              "  @keyframes spin {\n",
              "    0% {\n",
              "      border-color: transparent;\n",
              "      border-bottom-color: var(--fill-color);\n",
              "      border-left-color: var(--fill-color);\n",
              "    }\n",
              "    20% {\n",
              "      border-color: transparent;\n",
              "      border-left-color: var(--fill-color);\n",
              "      border-top-color: var(--fill-color);\n",
              "    }\n",
              "    30% {\n",
              "      border-color: transparent;\n",
              "      border-left-color: var(--fill-color);\n",
              "      border-top-color: var(--fill-color);\n",
              "      border-right-color: var(--fill-color);\n",
              "    }\n",
              "    40% {\n",
              "      border-color: transparent;\n",
              "      border-right-color: var(--fill-color);\n",
              "      border-top-color: var(--fill-color);\n",
              "    }\n",
              "    60% {\n",
              "      border-color: transparent;\n",
              "      border-right-color: var(--fill-color);\n",
              "    }\n",
              "    80% {\n",
              "      border-color: transparent;\n",
              "      border-right-color: var(--fill-color);\n",
              "      border-bottom-color: var(--fill-color);\n",
              "    }\n",
              "    90% {\n",
              "      border-color: transparent;\n",
              "      border-bottom-color: var(--fill-color);\n",
              "    }\n",
              "  }\n",
              "</style>\n",
              "\n",
              "  <script>\n",
              "    async function quickchart(key) {\n",
              "      const quickchartButtonEl =\n",
              "        document.querySelector('#' + key + ' button');\n",
              "      quickchartButtonEl.disabled = true;  // To prevent multiple clicks.\n",
              "      quickchartButtonEl.classList.add('colab-df-spinner');\n",
              "      try {\n",
              "        const charts = await google.colab.kernel.invokeFunction(\n",
              "            'suggestCharts', [key], {});\n",
              "      } catch (error) {\n",
              "        console.error('Error during call to suggestCharts:', error);\n",
              "      }\n",
              "      quickchartButtonEl.classList.remove('colab-df-spinner');\n",
              "      quickchartButtonEl.classList.add('colab-df-quickchart-complete');\n",
              "    }\n",
              "    (() => {\n",
              "      let quickchartButtonEl =\n",
              "        document.querySelector('#df-992225e5-fdbf-488f-a573-aa6835418ab3 button');\n",
              "      quickchartButtonEl.style.display =\n",
              "        google.colab.kernel.accessAllowed ? 'block' : 'none';\n",
              "    })();\n",
              "  </script>\n",
              "</div>\n",
              "\n",
              "    </div>\n",
              "  </div>\n"
            ],
            "application/vnd.google.colaboratory.intrinsic+json": {
              "type": "dataframe",
              "variable_name": "data",
              "summary": "{\n  \"name\": \"data\",\n  \"rows\": 7920,\n  \"fields\": [\n    {\n      \"column\": \"id\",\n      \"properties\": {\n        \"dtype\": \"number\",\n        \"std\": 2286,\n        \"min\": 1,\n        \"max\": 7920,\n        \"num_unique_values\": 7920,\n        \"samples\": [\n          4897,\n          7540,\n          1678\n        ],\n        \"semantic_type\": \"\",\n        \"description\": \"\"\n      }\n    },\n    {\n      \"column\": \"label\",\n      \"properties\": {\n        \"dtype\": \"number\",\n        \"std\": 0,\n        \"min\": 0,\n        \"max\": 1,\n        \"num_unique_values\": 2,\n        \"samples\": [\n          1,\n          0\n        ],\n        \"semantic_type\": \"\",\n        \"description\": \"\"\n      }\n    },\n    {\n      \"column\": \"tweet\",\n      \"properties\": {\n        \"dtype\": \"string\",\n        \"num_unique_values\": 7918,\n        \"samples\": [\n          \"My face as dad gave me cards worth \\u00a320, 000.00 #gay #shopping #boy #macbook #apple #blonde #pickofthe http://instagr.am/p/Uo5Ue7H7A8/\",\n          \"@skullcandy your product is brutal, 1 headphone always stops working. Get it together #Sony ftw\"\n        ],\n        \"semantic_type\": \"\",\n        \"description\": \"\"\n      }\n    },\n    {\n      \"column\": \"cleaned_tweets_w/o_SW\",\n      \"properties\": {\n        \"dtype\": \"string\",\n        \"num_unique_values\": 7712,\n        \"samples\": [\n          \"samsung galaxy edge new super ebace geneva genevalake phone photo by b st n ge rge \",\n          \"the key to my heart teamminibar clubdrunkviners iphone lgbt guy lol comedy artpop heart \"\n        ],\n        \"semantic_type\": \"\",\n        \"description\": \"\"\n      }\n    },\n    {\n      \"column\": \"cleaned_tweets_with_SW\",\n      \"properties\": {\n        \"dtype\": \"string\",\n        \"num_unique_values\": 7585,\n        \"samples\": [\n          \"iphone slowly braking screen cracked charge \",\n          \"make smartphones webos palm died android sstinkybad \"\n        ],\n        \"semantic_type\": \"\",\n        \"description\": \"\"\n      }\n    }\n  ]\n}"
            }
          },
          "metadata": {},
          "execution_count": 234
        }
      ],
      "source": [
        "data['cleaned_tweets_with_SW'] = cleaned_tweets\n",
        "data.head()"
      ]
    },
    {
      "cell_type": "code",
      "execution_count": 235,
      "id": "4a9cd5ff",
      "metadata": {
        "colab": {
          "base_uri": "https://localhost:8080/",
          "height": 643
        },
        "id": "4a9cd5ff",
        "outputId": "522a99cd-2d7d-4568-dca3-a12ae0d42c7a"
      },
      "outputs": [
        {
          "output_type": "stream",
          "name": "stdout",
          "text": [
            "['fingerprint', 'pregnancy', 'test', 'android', 'apps', 'beautiful', 'cute', 'health', 'igers', 'iphoneonly', 'iphonesia', 'iphone', 'finally', 'transparant', 'silicon', 'case', 'thanks', 'uncle', 'yay', 'sony', 'xperia', 'sonyexperias', 'love', 'talk', 'makememories', 'unplug', 'relax', 'iphone', 'smartphone', 'wifi', 'connect', 'wired', 'know', 'george', 'way', 'iphone', 'cute', 'daventry', 'home', 'amazing', 'service', 'apple', 'talk', 'question', 'unless', 'pay', 'stupid', 'support', 'iphone', 'software']\n"
          ]
        },
        {
          "output_type": "display_data",
          "data": {
            "text/plain": [
              "<Figure size 1200x500 with 1 Axes>"
            ],
            "image/png": "[encoded data removed]"
          },
          "metadata": {}
        }
      ],
      "source": [
        "all_words = []\n",
        "for t in data['cleaned_tweets_with_SW']:\n",
        "    all_words.extend(t.split())\n",
        "\n",
        "print(all_words[:50])\n",
        "\n",
        "# Frequency Distribution\n",
        "freq_dist = nltk.FreqDist(all_words)\n",
        "\n",
        "plt.figure(figsize=(12,5))\n",
        "plt.title('Top 25 most common words')\n",
        "plt.xticks(fontsize=15)\n",
        "\n",
        "freq_dist.plot(25, cumulative=False)\n",
        "\n",
        "plt.show()"
      ]
    },
    {
      "cell_type": "code",
      "execution_count": 236,
      "id": "3c403194",
      "metadata": {
        "id": "3c403194"
      },
      "outputs": [],
      "source": [
        "domain_stopwords = ['phone', 'mobile', 'twitter', 'rt', 'com', 'follow']\n",
        "final_stopwords = domain_stopwords + list(combined_stopwords)"
      ]
    },
    {
      "cell_type": "code",
      "execution_count": 237,
      "id": "37b2ed4b",
      "metadata": {
        "id": "37b2ed4b"
      },
      "outputs": [],
      "source": [
        "# HW: re-do the cleaner function to include final_stopwords\n",
        "# and re-plot and see what more come up!"
      ]
    },
    {
      "cell_type": "code",
      "execution_count": 238,
      "id": "5cdc409a",
      "metadata": {
        "colab": {
          "base_uri": "https://localhost:8080/",
          "height": 293
        },
        "id": "5cdc409a",
        "outputId": "833902b8-2274-4d40-831d-51e6997e726d"
      },
      "outputs": [
        {
          "output_type": "execute_result",
          "data": {
            "text/plain": [
              "   id  label  \\\n",
              "0   1      0   \n",
              "1   2      0   \n",
              "2   3      0   \n",
              "3   4      0   \n",
              "4   5      1   \n",
              "\n",
              "                                                                                                                                 tweet  \\\n",
              "0     #fingerprint #Pregnancy Test https://goo.gl/h1MfQV #android #apps #beautiful #cute #health #igers #iphoneonly #iphonesia #iphone   \n",
              "1  Finally a transparant silicon case ^^ Thanks to my uncle :) #yay #Sony #Xperia #S #sonyexperias… http://instagram.com/p/YGEt5JC6JM/   \n",
              "2          We love this! Would you go? #talk #makememories #unplug #relax #iphone #smartphone #wifi #connect... http://fb.me/6N3LsUpCu   \n",
              "3                     I'm wired I know I'm George I was made that way ;) #iphone #cute #daventry #home http://instagr.am/p/Li_5_ujS4k/   \n",
              "4         What amazing service! Apple won't even talk to me about a question I have unless I pay them $19.95 for their stupid support!   \n",
              "\n",
              "                                                                                                     cleaned_tweets_w/o_SW  \\\n",
              "0                         fingerprint pregnancy test android apps beautiful cute health igers iphoneonly iphonesia iphone    \n",
              "1                                    finally a transparant silicon case thanks to my uncle yay sony xperia s sonyexperias    \n",
              "2                                 we love this would you go talk makememories unplug relax iphone smartphone wifi connect    \n",
              "3                                              i am wired i know i am george i wa made that way iphone cute daventry home    \n",
              "4  what amazing service apple will not even talk to me about a question i have unless i pay them for their stupid support    \n",
              "\n",
              "                                                                             cleaned_tweets_with_SW  \n",
              "0  fingerprint pregnancy test android apps beautiful cute health igers iphoneonly iphonesia iphone   \n",
              "1                       finally transparant silicon case thanks uncle yay sony xperia sonyexperias   \n",
              "2                               love talk makememories unplug relax iphone smartphone wifi connect   \n",
              "3                                                  wired know george way iphone cute daventry home   \n",
              "4                                    amazing service apple talk question unless pay stupid support   "
            ],
            "text/html": [
              "\n",
              "  <div id=\"df-ee406094-5122-48a4-bf09-5297b68c6fce\" class=\"colab-df-container\">\n",
              "    <div>\n",
              "<style scoped>\n",
              "    .dataframe tbody tr th:only-of-type {\n",
              "        vertical-align: middle;\n",
              "    }\n",
              "\n",
              "    .dataframe tbody tr th {\n",
              "        vertical-align: top;\n",
              "    }\n",
              "\n",
              "    .dataframe thead th {\n",
              "        text-align: right;\n",
              "    }\n",
              "</style>\n",
              "<table border=\"1\" class=\"dataframe\">\n",
              "  <thead>\n",
              "    <tr style=\"text-align: right;\">\n",
              "      <th></th>\n",
              "      <th>id</th>\n",
              "      <th>label</th>\n",
              "      <th>tweet</th>\n",
              "      <th>cleaned_tweets_w/o_SW</th>\n",
              "      <th>cleaned_tweets_with_SW</th>\n",
              "    </tr>\n",
              "  </thead>\n",
              "  <tbody>\n",
              "    <tr>\n",
              "      <th>0</th>\n",
              "      <td>1</td>\n",
              "      <td>0</td>\n",
              "      <td>#fingerprint #Pregnancy Test https://goo.gl/h1MfQV #android #apps #beautiful #cute #health #igers #iphoneonly #iphonesia #iphone</td>\n",
              "      <td>fingerprint pregnancy test android apps beautiful cute health igers iphoneonly iphonesia iphone</td>\n",
              "      <td>fingerprint pregnancy test android apps beautiful cute health igers iphoneonly iphonesia iphone</td>\n",
              "    </tr>\n",
              "    <tr>\n",
              "      <th>1</th>\n",
              "      <td>2</td>\n",
              "      <td>0</td>\n",
              "      <td>Finally a transparant silicon case ^^ Thanks to my uncle :) #yay #Sony #Xperia #S #sonyexperias… http://instagram.com/p/YGEt5JC6JM/</td>\n",
              "      <td>finally a transparant silicon case thanks to my uncle yay sony xperia s sonyexperias</td>\n",
              "      <td>finally transparant silicon case thanks uncle yay sony xperia sonyexperias</td>\n",
              "    </tr>\n",
              "    <tr>\n",
              "      <th>2</th>\n",
              "      <td>3</td>\n",
              "      <td>0</td>\n",
              "      <td>We love this! Would you go? #talk #makememories #unplug #relax #iphone #smartphone #wifi #connect... http://fb.me/6N3LsUpCu</td>\n",
              "      <td>we love this would you go talk makememories unplug relax iphone smartphone wifi connect</td>\n",
              "      <td>love talk makememories unplug relax iphone smartphone wifi connect</td>\n",
              "    </tr>\n",
              "    <tr>\n",
              "      <th>3</th>\n",
              "      <td>4</td>\n",
              "      <td>0</td>\n",
              "      <td>I'm wired I know I'm George I was made that way ;) #iphone #cute #daventry #home http://instagr.am/p/Li_5_ujS4k/</td>\n",
              "      <td>i am wired i know i am george i wa made that way iphone cute daventry home</td>\n",
              "      <td>wired know george way iphone cute daventry home</td>\n",
              "    </tr>\n",
              "    <tr>\n",
              "      <th>4</th>\n",
              "      <td>5</td>\n",
              "      <td>1</td>\n",
              "      <td>What amazing service! Apple won't even talk to me about a question I have unless I pay them $19.95 for their stupid support!</td>\n",
              "      <td>what amazing service apple will not even talk to me about a question i have unless i pay them for their stupid support</td>\n",
              "      <td>amazing service apple talk question unless pay stupid support</td>\n",
              "    </tr>\n",
              "  </tbody>\n",
              "</table>\n",
              "</div>\n",
              "    <div class=\"colab-df-buttons\">\n",
              "\n",
              "  <div class=\"colab-df-container\">\n",
              "    <button class=\"colab-df-convert\" onclick=\"convertToInteractive('df-ee406094-5122-48a4-bf09-5297b68c6fce')\"\n",
              "            title=\"Convert this dataframe to an interactive table.\"\n",
              "            style=\"display:none;\">\n",
              "\n",
              "  <svg xmlns=\"http://www.w3.org/2000/svg\" height=\"24px\" viewBox=\"0 -960 960 960\">\n",
              "    <path d=\"M120-120v-720h720v720H120Zm60-500h600v-160H180v160Zm220 220h160v-160H400v160Zm0 220h160v-160H400v160ZM180-400h160v-160H180v160Zm440 0h160v-160H620v160ZM180-180h160v-160H180v160Zm440 0h160v-160H620v160Z\"/>\n",
              "  </svg>\n",
              "    </button>\n",
              "\n",
              "  <style>\n",
              "    .colab-df-container {\n",
              "      display:flex;\n",
              "      gap: 12px;\n",
              "    }\n",
              "\n",
              "    .colab-df-convert {\n",
              "      background-color: #E8F0FE;\n",
              "      border: none;\n",
              "      border-radius: 50%;\n",
              "      cursor: pointer;\n",
              "      display: none;\n",
              "      fill: #1967D2;\n",
              "      height: 32px;\n",
              "      padding: 0 0 0 0;\n",
              "      width: 32px;\n",
              "    }\n",
              "\n",
              "    .colab-df-convert:hover {\n",
              "      background-color: #E2EBFA;\n",
              "      box-shadow: 0px 1px 2px rgba(60, 64, 67, 0.3), 0px 1px 3px 1px rgba(60, 64, 67, 0.15);\n",
              "      fill: #174EA6;\n",
              "    }\n",
              "\n",
              "    .colab-df-buttons div {\n",
              "      margin-bottom: 4px;\n",
              "    }\n",
              "\n",
              "    [theme=dark] .colab-df-convert {\n",
              "      background-color: #3B4455;\n",
              "      fill: #D2E3FC;\n",
              "    }\n",
              "\n",
              "    [theme=dark] .colab-df-convert:hover {\n",
              "      background-color: #434B5C;\n",
              "      box-shadow: 0px 1px 3px 1px rgba(0, 0, 0, 0.15);\n",
              "      filter: drop-shadow(0px 1px 2px rgba(0, 0, 0, 0.3));\n",
              "      fill: #FFFFFF;\n",
              "    }\n",
              "  </style>\n",
              "\n",
              "    <script>\n",
              "      const buttonEl =\n",
              "        document.querySelector('#df-ee406094-5122-48a4-bf09-5297b68c6fce button.colab-df-convert');\n",
              "      buttonEl.style.display =\n",
              "        google.colab.kernel.accessAllowed ? 'block' : 'none';\n",
              "\n",
              "      async function convertToInteractive(key) {\n",
              "        const element = document.querySelector('#df-ee406094-5122-48a4-bf09-5297b68c6fce');\n",
              "        const dataTable =\n",
              "          await google.colab.kernel.invokeFunction('convertToInteractive',\n",
              "                                                    [key], {});\n",
              "        if (!dataTable) return;\n",
              "\n",
              "        const docLinkHtml = 'Like what you see? Visit the ' +\n",
              "          '<a target=\"_blank\" href=https://colab.research.google.com/notebooks/data_table.ipynb>data table notebook</a>'\n",
              "          + ' to learn more about interactive tables.';\n",
              "        element.innerHTML = '';\n",
              "        dataTable['output_type'] = 'display_data';\n",
              "        await google.colab.output.renderOutput(dataTable, element);\n",
              "        const docLink = document.createElement('div');\n",
              "        docLink.innerHTML = docLinkHtml;\n",
              "        element.appendChild(docLink);\n",
              "      }\n",
              "    </script>\n",
              "  </div>\n",
              "\n",
              "\n",
              "<div id=\"df-f9de5bea-55c3-4e52-a4d2-fe7feaa4cae2\">\n",
              "  <button class=\"colab-df-quickchart\" onclick=\"quickchart('df-f9de5bea-55c3-4e52-a4d2-fe7feaa4cae2')\"\n",
              "            title=\"Suggest charts\"\n",
              "            style=\"display:none;\">\n",
              "\n",
              "<svg xmlns=\"http://www.w3.org/2000/svg\" height=\"24px\"viewBox=\"0 0 24 24\"\n",
              "     width=\"24px\">\n",
              "    <g>\n",
              "        <path d=\"M19 3H5c-1.1 0-2 .9-2 2v14c0 1.1.9 2 2 2h14c1.1 0 2-.9 2-2V5c0-1.1-.9-2-2-2zM9 17H7v-7h2v7zm4 0h-2V7h2v10zm4 0h-2v-4h2v4z\"/>\n",
              "    </g>\n",
              "</svg>\n",
              "  </button>\n",
              "\n",
              "<style>\n",
              "  .colab-df-quickchart {\n",
              "      --bg-color: #E8F0FE;\n",
              "      --fill-color: #1967D2;\n",
              "      --hover-bg-color: #E2EBFA;\n",
              "      --hover-fill-color: #174EA6;\n",
              "      --disabled-fill-color: #AAA;\n",
              "      --disabled-bg-color: #DDD;\n",
              "  }\n",
              "\n",
              "  [theme=dark] .colab-df-quickchart {\n",
              "      --bg-color: #3B4455;\n",
              "      --fill-color: #D2E3FC;\n",
              "      --hover-bg-color: #434B5C;\n",
              "      --hover-fill-color: #FFFFFF;\n",
              "      --disabled-bg-color: #3B4455;\n",
              "      --disabled-fill-color: #666;\n",
              "  }\n",
              "\n",
              "  .colab-df-quickchart {\n",
              "    background-color: var(--bg-color);\n",
              "    border: none;\n",
              "    border-radius: 50%;\n",
              "    cursor: pointer;\n",
              "    display: none;\n",
              "    fill: var(--fill-color);\n",
              "    height: 32px;\n",
              "    padding: 0;\n",
              "    width: 32px;\n",
              "  }\n",
              "\n",
              "  .colab-df-quickchart:hover {\n",
              "    background-color: var(--hover-bg-color);\n",
              "    box-shadow: 0 1px 2px rgba(60, 64, 67, 0.3), 0 1px 3px 1px rgba(60, 64, 67, 0.15);\n",
              "    fill: var(--button-hover-fill-color);\n",
              "  }\n",
              "\n",
              "  .colab-df-quickchart-complete:disabled,\n",
              "  .colab-df-quickchart-complete:disabled:hover {\n",
              "    background-color: var(--disabled-bg-color);\n",
              "    fill: var(--disabled-fill-color);\n",
              "    box-shadow: none;\n",
              "  }\n",
              "\n",
              "  .colab-df-spinner {\n",
              "    border: 2px solid var(--fill-color);\n",
              "    border-color: transparent;\n",
              "    border-bottom-color: var(--fill-color);\n",
              "    animation:\n",
              "      spin 1s steps(1) infinite;\n",
              "  }\n",
              "\n",
              "  @keyframes spin {\n",
              "    0% {\n",
              "      border-color: transparent;\n",
              "      border-bottom-color: var(--fill-color);\n",
              "      border-left-color: var(--fill-color);\n",
              "    }\n",
              "    20% {\n",
              "      border-color: transparent;\n",
              "      border-left-color: var(--fill-color);\n",
              "      border-top-color: var(--fill-color);\n",
              "    }\n",
              "    30% {\n",
              "      border-color: transparent;\n",
              "      border-left-color: var(--fill-color);\n",
              "      border-top-color: var(--fill-color);\n",
              "      border-right-color: var(--fill-color);\n",
              "    }\n",
              "    40% {\n",
              "      border-color: transparent;\n",
              "      border-right-color: var(--fill-color);\n",
              "      border-top-color: var(--fill-color);\n",
              "    }\n",
              "    60% {\n",
              "      border-color: transparent;\n",
              "      border-right-color: var(--fill-color);\n",
              "    }\n",
              "    80% {\n",
              "      border-color: transparent;\n",
              "      border-right-color: var(--fill-color);\n",
              "      border-bottom-color: var(--fill-color);\n",
              "    }\n",
              "    90% {\n",
              "      border-color: transparent;\n",
              "      border-bottom-color: var(--fill-color);\n",
              "    }\n",
              "  }\n",
              "</style>\n",
              "\n",
              "  <script>\n",
              "    async function quickchart(key) {\n",
              "      const quickchartButtonEl =\n",
              "        document.querySelector('#' + key + ' button');\n",
              "      quickchartButtonEl.disabled = true;  // To prevent multiple clicks.\n",
              "      quickchartButtonEl.classList.add('colab-df-spinner');\n",
              "      try {\n",
              "        const charts = await google.colab.kernel.invokeFunction(\n",
              "            'suggestCharts', [key], {});\n",
              "      } catch (error) {\n",
              "        console.error('Error during call to suggestCharts:', error);\n",
              "      }\n",
              "      quickchartButtonEl.classList.remove('colab-df-spinner');\n",
              "      quickchartButtonEl.classList.add('colab-df-quickchart-complete');\n",
              "    }\n",
              "    (() => {\n",
              "      let quickchartButtonEl =\n",
              "        document.querySelector('#df-f9de5bea-55c3-4e52-a4d2-fe7feaa4cae2 button');\n",
              "      quickchartButtonEl.style.display =\n",
              "        google.colab.kernel.accessAllowed ? 'block' : 'none';\n",
              "    })();\n",
              "  </script>\n",
              "</div>\n",
              "\n",
              "    </div>\n",
              "  </div>\n"
            ],
            "application/vnd.google.colaboratory.intrinsic+json": {
              "type": "dataframe",
              "variable_name": "data",
              "summary": "{\n  \"name\": \"data\",\n  \"rows\": 7920,\n  \"fields\": [\n    {\n      \"column\": \"id\",\n      \"properties\": {\n        \"dtype\": \"number\",\n        \"std\": 2286,\n        \"min\": 1,\n        \"max\": 7920,\n        \"num_unique_values\": 7920,\n        \"samples\": [\n          4897,\n          7540,\n          1678\n        ],\n        \"semantic_type\": \"\",\n        \"description\": \"\"\n      }\n    },\n    {\n      \"column\": \"label\",\n      \"properties\": {\n        \"dtype\": \"number\",\n        \"std\": 0,\n        \"min\": 0,\n        \"max\": 1,\n        \"num_unique_values\": 2,\n        \"samples\": [\n          1,\n          0\n        ],\n        \"semantic_type\": \"\",\n        \"description\": \"\"\n      }\n    },\n    {\n      \"column\": \"tweet\",\n      \"properties\": {\n        \"dtype\": \"string\",\n        \"num_unique_values\": 7918,\n        \"samples\": [\n          \"My face as dad gave me cards worth \\u00a320, 000.00 #gay #shopping #boy #macbook #apple #blonde #pickofthe http://instagr.am/p/Uo5Ue7H7A8/\",\n          \"@skullcandy your product is brutal, 1 headphone always stops working. Get it together #Sony ftw\"\n        ],\n        \"semantic_type\": \"\",\n        \"description\": \"\"\n      }\n    },\n    {\n      \"column\": \"cleaned_tweets_w/o_SW\",\n      \"properties\": {\n        \"dtype\": \"string\",\n        \"num_unique_values\": 7712,\n        \"samples\": [\n          \"samsung galaxy edge new super ebace geneva genevalake phone photo by b st n ge rge \",\n          \"the key to my heart teamminibar clubdrunkviners iphone lgbt guy lol comedy artpop heart \"\n        ],\n        \"semantic_type\": \"\",\n        \"description\": \"\"\n      }\n    },\n    {\n      \"column\": \"cleaned_tweets_with_SW\",\n      \"properties\": {\n        \"dtype\": \"string\",\n        \"num_unique_values\": 7585,\n        \"samples\": [\n          \"iphone slowly braking screen cracked charge \",\n          \"make smartphones webos palm died android sstinkybad \"\n        ],\n        \"semantic_type\": \"\",\n        \"description\": \"\"\n      }\n    }\n  ]\n}"
            }
          },
          "metadata": {},
          "execution_count": 238
        }
      ],
      "source": [
        "data.head()"
      ]
    },
    {
      "cell_type": "markdown",
      "id": "9e67d67d",
      "metadata": {
        "id": "9e67d67d"
      },
      "source": [
        "# 4. Bag of Words Model (Feature Extraction)\n",
        "\n",
        "- Countvectorizer\n",
        "- TF-IDF Vectorizer"
      ]
    },
    {
      "cell_type": "code",
      "execution_count": 239,
      "id": "648429e5",
      "metadata": {
        "colab": {
          "base_uri": "https://localhost:8080/"
        },
        "id": "648429e5",
        "outputId": "8509ff77-66d8-448c-f428-6d1dced27a01"
      },
      "outputs": [
        {
          "output_type": "execute_result",
          "data": {
            "text/plain": [
              "(7920, 5)"
            ]
          },
          "metadata": {},
          "execution_count": 239
        }
      ],
      "source": [
        "data.shape"
      ]
    },
    {
      "cell_type": "code",
      "execution_count": 240,
      "id": "5ca6d51a",
      "metadata": {
        "id": "5ca6d51a"
      },
      "outputs": [],
      "source": [
        "from sklearn.feature_extraction.text import CountVectorizer\n",
        "\n",
        "CV = CountVectorizer()\n",
        "CV_features = CV.fit_transform(data['cleaned_tweets_w/o_SW'])\n"
      ]
    },
    {
      "cell_type": "code",
      "execution_count": 241,
      "id": "00eed834",
      "metadata": {
        "colab": {
          "base_uri": "https://localhost:8080/"
        },
        "id": "00eed834",
        "outputId": "a6478244-7e5c-42c0-c9be-f2f30444fa53"
      },
      "outputs": [
        {
          "output_type": "execute_result",
          "data": {
            "text/plain": [
              "(7920, 15955)"
            ]
          },
          "metadata": {},
          "execution_count": 241
        }
      ],
      "source": [
        "CV_features.shape"
      ]
    },
    {
      "cell_type": "code",
      "execution_count": 242,
      "id": "6dda76be",
      "metadata": {
        "colab": {
          "base_uri": "https://localhost:8080/"
        },
        "id": "6dda76be",
        "outputId": "1f2fc81d-e0c4-4e8c-d6d3-6fce9676692d"
      },
      "outputs": [
        {
          "output_type": "execute_result",
          "data": {
            "text/plain": [
              "<1x15955 sparse matrix of type '<class 'numpy.int64'>'\n",
              "\twith 12 stored elements in Compressed Sparse Row format>"
            ]
          },
          "metadata": {},
          "execution_count": 242
        }
      ],
      "source": [
        "CV_features[0]"
      ]
    },
    {
      "cell_type": "code",
      "execution_count": 243,
      "id": "8d779cdb",
      "metadata": {
        "colab": {
          "base_uri": "https://localhost:8080/",
          "height": 186
        },
        "id": "8d779cdb",
        "outputId": "71663116-cf99-4302-da3d-7325df24faff"
      },
      "outputs": [
        {
          "output_type": "execute_result",
          "data": {
            "text/plain": [
              "scipy.sparse._csr.csr_matrix"
            ],
            "text/html": [
              "<div style=\"max-width:800px; border: 1px solid var(--colab-border-color);\"><style>\n",
              "      pre.function-repr-contents {\n",
              "        overflow-x: auto;\n",
              "        padding: 8px 12px;\n",
              "        max-height: 500px;\n",
              "      }\n",
              "\n",
              "      pre.function-repr-contents.function-repr-contents-collapsed {\n",
              "        cursor: pointer;\n",
              "        max-height: 100px;\n",
              "      }\n",
              "    </style>\n",
              "    <pre style=\"white-space: initial; background:\n",
              "         var(--colab-secondary-surface-color); padding: 8px 12px;\n",
              "         border-bottom: 1px solid var(--colab-border-color);\"><b>scipy.sparse._csr.csr_matrix</b><br/>def __init__(arg1, shape=None, dtype=None, copy=False)</pre><pre class=\"function-repr-contents function-repr-contents-collapsed\" style=\"\"><a class=\"filepath\" style=\"display:none\" href=\"#\">/usr/local/lib/python3.10/dist-packages/scipy/sparse/_csr.py</a>Compressed Sparse Row matrix\n",
              "\n",
              "This can be instantiated in several ways:\n",
              "    csr_array(D)\n",
              "        with a dense matrix or rank-2 ndarray D\n",
              "\n",
              "    csr_array(S)\n",
              "        with another sparse matrix S (equivalent to S.tocsr())\n",
              "\n",
              "    csr_array((M, N), [dtype])\n",
              "        to construct an empty matrix with shape (M, N)\n",
              "        dtype is optional, defaulting to dtype=&#x27;d&#x27;.\n",
              "\n",
              "    csr_array((data, (row_ind, col_ind)), [shape=(M, N)])\n",
              "        where ``data``, ``row_ind`` and ``col_ind`` satisfy the\n",
              "        relationship ``a[row_ind[k], col_ind[k]] = data[k]``.\n",
              "\n",
              "    csr_array((data, indices, indptr), [shape=(M, N)])\n",
              "        is the standard CSR representation where the column indices for\n",
              "        row i are stored in ``indices[indptr[i]:indptr[i+1]]`` and their\n",
              "        corresponding values are stored in ``data[indptr[i]:indptr[i+1]]``.\n",
              "        If the shape parameter is not supplied, the matrix dimensions\n",
              "        are inferred from the index arrays.\n",
              "\n",
              "Attributes\n",
              "----------\n",
              "dtype : dtype\n",
              "    Data type of the matrix\n",
              "shape : 2-tuple\n",
              "    Shape of the matrix\n",
              "ndim : int\n",
              "    Number of dimensions (this is always 2)\n",
              "nnz\n",
              "    Number of stored values, including explicit zeros\n",
              "data\n",
              "    CSR format data array of the matrix\n",
              "indices\n",
              "    CSR format index array of the matrix\n",
              "indptr\n",
              "    CSR format index pointer array of the matrix\n",
              "has_sorted_indices\n",
              "    Whether indices are sorted\n",
              "\n",
              "Notes\n",
              "-----\n",
              "\n",
              "Sparse matrices can be used in arithmetic operations: they support\n",
              "addition, subtraction, multiplication, division, and matrix power.\n",
              "\n",
              "Advantages of the CSR format\n",
              "  - efficient arithmetic operations CSR + CSR, CSR * CSR, etc.\n",
              "  - efficient row slicing\n",
              "  - fast matrix vector products\n",
              "\n",
              "Disadvantages of the CSR format\n",
              "  - slow column slicing operations (consider CSC)\n",
              "  - changes to the sparsity structure are expensive (consider LIL or DOK)\n",
              "\n",
              "Canonical Format\n",
              "    - Within each row, indices are sorted by column.\n",
              "    - There are no duplicate entries.\n",
              "\n",
              "Examples\n",
              "--------\n",
              "\n",
              "&gt;&gt;&gt; import numpy as np\n",
              "&gt;&gt;&gt; from scipy.sparse import csr_array\n",
              "&gt;&gt;&gt; csr_array((3, 4), dtype=np.int8).toarray()\n",
              "array([[0, 0, 0, 0],\n",
              "       [0, 0, 0, 0],\n",
              "       [0, 0, 0, 0]], dtype=int8)\n",
              "\n",
              "&gt;&gt;&gt; row = np.array([0, 0, 1, 2, 2, 2])\n",
              "&gt;&gt;&gt; col = np.array([0, 2, 2, 0, 1, 2])\n",
              "&gt;&gt;&gt; data = np.array([1, 2, 3, 4, 5, 6])\n",
              "&gt;&gt;&gt; csr_array((data, (row, col)), shape=(3, 3)).toarray()\n",
              "array([[1, 0, 2],\n",
              "       [0, 0, 3],\n",
              "       [4, 5, 6]])\n",
              "\n",
              "&gt;&gt;&gt; indptr = np.array([0, 2, 3, 6])\n",
              "&gt;&gt;&gt; indices = np.array([0, 2, 2, 0, 1, 2])\n",
              "&gt;&gt;&gt; data = np.array([1, 2, 3, 4, 5, 6])\n",
              "&gt;&gt;&gt; csr_array((data, indices, indptr), shape=(3, 3)).toarray()\n",
              "array([[1, 0, 2],\n",
              "       [0, 0, 3],\n",
              "       [4, 5, 6]])\n",
              "\n",
              "Duplicate entries are summed together:\n",
              "\n",
              "&gt;&gt;&gt; row = np.array([0, 1, 2, 0])\n",
              "&gt;&gt;&gt; col = np.array([0, 1, 1, 0])\n",
              "&gt;&gt;&gt; data = np.array([1, 2, 4, 8])\n",
              "&gt;&gt;&gt; csr_array((data, (row, col)), shape=(3, 3)).toarray()\n",
              "array([[9, 0, 0],\n",
              "       [0, 2, 0],\n",
              "       [0, 4, 0]])\n",
              "\n",
              "As an example of how to construct a CSR matrix incrementally,\n",
              "the following snippet builds a term-document matrix from texts:\n",
              "\n",
              "&gt;&gt;&gt; docs = [[&quot;hello&quot;, &quot;world&quot;, &quot;hello&quot;], [&quot;goodbye&quot;, &quot;cruel&quot;, &quot;world&quot;]]\n",
              "&gt;&gt;&gt; indptr = [0]\n",
              "&gt;&gt;&gt; indices = []\n",
              "&gt;&gt;&gt; data = []\n",
              "&gt;&gt;&gt; vocabulary = {}\n",
              "&gt;&gt;&gt; for d in docs:\n",
              "...     for term in d:\n",
              "...         index = vocabulary.setdefault(term, len(vocabulary))\n",
              "...         indices.append(index)\n",
              "...         data.append(1)\n",
              "...     indptr.append(len(indices))\n",
              "...\n",
              "&gt;&gt;&gt; csr_array((data, indices, indptr), dtype=int).toarray()\n",
              "array([[2, 1, 0, 0],\n",
              "       [0, 1, 1, 1]])</pre>\n",
              "      <script>\n",
              "      if (google.colab.kernel.accessAllowed && google.colab.files && google.colab.files.view) {\n",
              "        for (const element of document.querySelectorAll('.filepath')) {\n",
              "          element.style.display = 'block'\n",
              "          element.onclick = (event) => {\n",
              "            event.preventDefault();\n",
              "            event.stopPropagation();\n",
              "            google.colab.files.view(element.textContent, 370);\n",
              "          };\n",
              "        }\n",
              "      }\n",
              "      for (const element of document.querySelectorAll('.function-repr-contents')) {\n",
              "        element.onclick = (event) => {\n",
              "          event.preventDefault();\n",
              "          event.stopPropagation();\n",
              "          element.classList.toggle('function-repr-contents-collapsed');\n",
              "        };\n",
              "      }\n",
              "      </script>\n",
              "      </div>"
            ]
          },
          "metadata": {},
          "execution_count": 243
        }
      ],
      "source": [
        "type(CV_features[0])  # each row is a compressed spare row"
      ]
    },
    {
      "cell_type": "code",
      "execution_count": 244,
      "id": "96fd0554",
      "metadata": {
        "colab": {
          "base_uri": "https://localhost:8080/"
        },
        "id": "96fd0554",
        "outputId": "9a150d3d-a3ee-4c4b-ebe2-ded81ba2acba"
      },
      "outputs": [
        {
          "output_type": "execute_result",
          "data": {
            "text/plain": [
              "matrix([[0, 0, 0, ..., 0, 0, 0]])"
            ]
          },
          "metadata": {},
          "execution_count": 244
        }
      ],
      "source": [
        "CV_features[0].todense()  # decompressing the CSR data"
      ]
    },
    {
      "cell_type": "code",
      "execution_count": 245,
      "id": "740fd79c",
      "metadata": {
        "colab": {
          "base_uri": "https://localhost:8080/",
          "height": 423
        },
        "id": "740fd79c",
        "outputId": "3f6a03ec-4d70-4592-8e5e-a6b22cebcad5"
      },
      "outputs": [
        {
          "output_type": "execute_result",
          "data": {
            "text/plain": [
              "      0      1      2      3      4      5      6      7      8      9      \\\n",
              "0         0      0      0      0      0      0      0      0      0      0   \n",
              "1         0      0      0      0      0      0      0      0      0      0   \n",
              "2         0      0      0      0      0      0      0      0      0      0   \n",
              "3         0      0      0      0      0      0      0      0      0      0   \n",
              "4         0      0      0      0      0      0      0      0      0      0   \n",
              "...     ...    ...    ...    ...    ...    ...    ...    ...    ...    ...   \n",
              "7915      0      0      0      0      0      0      0      0      0      0   \n",
              "7916      0      0      0      0      0      0      0      0      0      0   \n",
              "7917      0      0      0      0      0      0      0      0      0      0   \n",
              "7918      0      0      0      0      0      0      0      0      0      0   \n",
              "7919      0      0      0      0      0      0      0      0      0      0   \n",
              "\n",
              "      ...  15945  15946  15947  15948  15949  15950  15951  15952  15953  \\\n",
              "0     ...      0      0      0      0      0      0      0      0      0   \n",
              "1     ...      0      0      0      0      0      0      0      0      0   \n",
              "2     ...      0      0      0      0      0      0      0      0      0   \n",
              "3     ...      0      0      0      0      0      0      0      0      0   \n",
              "4     ...      0      0      0      0      0      0      0      0      0   \n",
              "...   ...    ...    ...    ...    ...    ...    ...    ...    ...    ...   \n",
              "7915  ...      0      0      0      0      0      0      0      0      0   \n",
              "7916  ...      0      0      0      0      0      0      0      0      0   \n",
              "7917  ...      0      0      0      0      0      0      0      0      0   \n",
              "7918  ...      0      0      0      0      0      0      0      0      0   \n",
              "7919  ...      0      0      0      0      0      0      0      0      0   \n",
              "\n",
              "      15954  \n",
              "0         0  \n",
              "1         0  \n",
              "2         0  \n",
              "3         0  \n",
              "4         0  \n",
              "...     ...  \n",
              "7915      0  \n",
              "7916      0  \n",
              "7917      0  \n",
              "7918      0  \n",
              "7919      0  \n",
              "\n",
              "[7920 rows x 15955 columns]"
            ],
            "text/html": [
              "\n",
              "  <div id=\"df-7878f75f-09c1-4207-b6fd-cab15684c93a\" class=\"colab-df-container\">\n",
              "    <div>\n",
              "<style scoped>\n",
              "    .dataframe tbody tr th:only-of-type {\n",
              "        vertical-align: middle;\n",
              "    }\n",
              "\n",
              "    .dataframe tbody tr th {\n",
              "        vertical-align: top;\n",
              "    }\n",
              "\n",
              "    .dataframe thead th {\n",
              "        text-align: right;\n",
              "    }\n",
              "</style>\n",
              "<table border=\"1\" class=\"dataframe\">\n",
              "  <thead>\n",
              "    <tr style=\"text-align: right;\">\n",
              "      <th></th>\n",
              "      <th>0</th>\n",
              "      <th>1</th>\n",
              "      <th>2</th>\n",
              "      <th>3</th>\n",
              "      <th>4</th>\n",
              "      <th>5</th>\n",
              "      <th>6</th>\n",
              "      <th>7</th>\n",
              "      <th>8</th>\n",
              "      <th>9</th>\n",
              "      <th>...</th>\n",
              "      <th>15945</th>\n",
              "      <th>15946</th>\n",
              "      <th>15947</th>\n",
              "      <th>15948</th>\n",
              "      <th>15949</th>\n",
              "      <th>15950</th>\n",
              "      <th>15951</th>\n",
              "      <th>15952</th>\n",
              "      <th>15953</th>\n",
              "      <th>15954</th>\n",
              "    </tr>\n",
              "  </thead>\n",
              "  <tbody>\n",
              "    <tr>\n",
              "      <th>0</th>\n",
              "      <td>0</td>\n",
              "      <td>0</td>\n",
              "      <td>0</td>\n",
              "      <td>0</td>\n",
              "      <td>0</td>\n",
              "      <td>0</td>\n",
              "      <td>0</td>\n",
              "      <td>0</td>\n",
              "      <td>0</td>\n",
              "      <td>0</td>\n",
              "      <td>...</td>\n",
              "      <td>0</td>\n",
              "      <td>0</td>\n",
              "      <td>0</td>\n",
              "      <td>0</td>\n",
              "      <td>0</td>\n",
              "      <td>0</td>\n",
              "      <td>0</td>\n",
              "      <td>0</td>\n",
              "      <td>0</td>\n",
              "      <td>0</td>\n",
              "    </tr>\n",
              "    <tr>\n",
              "      <th>1</th>\n",
              "      <td>0</td>\n",
              "      <td>0</td>\n",
              "      <td>0</td>\n",
              "      <td>0</td>\n",
              "      <td>0</td>\n",
              "      <td>0</td>\n",
              "      <td>0</td>\n",
              "      <td>0</td>\n",
              "      <td>0</td>\n",
              "      <td>0</td>\n",
              "      <td>...</td>\n",
              "      <td>0</td>\n",
              "      <td>0</td>\n",
              "      <td>0</td>\n",
              "      <td>0</td>\n",
              "      <td>0</td>\n",
              "      <td>0</td>\n",
              "      <td>0</td>\n",
              "      <td>0</td>\n",
              "      <td>0</td>\n",
              "      <td>0</td>\n",
              "    </tr>\n",
              "    <tr>\n",
              "      <th>2</th>\n",
              "      <td>0</td>\n",
              "      <td>0</td>\n",
              "      <td>0</td>\n",
              "      <td>0</td>\n",
              "      <td>0</td>\n",
              "      <td>0</td>\n",
              "      <td>0</td>\n",
              "      <td>0</td>\n",
              "      <td>0</td>\n",
              "      <td>0</td>\n",
              "      <td>...</td>\n",
              "      <td>0</td>\n",
              "      <td>0</td>\n",
              "      <td>0</td>\n",
              "      <td>0</td>\n",
              "      <td>0</td>\n",
              "      <td>0</td>\n",
              "      <td>0</td>\n",
              "      <td>0</td>\n",
              "      <td>0</td>\n",
              "      <td>0</td>\n",
              "    </tr>\n",
              "    <tr>\n",
              "      <th>3</th>\n",
              "      <td>0</td>\n",
              "      <td>0</td>\n",
              "      <td>0</td>\n",
              "      <td>0</td>\n",
              "      <td>0</td>\n",
              "      <td>0</td>\n",
              "      <td>0</td>\n",
              "      <td>0</td>\n",
              "      <td>0</td>\n",
              "      <td>0</td>\n",
              "      <td>...</td>\n",
              "      <td>0</td>\n",
              "      <td>0</td>\n",
              "      <td>0</td>\n",
              "      <td>0</td>\n",
              "      <td>0</td>\n",
              "      <td>0</td>\n",
              "      <td>0</td>\n",
              "      <td>0</td>\n",
              "      <td>0</td>\n",
              "      <td>0</td>\n",
              "    </tr>\n",
              "    <tr>\n",
              "      <th>4</th>\n",
              "      <td>0</td>\n",
              "      <td>0</td>\n",
              "      <td>0</td>\n",
              "      <td>0</td>\n",
              "      <td>0</td>\n",
              "      <td>0</td>\n",
              "      <td>0</td>\n",
              "      <td>0</td>\n",
              "      <td>0</td>\n",
              "      <td>0</td>\n",
              "      <td>...</td>\n",
              "      <td>0</td>\n",
              "      <td>0</td>\n",
              "      <td>0</td>\n",
              "      <td>0</td>\n",
              "      <td>0</td>\n",
              "      <td>0</td>\n",
              "      <td>0</td>\n",
              "      <td>0</td>\n",
              "      <td>0</td>\n",
              "      <td>0</td>\n",
              "    </tr>\n",
              "    <tr>\n",
              "      <th>...</th>\n",
              "      <td>...</td>\n",
              "      <td>...</td>\n",
              "      <td>...</td>\n",
              "      <td>...</td>\n",
              "      <td>...</td>\n",
              "      <td>...</td>\n",
              "      <td>...</td>\n",
              "      <td>...</td>\n",
              "      <td>...</td>\n",
              "      <td>...</td>\n",
              "      <td>...</td>\n",
              "      <td>...</td>\n",
              "      <td>...</td>\n",
              "      <td>...</td>\n",
              "      <td>...</td>\n",
              "      <td>...</td>\n",
              "      <td>...</td>\n",
              "      <td>...</td>\n",
              "      <td>...</td>\n",
              "      <td>...</td>\n",
              "      <td>...</td>\n",
              "    </tr>\n",
              "    <tr>\n",
              "      <th>7915</th>\n",
              "      <td>0</td>\n",
              "      <td>0</td>\n",
              "      <td>0</td>\n",
              "      <td>0</td>\n",
              "      <td>0</td>\n",
              "      <td>0</td>\n",
              "      <td>0</td>\n",
              "      <td>0</td>\n",
              "      <td>0</td>\n",
              "      <td>0</td>\n",
              "      <td>...</td>\n",
              "      <td>0</td>\n",
              "      <td>0</td>\n",
              "      <td>0</td>\n",
              "      <td>0</td>\n",
              "      <td>0</td>\n",
              "      <td>0</td>\n",
              "      <td>0</td>\n",
              "      <td>0</td>\n",
              "      <td>0</td>\n",
              "      <td>0</td>\n",
              "    </tr>\n",
              "    <tr>\n",
              "      <th>7916</th>\n",
              "      <td>0</td>\n",
              "      <td>0</td>\n",
              "      <td>0</td>\n",
              "      <td>0</td>\n",
              "      <td>0</td>\n",
              "      <td>0</td>\n",
              "      <td>0</td>\n",
              "      <td>0</td>\n",
              "      <td>0</td>\n",
              "      <td>0</td>\n",
              "      <td>...</td>\n",
              "      <td>0</td>\n",
              "      <td>0</td>\n",
              "      <td>0</td>\n",
              "      <td>0</td>\n",
              "      <td>0</td>\n",
              "      <td>0</td>\n",
              "      <td>0</td>\n",
              "      <td>0</td>\n",
              "      <td>0</td>\n",
              "      <td>0</td>\n",
              "    </tr>\n",
              "    <tr>\n",
              "      <th>7917</th>\n",
              "      <td>0</td>\n",
              "      <td>0</td>\n",
              "      <td>0</td>\n",
              "      <td>0</td>\n",
              "      <td>0</td>\n",
              "      <td>0</td>\n",
              "      <td>0</td>\n",
              "      <td>0</td>\n",
              "      <td>0</td>\n",
              "      <td>0</td>\n",
              "      <td>...</td>\n",
              "      <td>0</td>\n",
              "      <td>0</td>\n",
              "      <td>0</td>\n",
              "      <td>0</td>\n",
              "      <td>0</td>\n",
              "      <td>0</td>\n",
              "      <td>0</td>\n",
              "      <td>0</td>\n",
              "      <td>0</td>\n",
              "      <td>0</td>\n",
              "    </tr>\n",
              "    <tr>\n",
              "      <th>7918</th>\n",
              "      <td>0</td>\n",
              "      <td>0</td>\n",
              "      <td>0</td>\n",
              "      <td>0</td>\n",
              "      <td>0</td>\n",
              "      <td>0</td>\n",
              "      <td>0</td>\n",
              "      <td>0</td>\n",
              "      <td>0</td>\n",
              "      <td>0</td>\n",
              "      <td>...</td>\n",
              "      <td>0</td>\n",
              "      <td>0</td>\n",
              "      <td>0</td>\n",
              "      <td>0</td>\n",
              "      <td>0</td>\n",
              "      <td>0</td>\n",
              "      <td>0</td>\n",
              "      <td>0</td>\n",
              "      <td>0</td>\n",
              "      <td>0</td>\n",
              "    </tr>\n",
              "    <tr>\n",
              "      <th>7919</th>\n",
              "      <td>0</td>\n",
              "      <td>0</td>\n",
              "      <td>0</td>\n",
              "      <td>0</td>\n",
              "      <td>0</td>\n",
              "      <td>0</td>\n",
              "      <td>0</td>\n",
              "      <td>0</td>\n",
              "      <td>0</td>\n",
              "      <td>0</td>\n",
              "      <td>...</td>\n",
              "      <td>0</td>\n",
              "      <td>0</td>\n",
              "      <td>0</td>\n",
              "      <td>0</td>\n",
              "      <td>0</td>\n",
              "      <td>0</td>\n",
              "      <td>0</td>\n",
              "      <td>0</td>\n",
              "      <td>0</td>\n",
              "      <td>0</td>\n",
              "    </tr>\n",
              "  </tbody>\n",
              "</table>\n",
              "<p>7920 rows × 15955 columns</p>\n",
              "</div>\n",
              "    <div class=\"colab-df-buttons\">\n",
              "\n",
              "  <div class=\"colab-df-container\">\n",
              "    <button class=\"colab-df-convert\" onclick=\"convertToInteractive('df-7878f75f-09c1-4207-b6fd-cab15684c93a')\"\n",
              "            title=\"Convert this dataframe to an interactive table.\"\n",
              "            style=\"display:none;\">\n",
              "\n",
              "  <svg xmlns=\"http://www.w3.org/2000/svg\" height=\"24px\" viewBox=\"0 -960 960 960\">\n",
              "    <path d=\"M120-120v-720h720v720H120Zm60-500h600v-160H180v160Zm220 220h160v-160H400v160Zm0 220h160v-160H400v160ZM180-400h160v-160H180v160Zm440 0h160v-160H620v160ZM180-180h160v-160H180v160Zm440 0h160v-160H620v160Z\"/>\n",
              "  </svg>\n",
              "    </button>\n",
              "\n",
              "  <style>\n",
              "    .colab-df-container {\n",
              "      display:flex;\n",
              "      gap: 12px;\n",
              "    }\n",
              "\n",
              "    .colab-df-convert {\n",
              "      background-color: #E8F0FE;\n",
              "      border: none;\n",
              "      border-radius: 50%;\n",
              "      cursor: pointer;\n",
              "      display: none;\n",
              "      fill: #1967D2;\n",
              "      height: 32px;\n",
              "      padding: 0 0 0 0;\n",
              "      width: 32px;\n",
              "    }\n",
              "\n",
              "    .colab-df-convert:hover {\n",
              "      background-color: #E2EBFA;\n",
              "      box-shadow: 0px 1px 2px rgba(60, 64, 67, 0.3), 0px 1px 3px 1px rgba(60, 64, 67, 0.15);\n",
              "      fill: #174EA6;\n",
              "    }\n",
              "\n",
              "    .colab-df-buttons div {\n",
              "      margin-bottom: 4px;\n",
              "    }\n",
              "\n",
              "    [theme=dark] .colab-df-convert {\n",
              "      background-color: #3B4455;\n",
              "      fill: #D2E3FC;\n",
              "    }\n",
              "\n",
              "    [theme=dark] .colab-df-convert:hover {\n",
              "      background-color: #434B5C;\n",
              "      box-shadow: 0px 1px 3px 1px rgba(0, 0, 0, 0.15);\n",
              "      filter: drop-shadow(0px 1px 2px rgba(0, 0, 0, 0.3));\n",
              "      fill: #FFFFFF;\n",
              "    }\n",
              "  </style>\n",
              "\n",
              "    <script>\n",
              "      const buttonEl =\n",
              "        document.querySelector('#df-7878f75f-09c1-4207-b6fd-cab15684c93a button.colab-df-convert');\n",
              "      buttonEl.style.display =\n",
              "        google.colab.kernel.accessAllowed ? 'block' : 'none';\n",
              "\n",
              "      async function convertToInteractive(key) {\n",
              "        const element = document.querySelector('#df-7878f75f-09c1-4207-b6fd-cab15684c93a');\n",
              "        const dataTable =\n",
              "          await google.colab.kernel.invokeFunction('convertToInteractive',\n",
              "                                                    [key], {});\n",
              "        if (!dataTable) return;\n",
              "\n",
              "        const docLinkHtml = 'Like what you see? Visit the ' +\n",
              "          '<a target=\"_blank\" href=https://colab.research.google.com/notebooks/data_table.ipynb>data table notebook</a>'\n",
              "          + ' to learn more about interactive tables.';\n",
              "        element.innerHTML = '';\n",
              "        dataTable['output_type'] = 'display_data';\n",
              "        await google.colab.output.renderOutput(dataTable, element);\n",
              "        const docLink = document.createElement('div');\n",
              "        docLink.innerHTML = docLinkHtml;\n",
              "        element.appendChild(docLink);\n",
              "      }\n",
              "    </script>\n",
              "  </div>\n",
              "\n",
              "\n",
              "<div id=\"df-90c63934-90e9-48c1-afbc-0d3dad45ebaf\">\n",
              "  <button class=\"colab-df-quickchart\" onclick=\"quickchart('df-90c63934-90e9-48c1-afbc-0d3dad45ebaf')\"\n",
              "            title=\"Suggest charts\"\n",
              "            style=\"display:none;\">\n",
              "\n",
              "<svg xmlns=\"http://www.w3.org/2000/svg\" height=\"24px\"viewBox=\"0 0 24 24\"\n",
              "     width=\"24px\">\n",
              "    <g>\n",
              "        <path d=\"M19 3H5c-1.1 0-2 .9-2 2v14c0 1.1.9 2 2 2h14c1.1 0 2-.9 2-2V5c0-1.1-.9-2-2-2zM9 17H7v-7h2v7zm4 0h-2V7h2v10zm4 0h-2v-4h2v4z\"/>\n",
              "    </g>\n",
              "</svg>\n",
              "  </button>\n",
              "\n",
              "<style>\n",
              "  .colab-df-quickchart {\n",
              "      --bg-color: #E8F0FE;\n",
              "      --fill-color: #1967D2;\n",
              "      --hover-bg-color: #E2EBFA;\n",
              "      --hover-fill-color: #174EA6;\n",
              "      --disabled-fill-color: #AAA;\n",
              "      --disabled-bg-color: #DDD;\n",
              "  }\n",
              "\n",
              "  [theme=dark] .colab-df-quickchart {\n",
              "      --bg-color: #3B4455;\n",
              "      --fill-color: #D2E3FC;\n",
              "      --hover-bg-color: #434B5C;\n",
              "      --hover-fill-color: #FFFFFF;\n",
              "      --disabled-bg-color: #3B4455;\n",
              "      --disabled-fill-color: #666;\n",
              "  }\n",
              "\n",
              "  .colab-df-quickchart {\n",
              "    background-color: var(--bg-color);\n",
              "    border: none;\n",
              "    border-radius: 50%;\n",
              "    cursor: pointer;\n",
              "    display: none;\n",
              "    fill: var(--fill-color);\n",
              "    height: 32px;\n",
              "    padding: 0;\n",
              "    width: 32px;\n",
              "  }\n",
              "\n",
              "  .colab-df-quickchart:hover {\n",
              "    background-color: var(--hover-bg-color);\n",
              "    box-shadow: 0 1px 2px rgba(60, 64, 67, 0.3), 0 1px 3px 1px rgba(60, 64, 67, 0.15);\n",
              "    fill: var(--button-hover-fill-color);\n",
              "  }\n",
              "\n",
              "  .colab-df-quickchart-complete:disabled,\n",
              "  .colab-df-quickchart-complete:disabled:hover {\n",
              "    background-color: var(--disabled-bg-color);\n",
              "    fill: var(--disabled-fill-color);\n",
              "    box-shadow: none;\n",
              "  }\n",
              "\n",
              "  .colab-df-spinner {\n",
              "    border: 2px solid var(--fill-color);\n",
              "    border-color: transparent;\n",
              "    border-bottom-color: var(--fill-color);\n",
              "    animation:\n",
              "      spin 1s steps(1) infinite;\n",
              "  }\n",
              "\n",
              "  @keyframes spin {\n",
              "    0% {\n",
              "      border-color: transparent;\n",
              "      border-bottom-color: var(--fill-color);\n",
              "      border-left-color: var(--fill-color);\n",
              "    }\n",
              "    20% {\n",
              "      border-color: transparent;\n",
              "      border-left-color: var(--fill-color);\n",
              "      border-top-color: var(--fill-color);\n",
              "    }\n",
              "    30% {\n",
              "      border-color: transparent;\n",
              "      border-left-color: var(--fill-color);\n",
              "      border-top-color: var(--fill-color);\n",
              "      border-right-color: var(--fill-color);\n",
              "    }\n",
              "    40% {\n",
              "      border-color: transparent;\n",
              "      border-right-color: var(--fill-color);\n",
              "      border-top-color: var(--fill-color);\n",
              "    }\n",
              "    60% {\n",
              "      border-color: transparent;\n",
              "      border-right-color: var(--fill-color);\n",
              "    }\n",
              "    80% {\n",
              "      border-color: transparent;\n",
              "      border-right-color: var(--fill-color);\n",
              "      border-bottom-color: var(--fill-color);\n",
              "    }\n",
              "    90% {\n",
              "      border-color: transparent;\n",
              "      border-bottom-color: var(--fill-color);\n",
              "    }\n",
              "  }\n",
              "</style>\n",
              "\n",
              "  <script>\n",
              "    async function quickchart(key) {\n",
              "      const quickchartButtonEl =\n",
              "        document.querySelector('#' + key + ' button');\n",
              "      quickchartButtonEl.disabled = true;  // To prevent multiple clicks.\n",
              "      quickchartButtonEl.classList.add('colab-df-spinner');\n",
              "      try {\n",
              "        const charts = await google.colab.kernel.invokeFunction(\n",
              "            'suggestCharts', [key], {});\n",
              "      } catch (error) {\n",
              "        console.error('Error during call to suggestCharts:', error);\n",
              "      }\n",
              "      quickchartButtonEl.classList.remove('colab-df-spinner');\n",
              "      quickchartButtonEl.classList.add('colab-df-quickchart-complete');\n",
              "    }\n",
              "    (() => {\n",
              "      let quickchartButtonEl =\n",
              "        document.querySelector('#df-90c63934-90e9-48c1-afbc-0d3dad45ebaf button');\n",
              "      quickchartButtonEl.style.display =\n",
              "        google.colab.kernel.accessAllowed ? 'block' : 'none';\n",
              "    })();\n",
              "  </script>\n",
              "</div>\n",
              "\n",
              "  <div id=\"id_90827382-0b0a-4d13-a100-df000d6b2334\">\n",
              "    <style>\n",
              "      .colab-df-generate {\n",
              "        background-color: #E8F0FE;\n",
              "        border: none;\n",
              "        border-radius: 50%;\n",
              "        cursor: pointer;\n",
              "        display: none;\n",
              "        fill: #1967D2;\n",
              "        height: 32px;\n",
              "        padding: 0 0 0 0;\n",
              "        width: 32px;\n",
              "      }\n",
              "\n",
              "      .colab-df-generate:hover {\n",
              "        background-color: #E2EBFA;\n",
              "        box-shadow: 0px 1px 2px rgba(60, 64, 67, 0.3), 0px 1px 3px 1px rgba(60, 64, 67, 0.15);\n",
              "        fill: #174EA6;\n",
              "      }\n",
              "\n",
              "      [theme=dark] .colab-df-generate {\n",
              "        background-color: #3B4455;\n",
              "        fill: #D2E3FC;\n",
              "      }\n",
              "\n",
              "      [theme=dark] .colab-df-generate:hover {\n",
              "        background-color: #434B5C;\n",
              "        box-shadow: 0px 1px 3px 1px rgba(0, 0, 0, 0.15);\n",
              "        filter: drop-shadow(0px 1px 2px rgba(0, 0, 0, 0.3));\n",
              "        fill: #FFFFFF;\n",
              "      }\n",
              "    </style>\n",
              "    <button class=\"colab-df-generate\" onclick=\"generateWithVariable('df')\"\n",
              "            title=\"Generate code using this dataframe.\"\n",
              "            style=\"display:none;\">\n",
              "\n",
              "  <svg xmlns=\"http://www.w3.org/2000/svg\" height=\"24px\"viewBox=\"0 0 24 24\"\n",
              "       width=\"24px\">\n",
              "    <path d=\"M7,19H8.4L18.45,9,17,7.55,7,17.6ZM5,21V16.75L18.45,3.32a2,2,0,0,1,2.83,0l1.4,1.43a1.91,1.91,0,0,1,.58,1.4,1.91,1.91,0,0,1-.58,1.4L9.25,21ZM18.45,9,17,7.55Zm-12,3A5.31,5.31,0,0,0,4.9,8.1,5.31,5.31,0,0,0,1,6.5,5.31,5.31,0,0,0,4.9,4.9,5.31,5.31,0,0,0,6.5,1,5.31,5.31,0,0,0,8.1,4.9,5.31,5.31,0,0,0,12,6.5,5.46,5.46,0,0,0,6.5,12Z\"/>\n",
              "  </svg>\n",
              "    </button>\n",
              "    <script>\n",
              "      (() => {\n",
              "      const buttonEl =\n",
              "        document.querySelector('#id_90827382-0b0a-4d13-a100-df000d6b2334 button.colab-df-generate');\n",
              "      buttonEl.style.display =\n",
              "        google.colab.kernel.accessAllowed ? 'block' : 'none';\n",
              "\n",
              "      buttonEl.onclick = () => {\n",
              "        google.colab.notebook.generateWithVariable('df');\n",
              "      }\n",
              "      })();\n",
              "    </script>\n",
              "  </div>\n",
              "\n",
              "    </div>\n",
              "  </div>\n"
            ],
            "application/vnd.google.colaboratory.intrinsic+json": {
              "type": "dataframe",
              "variable_name": "df"
            }
          },
          "metadata": {},
          "execution_count": 245
        }
      ],
      "source": [
        "import pandas as pd\n",
        "df = pd.DataFrame(CV_features.todense() )\n",
        "df\n",
        "# Document-Term-Matrix X = [N x p ]\n",
        "# N = no. of documentns\n",
        "# p = no. of unique words in the vocab"
      ]
    },
    {
      "cell_type": "code",
      "execution_count": 246,
      "id": "def61af3",
      "metadata": {
        "colab": {
          "base_uri": "https://localhost:8080/"
        },
        "id": "def61af3",
        "outputId": "d0ed89d7-cbff-46f9-fa2f-9eac8eb8a47c"
      },
      "outputs": [
        {
          "output_type": "execute_result",
          "data": {
            "text/plain": [
              "126.3636"
            ]
          },
          "metadata": {},
          "execution_count": 246
        }
      ],
      "source": [
        "df.size/1e6  # these many elements/numbers are presnt in the df"
      ]
    },
    {
      "cell_type": "code",
      "execution_count": 247,
      "id": "76f78d34",
      "metadata": {
        "colab": {
          "base_uri": "https://localhost:8080/"
        },
        "id": "76f78d34",
        "outputId": "52c4cc4e-b6a7-4b26-91fe-b853825acc40"
      },
      "outputs": [
        {
          "output_type": "execute_result",
          "data": {
            "text/plain": [
              "114973"
            ]
          },
          "metadata": {},
          "execution_count": 247
        }
      ],
      "source": [
        "import numpy as np\n",
        "np.count_nonzero(df)"
      ]
    },
    {
      "cell_type": "code",
      "execution_count": 248,
      "id": "c2d68b8c",
      "metadata": {
        "colab": {
          "base_uri": "https://localhost:8080/"
        },
        "id": "c2d68b8c",
        "outputId": "df6e5a64-5d4e-49a9-dc49-473eba4dfad6"
      },
      "outputs": [
        {
          "output_type": "execute_result",
          "data": {
            "text/plain": [
              "0.09098585352110893"
            ]
          },
          "metadata": {},
          "execution_count": 248
        }
      ],
      "source": [
        "100*np.count_nonzero(df)/df.size # percent of the non-zero elements i nthe df"
      ]
    },
    {
      "cell_type": "code",
      "execution_count": 249,
      "id": "2607ec8d",
      "metadata": {
        "colab": {
          "base_uri": "https://localhost:8080/"
        },
        "id": "2607ec8d",
        "outputId": "e40aa63d-41ae-4221-e1fd-109f085e4a10"
      },
      "outputs": [
        {
          "output_type": "stream",
          "name": "stdout",
          "text": [
            "['aa' 'aaaahhhhhhh' 'aag' 'aah' 'aalborg' 'aand' 'aapl' 'aarhus' 'aaron'\n",
            " 'aarp' 'aarrrggghhhh' 'aashamsakal' 'aaydojbfkq' 'aayp' 'ab' 'abah'\n",
            " 'abareta' 'abay' 'abb' 'abc' 'abdou' 'abe' 'aber' 'abercrombie' 'abi'\n",
            " 'ability' 'abit' 'able' 'ableton' 'abnqum' 'aboard' 'about' 'aboutalook'\n",
            " 'aboutdamntime' 'abouttime' 'abouttonight' 'above' 'abp' 'abscbn'\n",
            " 'absence' 'absolute' 'absolutely' 'absurd' 'abu' 'abudhabi' 'abuja'\n",
            " 'abujacity' 'abujafct' 'abujapeople' 'abujaphones']\n"
          ]
        }
      ],
      "source": [
        "print(CV.get_feature_names_out()[:50])  # these the vocab words"
      ]
    },
    {
      "cell_type": "code",
      "execution_count": 250,
      "id": "403d67e4",
      "metadata": {
        "id": "403d67e4"
      },
      "outputs": [],
      "source": [
        "# CV.get_feature_names_out()[:50]  # these the vocab words"
      ]
    },
    {
      "cell_type": "code",
      "execution_count": 251,
      "id": "6d09f6d7",
      "metadata": {
        "colab": {
          "base_uri": "https://localhost:8080/"
        },
        "id": "6d09f6d7",
        "outputId": "82ed9c17-7cdb-485f-b22c-e7ae4e013148"
      },
      "outputs": [
        {
          "output_type": "execute_result",
          "data": {
            "text/plain": [
              "15955"
            ]
          },
          "metadata": {},
          "execution_count": 251
        }
      ],
      "source": [
        "# len(CV.get_feature_names_out())\n",
        "len(CV.get_feature_names_out())"
      ]
    },
    {
      "cell_type": "code",
      "execution_count": 252,
      "id": "54d6d866",
      "metadata": {
        "colab": {
          "base_uri": "https://localhost:8080/"
        },
        "id": "54d6d866",
        "outputId": "b74bf3f8-9461-463a-b5d8-5a4b2bc2452a"
      },
      "outputs": [
        {
          "output_type": "execute_result",
          "data": {
            "text/plain": [
              "matrix([[0, 0, 0, ..., 0, 0, 0]])"
            ]
          },
          "metadata": {},
          "execution_count": 252
        }
      ],
      "source": [
        "CV_features[10].todense()  # these are numbers corresponding to the 11th tweet"
      ]
    },
    {
      "cell_type": "code",
      "execution_count": 253,
      "id": "0e765ec8",
      "metadata": {
        "colab": {
          "base_uri": "https://localhost:8080/"
        },
        "id": "0e765ec8",
        "outputId": "3cb3665b-6104-4230-d696-6a956713387f"
      },
      "outputs": [
        {
          "output_type": "execute_result",
          "data": {
            "text/plain": [
              "[array(['apple', 'color', 'crash', 'do', 'every', 'five', 'fuckin', 'hey',\n",
              "        'inch', 'ipod', 'it', 'make', 'minite', 'new', 'not', 'or',\n",
              "        'thinner', 'when', 'you'], dtype='<U41')]"
            ]
          },
          "metadata": {},
          "execution_count": 253
        }
      ],
      "source": [
        "CV.inverse_transform(np.asarray(CV_features[10].todense()))  # actual words in the 10th tweet"
      ]
    },
    {
      "cell_type": "markdown",
      "id": "e6dd7b9a",
      "metadata": {
        "id": "e6dd7b9a"
      },
      "source": [
        "# 5. Model building"
      ]
    },
    {
      "cell_type": "code",
      "execution_count": 254,
      "id": "4c72611d",
      "metadata": {
        "id": "4c72611d"
      },
      "outputs": [],
      "source": [
        "from sklearn.model_selection import train_test_split\n",
        "\n",
        "X_train, X_test, y_train, y_test = train_test_split(CV_features, data['label'], test_size=0.25, stratify=data['label'], random_state=42)"
      ]
    },
    {
      "cell_type": "code",
      "execution_count": 255,
      "id": "2a3b3020",
      "metadata": {
        "colab": {
          "base_uri": "https://localhost:8080/"
        },
        "id": "2a3b3020",
        "outputId": "c1e166cf-fcf6-4d52-bb1a-47fc468f2fd4"
      },
      "outputs": [
        {
          "output_type": "stream",
          "name": "stdout",
          "text": [
            "0.9779461279461279\n",
            "0.8813131313131313\n"
          ]
        }
      ],
      "source": [
        "from sklearn.linear_model import LogisticRegression\n",
        "LR = LogisticRegression(solver='liblinear')\n",
        "LR.fit(X_train, y_train)\n",
        "\n",
        "print(LR.score(X_train, y_train))  # train score)\n",
        "print(LR.score(X_test, y_test))   # test score)"
      ]
    },
    {
      "cell_type": "code",
      "execution_count": 256,
      "id": "82c2b527",
      "metadata": {
        "colab": {
          "base_uri": "https://localhost:8080/"
        },
        "id": "82c2b527",
        "outputId": "18506c06-60b5-42f3-a411-82164a7c36e5"
      },
      "outputs": [
        {
          "output_type": "stream",
          "name": "stdout",
          "text": [
            "0.9038720538720538\n",
            "0.8813131313131313\n"
          ]
        }
      ],
      "source": [
        "## L1-REGULARIZATION\n",
        "LR1 = LogisticRegression(class_weight='balanced', solver='liblinear', penalty='l1', C=0.4)\n",
        "LR1.fit(X_train, y_train)\n",
        "\n",
        "print(LR1.score(X_train, y_train))  # train score)\n",
        "print(LR1.score(X_test, y_test))   # test score)"
      ]
    },
    {
      "cell_type": "code",
      "execution_count": 257,
      "id": "7b364a8e",
      "metadata": {
        "id": "7b364a8e"
      },
      "outputs": [],
      "source": [
        "##  Cross-Validate the Logistic Regression Model ?????\n",
        "from sklearn.model_selection import cross_val_score, cross_validate\n",
        "from sklearn.model_selection import StratifiedKFold"
      ]
    },
    {
      "cell_type": "code",
      "execution_count": 258,
      "id": "fcaf89c2",
      "metadata": {
        "id": "fcaf89c2"
      },
      "outputs": [],
      "source": [
        "X = CV_features\n",
        "y = data['label']"
      ]
    },
    {
      "cell_type": "code",
      "execution_count": 259,
      "id": "7c55927c",
      "metadata": {
        "colab": {
          "base_uri": "https://localhost:8080/"
        },
        "id": "7c55927c",
        "outputId": "7078b4cb-f17e-431d-e2ca-be08eaadd2a1"
      },
      "outputs": [
        {
          "output_type": "stream",
          "name": "stdout",
          "text": [
            "[0.88320707 0.86931818 0.87752525 0.89772727 0.88699495]\n",
            "88.3 0.95\n"
          ]
        }
      ],
      "source": [
        "## crOSS VALIDATE THE LR1 model\n",
        "\n",
        "LR1 = LogisticRegression(class_weight='balanced', solver='liblinear', penalty='l1', C=0.4)\n",
        "kfold = StratifiedKFold(n_splits=5, shuffle=True, random_state=42)\n",
        "results = cross_val_score(LR1, X, y, cv=kfold, scoring='accuracy')\n",
        "print(results)\n",
        "print(np.round((results.mean())*100, 2), np.round((results.std())*100, 2))"
      ]
    },
    {
      "cell_type": "code",
      "execution_count": 260,
      "id": "97d2ef36",
      "metadata": {
        "id": "97d2ef36"
      },
      "outputs": [],
      "source": [
        "# your's accuracy = 88.23 +/- 0.93 %"
      ]
    },
    {
      "cell_type": "code",
      "execution_count": 261,
      "id": "3b5cbe8e",
      "metadata": {
        "id": "3b5cbe8e"
      },
      "outputs": [],
      "source": [
        "kfold = StratifiedKFold(n_splits=5, shuffle=True, random_state=42)\n",
        "results = cross_validate(LR1, X, y, cv=kfold, scoring='accuracy', return_train_score=True)"
      ]
    },
    {
      "cell_type": "code",
      "execution_count": 262,
      "id": "f4195164",
      "metadata": {
        "colab": {
          "base_uri": "https://localhost:8080/"
        },
        "id": "f4195164",
        "outputId": "098e3ec6-fa73-4ab3-d130-4273875b2ab6"
      },
      "outputs": [
        {
          "output_type": "execute_result",
          "data": {
            "text/plain": [
              "{'fit_time': array([0.04047132, 0.0358398 , 0.03352427, 0.03524661, 0.03703785]),\n",
              " 'score_time': array([0.00148249, 0.00170255, 0.00146365, 0.00143981, 0.00140953]),\n",
              " 'test_score': array([0.88320707, 0.86931818, 0.87752525, 0.89709596, 0.88699495]),\n",
              " 'train_score': array([0.90388258, 0.90893308, 0.9040404 , 0.90372475, 0.90451389])}"
            ]
          },
          "metadata": {},
          "execution_count": 262
        }
      ],
      "source": [
        "results"
      ]
    },
    {
      "cell_type": "code",
      "execution_count": 263,
      "id": "dbcf5a18",
      "metadata": {
        "colab": {
          "base_uri": "https://localhost:8080/"
        },
        "id": "dbcf5a18",
        "outputId": "7c78a7a3-eec3-4c56-82b1-d36d000dfb84"
      },
      "outputs": [
        {
          "output_type": "stream",
          "name": "stdout",
          "text": [
            "[0.90388258 0.90893308 0.9040404  0.90372475 0.90451389]\n",
            "90.5 0.2\n"
          ]
        }
      ],
      "source": [
        "print(results['train_score'])\n",
        "print(np.round((results['train_score'].mean())*100, 2), np.round((results['train_score'].std())*100, 2))"
      ]
    },
    {
      "cell_type": "code",
      "execution_count": 264,
      "id": "9762fdf9",
      "metadata": {
        "colab": {
          "base_uri": "https://localhost:8080/"
        },
        "id": "9762fdf9",
        "outputId": "b9afdd89-27f7-4092-9125-327e68f61e40"
      },
      "outputs": [
        {
          "output_type": "stream",
          "name": "stdout",
          "text": [
            "[0.88320707 0.86931818 0.87752525 0.89709596 0.88699495]\n",
            "88.28 0.93\n"
          ]
        }
      ],
      "source": [
        "print(results['test_score'])\n",
        "print(np.round((results['test_score'].mean())*100, 2), np.round((results['test_score'].std())*100, 2))"
      ]
    },
    {
      "cell_type": "markdown",
      "id": "1d1407d8",
      "metadata": {
        "id": "1d1407d8"
      },
      "source": [
        "## Hyper parameter tuning of the LR1 model"
      ]
    },
    {
      "cell_type": "code",
      "execution_count": 265,
      "id": "0db78851",
      "metadata": {
        "colab": {
          "base_uri": "https://localhost:8080/"
        },
        "id": "0db78851",
        "outputId": "d52fdec3-f5bc-4e10-d9d1-26245268e3d1"
      },
      "outputs": [
        {
          "output_type": "stream",
          "name": "stdout",
          "text": [
            "Fitting 5 folds for each of 20 candidates, totalling 100 fits\n"
          ]
        },
        {
          "output_type": "stream",
          "name": "stderr",
          "text": [
            "/usr/local/lib/python3.10/dist-packages/joblib/externals/loky/backend/fork_exec.py:38: RuntimeWarning: os.fork() was called. os.fork() is incompatible with multithreaded code, and JAX is multithreaded, so this will likely lead to a deadlock.\n",
            "  pid = os.fork()\n"
          ]
        }
      ],
      "source": [
        "## Hyper parameter tuning of the LR1 model\n",
        "from sklearn.model_selection import GridSearchCV\n",
        "\n",
        "LR1 = LogisticRegression(class_weight='balanced', solver='liblinear', penalty='l1')\n",
        "\n",
        "C_values = np.arange(0.00001, 1, 0.05) # 20 values\n",
        "\n",
        "grid = GridSearchCV(estimator=LR1, param_grid={'C': C_values}, cv=kfold, scoring='accuracy', \\\n",
        "                    return_train_score=True, verbose=2, n_jobs=-1)\n",
        "grid_results = grid.fit(X,y)"
      ]
    },
    {
      "cell_type": "code",
      "execution_count": 266,
      "id": "443d5137",
      "metadata": {
        "colab": {
          "base_uri": "https://localhost:8080/",
          "height": 117
        },
        "id": "443d5137",
        "outputId": "e62a76aa-d7ae-4dd0-8942-4d1cc0112bb7"
      },
      "outputs": [
        {
          "output_type": "execute_result",
          "data": {
            "text/plain": [
              "GridSearchCV(cv=StratifiedKFold(n_splits=5, random_state=42, shuffle=True),\n",
              "             estimator=LogisticRegression(class_weight='balanced', penalty='l1',\n",
              "                                          solver='liblinear'),\n",
              "             n_jobs=-1,\n",
              "             param_grid={'C': array([1.0000e-05, 5.0010e-02, 1.0001e-01, 1.5001e-01, 2.0001e-01,\n",
              "       2.5001e-01, 3.0001e-01, 3.5001e-01, 4.0001e-01, 4.5001e-01,\n",
              "       5.0001e-01, 5.5001e-01, 6.0001e-01, 6.5001e-01, 7.0001e-01,\n",
              "       7.5001e-01, 8.0001e-01, 8.5001e-01, 9.0001e-01, 9.5001e-01])},\n",
              "             return_train_score=True, scoring='accuracy', verbose=2)"
            ],
            "text/html": [
              "<style>#sk-container-id-3 {color: black;background-color: white;}#sk-container-id-3 pre{padding: 0;}#sk-container-id-3 div.sk-toggleable {background-color: white;}#sk-container-id-3 label.sk-toggleable__label {cursor: pointer;display: block;width: 100%;margin-bottom: 0;padding: 0.3em;box-sizing: border-box;text-align: center;}#sk-container-id-3 label.sk-toggleable__label-arrow:before {content: \"▸\";float: left;margin-right: 0.25em;color: #696969;}#sk-container-id-3 label.sk-toggleable__label-arrow:hover:before {color: black;}#sk-container-id-3 div.sk-estimator:hover label.sk-toggleable__label-arrow:before {color: black;}#sk-container-id-3 div.sk-toggleable__content {max-height: 0;max-width: 0;overflow: hidden;text-align: left;background-color: #f0f8ff;}#sk-container-id-3 div.sk-toggleable__content pre {margin: 0.2em;color: black;border-radius: 0.25em;background-color: #f0f8ff;}#sk-container-id-3 input.sk-toggleable__control:checked~div.sk-toggleable__content {max-height: 200px;max-width: 100%;overflow: auto;}#sk-container-id-3 input.sk-toggleable__control:checked~label.sk-toggleable__label-arrow:before {content: \"▾\";}#sk-container-id-3 div.sk-estimator input.sk-toggleable__control:checked~label.sk-toggleable__label {background-color: #d4ebff;}#sk-container-id-3 div.sk-label input.sk-toggleable__control:checked~label.sk-toggleable__label {background-color: #d4ebff;}#sk-container-id-3 input.sk-hidden--visually {border: 0;clip: rect(1px 1px 1px 1px);clip: rect(1px, 1px, 1px, 1px);height: 1px;margin: -1px;overflow: hidden;padding: 0;position: absolute;width: 1px;}#sk-container-id-3 div.sk-estimator {font-family: monospace;background-color: #f0f8ff;border: 1px dotted black;border-radius: 0.25em;box-sizing: border-box;margin-bottom: 0.5em;}#sk-container-id-3 div.sk-estimator:hover {background-color: #d4ebff;}#sk-container-id-3 div.sk-parallel-item::after {content: \"\";width: 100%;border-bottom: 1px solid gray;flex-grow: 1;}#sk-container-id-3 div.sk-label:hover label.sk-toggleable__label {background-color: #d4ebff;}#sk-container-id-3 div.sk-serial::before {content: \"\";position: absolute;border-left: 1px solid gray;box-sizing: border-box;top: 0;bottom: 0;left: 50%;z-index: 0;}#sk-container-id-3 div.sk-serial {display: flex;flex-direction: column;align-items: center;background-color: white;padding-right: 0.2em;padding-left: 0.2em;position: relative;}#sk-container-id-3 div.sk-item {position: relative;z-index: 1;}#sk-container-id-3 div.sk-parallel {display: flex;align-items: stretch;justify-content: center;background-color: white;position: relative;}#sk-container-id-3 div.sk-item::before, #sk-container-id-3 div.sk-parallel-item::before {content: \"\";position: absolute;border-left: 1px solid gray;box-sizing: border-box;top: 0;bottom: 0;left: 50%;z-index: -1;}#sk-container-id-3 div.sk-parallel-item {display: flex;flex-direction: column;z-index: 1;position: relative;background-color: white;}#sk-container-id-3 div.sk-parallel-item:first-child::after {align-self: flex-end;width: 50%;}#sk-container-id-3 div.sk-parallel-item:last-child::after {align-self: flex-start;width: 50%;}#sk-container-id-3 div.sk-parallel-item:only-child::after {width: 0;}#sk-container-id-3 div.sk-dashed-wrapped {border: 1px dashed gray;margin: 0 0.4em 0.5em 0.4em;box-sizing: border-box;padding-bottom: 0.4em;background-color: white;}#sk-container-id-3 div.sk-label label {font-family: monospace;font-weight: bold;display: inline-block;line-height: 1.2em;}#sk-container-id-3 div.sk-label-container {text-align: center;}#sk-container-id-3 div.sk-container {/* jupyter's `normalize.less` sets `[hidden] { display: none; }` but bootstrap.min.css set `[hidden] { display: none !important; }` so we also need the `!important` here to be able to override the default hidden behavior on the sphinx rendered scikit-learn.org. See: https://github.com/scikit-learn/scikit-learn/issues/21755 */display: inline-block !important;position: relative;}#sk-container-id-3 div.sk-text-repr-fallback {display: none;}</style><div id=\"sk-container-id-3\" class=\"sk-top-container\"><div class=\"sk-text-repr-fallback\"><pre>GridSearchCV(cv=StratifiedKFold(n_splits=5, random_state=42, shuffle=True),\n",
              "             estimator=LogisticRegression(class_weight=&#x27;balanced&#x27;, penalty=&#x27;l1&#x27;,\n",
              "                                          solver=&#x27;liblinear&#x27;),\n",
              "             n_jobs=-1,\n",
              "             param_grid={&#x27;C&#x27;: array([1.0000e-05, 5.0010e-02, 1.0001e-01, 1.5001e-01, 2.0001e-01,\n",
              "       2.5001e-01, 3.0001e-01, 3.5001e-01, 4.0001e-01, 4.5001e-01,\n",
              "       5.0001e-01, 5.5001e-01, 6.0001e-01, 6.5001e-01, 7.0001e-01,\n",
              "       7.5001e-01, 8.0001e-01, 8.5001e-01, 9.0001e-01, 9.5001e-01])},\n",
              "             return_train_score=True, scoring=&#x27;accuracy&#x27;, verbose=2)</pre><b>In a Jupyter environment, please rerun this cell to show the HTML representation or trust the notebook. <br />On GitHub, the HTML representation is unable to render, please try loading this page with nbviewer.org.</b></div><div class=\"sk-container\" hidden><div class=\"sk-item sk-dashed-wrapped\"><div class=\"sk-label-container\"><div class=\"sk-label sk-toggleable\"><input class=\"sk-toggleable__control sk-hidden--visually\" id=\"sk-estimator-id-7\" type=\"checkbox\" ><label for=\"sk-estimator-id-7\" class=\"sk-toggleable__label sk-toggleable__label-arrow\">GridSearchCV</label><div class=\"sk-toggleable__content\"><pre>GridSearchCV(cv=StratifiedKFold(n_splits=5, random_state=42, shuffle=True),\n",
              "             estimator=LogisticRegression(class_weight=&#x27;balanced&#x27;, penalty=&#x27;l1&#x27;,\n",
              "                                          solver=&#x27;liblinear&#x27;),\n",
              "             n_jobs=-1,\n",
              "             param_grid={&#x27;C&#x27;: array([1.0000e-05, 5.0010e-02, 1.0001e-01, 1.5001e-01, 2.0001e-01,\n",
              "       2.5001e-01, 3.0001e-01, 3.5001e-01, 4.0001e-01, 4.5001e-01,\n",
              "       5.0001e-01, 5.5001e-01, 6.0001e-01, 6.5001e-01, 7.0001e-01,\n",
              "       7.5001e-01, 8.0001e-01, 8.5001e-01, 9.0001e-01, 9.5001e-01])},\n",
              "             return_train_score=True, scoring=&#x27;accuracy&#x27;, verbose=2)</pre></div></div></div><div class=\"sk-parallel\"><div class=\"sk-parallel-item\"><div class=\"sk-item\"><div class=\"sk-label-container\"><div class=\"sk-label sk-toggleable\"><input class=\"sk-toggleable__control sk-hidden--visually\" id=\"sk-estimator-id-8\" type=\"checkbox\" ><label for=\"sk-estimator-id-8\" class=\"sk-toggleable__label sk-toggleable__label-arrow\">estimator: LogisticRegression</label><div class=\"sk-toggleable__content\"><pre>LogisticRegression(class_weight=&#x27;balanced&#x27;, penalty=&#x27;l1&#x27;, solver=&#x27;liblinear&#x27;)</pre></div></div></div><div class=\"sk-serial\"><div class=\"sk-item\"><div class=\"sk-estimator sk-toggleable\"><input class=\"sk-toggleable__control sk-hidden--visually\" id=\"sk-estimator-id-9\" type=\"checkbox\" ><label for=\"sk-estimator-id-9\" class=\"sk-toggleable__label sk-toggleable__label-arrow\">LogisticRegression</label><div class=\"sk-toggleable__content\"><pre>LogisticRegression(class_weight=&#x27;balanced&#x27;, penalty=&#x27;l1&#x27;, solver=&#x27;liblinear&#x27;)</pre></div></div></div></div></div></div></div></div></div></div>"
            ]
          },
          "metadata": {},
          "execution_count": 266
        }
      ],
      "source": [
        "grid_results"
      ]
    },
    {
      "cell_type": "code",
      "execution_count": 267,
      "id": "774eaa39",
      "metadata": {
        "colab": {
          "base_uri": "https://localhost:8080/"
        },
        "id": "774eaa39",
        "outputId": "59ceb003-83c6-4e15-f80f-3382a662bfd9"
      },
      "outputs": [
        {
          "output_type": "execute_result",
          "data": {
            "text/plain": [
              "({'C': 0.95001}, 0.8904040404040403, 19)"
            ]
          },
          "metadata": {},
          "execution_count": 267
        }
      ],
      "source": [
        "grid_results.best_params_, grid_results.best_score_, grid_results.best_index_"
      ]
    },
    {
      "cell_type": "code",
      "execution_count": 268,
      "id": "f9061881",
      "metadata": {
        "colab": {
          "base_uri": "https://localhost:8080/"
        },
        "id": "f9061881",
        "outputId": "3aaeba29-addd-448f-ebbc-30dbab903436"
      },
      "outputs": [
        {
          "output_type": "execute_result",
          "data": {
            "text/plain": [
              "dict_keys(['mean_fit_time', 'std_fit_time', 'mean_score_time', 'std_score_time', 'param_C', 'params', 'split0_test_score', 'split1_test_score', 'split2_test_score', 'split3_test_score', 'split4_test_score', 'mean_test_score', 'std_test_score', 'rank_test_score', 'split0_train_score', 'split1_train_score', 'split2_train_score', 'split3_train_score', 'split4_train_score', 'mean_train_score', 'std_train_score'])"
            ]
          },
          "metadata": {},
          "execution_count": 268
        }
      ],
      "source": [
        "grid_results.cv_results_.keys()"
      ]
    },
    {
      "cell_type": "code",
      "execution_count": 269,
      "id": "e986baef",
      "metadata": {
        "colab": {
          "base_uri": "https://localhost:8080/"
        },
        "id": "e986baef",
        "outputId": "2ff6ed30-df52-4187-9b3d-7bd74beac81e"
      },
      "outputs": [
        {
          "output_type": "execute_result",
          "data": {
            "text/plain": [
              "89.04040404040403"
            ]
          },
          "metadata": {},
          "execution_count": 269
        }
      ],
      "source": [
        "grid_results.cv_results_['mean_test_score'][grid_results.best_index_]*100"
      ]
    },
    {
      "cell_type": "code",
      "execution_count": 270,
      "id": "f6302ce0",
      "metadata": {
        "colab": {
          "base_uri": "https://localhost:8080/"
        },
        "id": "f6302ce0",
        "outputId": "47be1a0e-4ee9-4578-ab52-fa43c6ec603c"
      },
      "outputs": [
        {
          "output_type": "execute_result",
          "data": {
            "text/plain": [
              "93.28282828282829"
            ]
          },
          "metadata": {},
          "execution_count": 270
        }
      ],
      "source": [
        "grid_results.cv_results_['mean_train_score'][grid_results.best_index_]*100\n",
        "\n",
        "# means your \"best-fitted\" model from GridsearchCV is (could be) still OVERFITTED!!!!!!!!!"
      ]
    },
    {
      "cell_type": "code",
      "execution_count": 271,
      "id": "8b424b9b",
      "metadata": {
        "colab": {
          "base_uri": "https://localhost:8080/"
        },
        "id": "8b424b9b",
        "outputId": "2bbafca7-9a99-4891-dbe9-521818255d7f"
      },
      "outputs": [
        {
          "output_type": "execute_result",
          "data": {
            "text/plain": [
              "0.6482574572218915"
            ]
          },
          "metadata": {},
          "execution_count": 271
        }
      ],
      "source": [
        "grid_results.cv_results_['std_test_score'][grid_results.best_index_]*100"
      ]
    },
    {
      "cell_type": "code",
      "execution_count": 272,
      "id": "ef6fdcfa",
      "metadata": {
        "colab": {
          "base_uri": "https://localhost:8080/"
        },
        "id": "ef6fdcfa",
        "outputId": "5514462c-4c47-49c8-ee40-f0c92b35879b"
      },
      "outputs": [
        {
          "output_type": "execute_result",
          "data": {
            "text/plain": [
              "array([0.74419192, 0.84494949, 0.86338384, 0.87171717, 0.87537879,\n",
              "       0.8790404 , 0.88017677, 0.88156566, 0.88282828, 0.88497475,\n",
              "       0.88560606, 0.88661616, 0.88699495, 0.88888889, 0.88939394,\n",
              "       0.88901515, 0.88939394, 0.8895202 , 0.89015152, 0.89040404])"
            ]
          },
          "metadata": {},
          "execution_count": 272
        }
      ],
      "source": [
        "grid_results.cv_results_['mean_test_score']"
      ]
    },
    {
      "cell_type": "code",
      "execution_count": 273,
      "id": "b40bc4d2",
      "metadata": {
        "colab": {
          "base_uri": "https://localhost:8080/"
        },
        "id": "b40bc4d2",
        "outputId": "220c6a5a-d097-4153-e4b7-1b83130f16c0"
      },
      "outputs": [
        {
          "output_type": "execute_result",
          "data": {
            "text/plain": [
              "array([0.74419192, 0.85      , 0.86998106, 0.8803346 , 0.88718434,\n",
              "       0.89232955, 0.89649621, 0.90094697, 0.90501894, 0.90811237,\n",
              "       0.91003788, 0.91344697, 0.91568813, 0.91856061, 0.92130682,\n",
              "       0.92332702, 0.92607323, 0.92853535, 0.93055556, 0.93282828])"
            ]
          },
          "metadata": {},
          "execution_count": 273
        }
      ],
      "source": [
        "grid_results.cv_results_['mean_train_score']"
      ]
    },
    {
      "cell_type": "code",
      "execution_count": 274,
      "id": "e611e951",
      "metadata": {
        "colab": {
          "base_uri": "https://localhost:8080/",
          "height": 447
        },
        "id": "e611e951",
        "outputId": "d738b1de-8402-4280-e3cb-23c3698fe267",
        "scrolled": true
      },
      "outputs": [
        {
          "output_type": "execute_result",
          "data": {
            "text/plain": [
              "[<matplotlib.lines.Line2D at 0x7924bbece3e0>]"
            ]
          },
          "metadata": {},
          "execution_count": 274
        },
        {
          "output_type": "display_data",
          "data": {
            "text/plain": [
              "<Figure size 640x480 with 1 Axes>"
            ],
            "image/png": "[encoded data removed]"
          },
          "metadata": {}
        }
      ],
      "source": [
        "plt.plot(grid_results.cv_results_['mean_train_score'] - grid_results.cv_results_['mean_test_score'])"
      ]
    },
    {
      "cell_type": "code",
      "execution_count": 275,
      "id": "c0b0f88b",
      "metadata": {
        "colab": {
          "base_uri": "https://localhost:8080/"
        },
        "id": "c0b0f88b",
        "outputId": "1c64a8c2-ccf2-4972-a249-ba7239399d2f"
      },
      "outputs": [
        {
          "output_type": "execute_result",
          "data": {
            "text/plain": [
              "{'C': array([1.0000e-05, 5.0010e-02, 1.0001e-01, 1.5001e-01, 2.0001e-01,\n",
              "        2.5001e-01, 3.0001e-01, 3.5001e-01, 4.0001e-01, 4.5001e-01,\n",
              "        5.0001e-01, 5.5001e-01, 6.0001e-01, 6.5001e-01, 7.0001e-01,\n",
              "        7.5001e-01, 8.0001e-01, 8.5001e-01, 9.0001e-01, 9.5001e-01])}"
            ]
          },
          "metadata": {},
          "execution_count": 275
        }
      ],
      "source": [
        "grid_results.param_grid"
      ]
    },
    {
      "cell_type": "code",
      "execution_count": 276,
      "id": "d70a0c25",
      "metadata": {
        "colab": {
          "base_uri": "https://localhost:8080/"
        },
        "id": "d70a0c25",
        "outputId": "3c2122d9-9c0b-4c9d-f7d5-c7a4f4db8a32"
      },
      "outputs": [
        {
          "output_type": "execute_result",
          "data": {
            "text/plain": [
              "0.15001000000000003"
            ]
          },
          "metadata": {},
          "execution_count": 276
        }
      ],
      "source": [
        "grid_results.param_grid['C'][3]"
      ]
    },
    {
      "cell_type": "code",
      "execution_count": 277,
      "id": "4b1898b1",
      "metadata": {
        "colab": {
          "base_uri": "https://localhost:8080/"
        },
        "id": "4b1898b1",
        "outputId": "ce97ade8-2cf6-4c22-cc35-8f0fd0c44865"
      },
      "outputs": [
        {
          "output_type": "execute_result",
          "data": {
            "text/plain": [
              "array([-1.11022302e-16,  5.05050505e-03,  6.59722222e-03,  8.61742424e-03,\n",
              "        1.18055556e-02,  1.32891414e-02,  1.63194444e-02,  1.93813131e-02,\n",
              "        2.21906566e-02,  2.31376263e-02,  2.44318182e-02,  2.68308081e-02,\n",
              "        2.86931818e-02,  2.96717172e-02,  3.19128788e-02,  3.43118687e-02,\n",
              "        3.66792929e-02,  3.90151515e-02,  4.04040404e-02,  4.24242424e-02])"
            ]
          },
          "metadata": {},
          "execution_count": 277
        }
      ],
      "source": [
        "grid_results.cv_results_['mean_train_score'] - grid_results.cv_results_['mean_test_score']"
      ]
    },
    {
      "cell_type": "code",
      "execution_count": 278,
      "id": "683ca4f1",
      "metadata": {
        "colab": {
          "base_uri": "https://localhost:8080/"
        },
        "id": "683ca4f1",
        "outputId": "d63aa23f-98cf-47fe-e802-f47bb546c1ee"
      },
      "outputs": [
        {
          "output_type": "stream",
          "name": "stdout",
          "text": [
            "88.28 0.93\n"
          ]
        }
      ],
      "source": [
        "# Create a pipeline & cross-validate\n",
        "from sklearn.pipeline import make_pipeline, Pipeline\n",
        "\n",
        "X = data['cleaned_tweets_w/o_SW']\n",
        "y = data['label']\n",
        "\n",
        "CV = CountVectorizer()\n",
        "LR1 = LogisticRegression(class_weight='balanced', solver='liblinear', penalty='l1', C=0.4)\n",
        "\n",
        "CV_pipe = Pipeline([('CV', CV) , ('LR', LR1)] )\n",
        "\n",
        "results = cross_val_score(CV_pipe, X, y, cv=kfold, scoring='accuracy')\n",
        "print(np.round((results.mean())*100, 2), np.round((results.std())*100, 2))"
      ]
    },
    {
      "cell_type": "code",
      "execution_count": 279,
      "id": "ba6c19bb",
      "metadata": {
        "colab": {
          "base_uri": "https://localhost:8080/"
        },
        "id": "ba6c19bb",
        "outputId": "a8214e9e-5647-429d-b019-1a288f771ee2"
      },
      "outputs": [
        {
          "output_type": "execute_result",
          "data": {
            "text/plain": [
              "{'CV': CountVectorizer(),\n",
              " 'LR': LogisticRegression(C=0.4, class_weight='balanced', penalty='l1',\n",
              "                    solver='liblinear')}"
            ]
          },
          "metadata": {},
          "execution_count": 279
        }
      ],
      "source": [
        "CV_pipe.named_steps"
      ]
    },
    {
      "cell_type": "code",
      "execution_count": 280,
      "id": "6820a163",
      "metadata": {
        "colab": {
          "base_uri": "https://localhost:8080/",
          "height": 125
        },
        "id": "6820a163",
        "outputId": "7c3dd0cb-9cd4-4343-b763-7f50ad8da106"
      },
      "outputs": [
        {
          "output_type": "execute_result",
          "data": {
            "text/plain": [
              "Pipeline(steps=[('CV', CountVectorizer()),\n",
              "                ('LR',\n",
              "                 LogisticRegression(C=0.4, class_weight='balanced',\n",
              "                                    penalty='l1', solver='liblinear'))])"
            ],
            "text/html": [
              "<style>#sk-container-id-4 {color: black;background-color: white;}#sk-container-id-4 pre{padding: 0;}#sk-container-id-4 div.sk-toggleable {background-color: white;}#sk-container-id-4 label.sk-toggleable__label {cursor: pointer;display: block;width: 100%;margin-bottom: 0;padding: 0.3em;box-sizing: border-box;text-align: center;}#sk-container-id-4 label.sk-toggleable__label-arrow:before {content: \"▸\";float: left;margin-right: 0.25em;color: #696969;}#sk-container-id-4 label.sk-toggleable__label-arrow:hover:before {color: black;}#sk-container-id-4 div.sk-estimator:hover label.sk-toggleable__label-arrow:before {color: black;}#sk-container-id-4 div.sk-toggleable__content {max-height: 0;max-width: 0;overflow: hidden;text-align: left;background-color: #f0f8ff;}#sk-container-id-4 div.sk-toggleable__content pre {margin: 0.2em;color: black;border-radius: 0.25em;background-color: #f0f8ff;}#sk-container-id-4 input.sk-toggleable__control:checked~div.sk-toggleable__content {max-height: 200px;max-width: 100%;overflow: auto;}#sk-container-id-4 input.sk-toggleable__control:checked~label.sk-toggleable__label-arrow:before {content: \"▾\";}#sk-container-id-4 div.sk-estimator input.sk-toggleable__control:checked~label.sk-toggleable__label {background-color: #d4ebff;}#sk-container-id-4 div.sk-label input.sk-toggleable__control:checked~label.sk-toggleable__label {background-color: #d4ebff;}#sk-container-id-4 input.sk-hidden--visually {border: 0;clip: rect(1px 1px 1px 1px);clip: rect(1px, 1px, 1px, 1px);height: 1px;margin: -1px;overflow: hidden;padding: 0;position: absolute;width: 1px;}#sk-container-id-4 div.sk-estimator {font-family: monospace;background-color: #f0f8ff;border: 1px dotted black;border-radius: 0.25em;box-sizing: border-box;margin-bottom: 0.5em;}#sk-container-id-4 div.sk-estimator:hover {background-color: #d4ebff;}#sk-container-id-4 div.sk-parallel-item::after {content: \"\";width: 100%;border-bottom: 1px solid gray;flex-grow: 1;}#sk-container-id-4 div.sk-label:hover label.sk-toggleable__label {background-color: #d4ebff;}#sk-container-id-4 div.sk-serial::before {content: \"\";position: absolute;border-left: 1px solid gray;box-sizing: border-box;top: 0;bottom: 0;left: 50%;z-index: 0;}#sk-container-id-4 div.sk-serial {display: flex;flex-direction: column;align-items: center;background-color: white;padding-right: 0.2em;padding-left: 0.2em;position: relative;}#sk-container-id-4 div.sk-item {position: relative;z-index: 1;}#sk-container-id-4 div.sk-parallel {display: flex;align-items: stretch;justify-content: center;background-color: white;position: relative;}#sk-container-id-4 div.sk-item::before, #sk-container-id-4 div.sk-parallel-item::before {content: \"\";position: absolute;border-left: 1px solid gray;box-sizing: border-box;top: 0;bottom: 0;left: 50%;z-index: -1;}#sk-container-id-4 div.sk-parallel-item {display: flex;flex-direction: column;z-index: 1;position: relative;background-color: white;}#sk-container-id-4 div.sk-parallel-item:first-child::after {align-self: flex-end;width: 50%;}#sk-container-id-4 div.sk-parallel-item:last-child::after {align-self: flex-start;width: 50%;}#sk-container-id-4 div.sk-parallel-item:only-child::after {width: 0;}#sk-container-id-4 div.sk-dashed-wrapped {border: 1px dashed gray;margin: 0 0.4em 0.5em 0.4em;box-sizing: border-box;padding-bottom: 0.4em;background-color: white;}#sk-container-id-4 div.sk-label label {font-family: monospace;font-weight: bold;display: inline-block;line-height: 1.2em;}#sk-container-id-4 div.sk-label-container {text-align: center;}#sk-container-id-4 div.sk-container {/* jupyter's `normalize.less` sets `[hidden] { display: none; }` but bootstrap.min.css set `[hidden] { display: none !important; }` so we also need the `!important` here to be able to override the default hidden behavior on the sphinx rendered scikit-learn.org. See: https://github.com/scikit-learn/scikit-learn/issues/21755 */display: inline-block !important;position: relative;}#sk-container-id-4 div.sk-text-repr-fallback {display: none;}</style><div id=\"sk-container-id-4\" class=\"sk-top-container\"><div class=\"sk-text-repr-fallback\"><pre>Pipeline(steps=[(&#x27;CV&#x27;, CountVectorizer()),\n",
              "                (&#x27;LR&#x27;,\n",
              "                 LogisticRegression(C=0.4, class_weight=&#x27;balanced&#x27;,\n",
              "                                    penalty=&#x27;l1&#x27;, solver=&#x27;liblinear&#x27;))])</pre><b>In a Jupyter environment, please rerun this cell to show the HTML representation or trust the notebook. <br />On GitHub, the HTML representation is unable to render, please try loading this page with nbviewer.org.</b></div><div class=\"sk-container\" hidden><div class=\"sk-item sk-dashed-wrapped\"><div class=\"sk-label-container\"><div class=\"sk-label sk-toggleable\"><input class=\"sk-toggleable__control sk-hidden--visually\" id=\"sk-estimator-id-10\" type=\"checkbox\" ><label for=\"sk-estimator-id-10\" class=\"sk-toggleable__label sk-toggleable__label-arrow\">Pipeline</label><div class=\"sk-toggleable__content\"><pre>Pipeline(steps=[(&#x27;CV&#x27;, CountVectorizer()),\n",
              "                (&#x27;LR&#x27;,\n",
              "                 LogisticRegression(C=0.4, class_weight=&#x27;balanced&#x27;,\n",
              "                                    penalty=&#x27;l1&#x27;, solver=&#x27;liblinear&#x27;))])</pre></div></div></div><div class=\"sk-serial\"><div class=\"sk-item\"><div class=\"sk-estimator sk-toggleable\"><input class=\"sk-toggleable__control sk-hidden--visually\" id=\"sk-estimator-id-11\" type=\"checkbox\" ><label for=\"sk-estimator-id-11\" class=\"sk-toggleable__label sk-toggleable__label-arrow\">CountVectorizer</label><div class=\"sk-toggleable__content\"><pre>CountVectorizer()</pre></div></div></div><div class=\"sk-item\"><div class=\"sk-estimator sk-toggleable\"><input class=\"sk-toggleable__control sk-hidden--visually\" id=\"sk-estimator-id-12\" type=\"checkbox\" ><label for=\"sk-estimator-id-12\" class=\"sk-toggleable__label sk-toggleable__label-arrow\">LogisticRegression</label><div class=\"sk-toggleable__content\"><pre>LogisticRegression(C=0.4, class_weight=&#x27;balanced&#x27;, penalty=&#x27;l1&#x27;,\n",
              "                   solver=&#x27;liblinear&#x27;)</pre></div></div></div></div></div></div></div>"
            ]
          },
          "metadata": {},
          "execution_count": 280
        }
      ],
      "source": [
        "CV_pipe.fit(X,y)"
      ]
    },
    {
      "cell_type": "code",
      "execution_count": 281,
      "id": "17a39f4e",
      "metadata": {
        "colab": {
          "base_uri": "https://localhost:8080/"
        },
        "id": "17a39f4e",
        "outputId": "df528943-2585-4f14-de23-c66d62ddfa30"
      },
      "outputs": [
        {
          "output_type": "execute_result",
          "data": {
            "text/plain": [
              "15955"
            ]
          },
          "metadata": {},
          "execution_count": 281
        }
      ],
      "source": [
        "len(CV_pipe['CV'].vocabulary_)  # CV with stopwords applied already & word_len > 2"
      ]
    },
    {
      "cell_type": "code",
      "execution_count": 282,
      "id": "b498e1e8",
      "metadata": {
        "id": "b498e1e8"
      },
      "outputs": [],
      "source": [
        "# print(CV_pipe['CV'].vocabulary_)"
      ]
    },
    {
      "cell_type": "markdown",
      "id": "3cb2eae1",
      "metadata": {
        "id": "3cb2eae1"
      },
      "source": [
        "# 6. LR Model without vs with stop_words ??"
      ]
    },
    {
      "cell_type": "code",
      "execution_count": 283,
      "id": "12a440e2",
      "metadata": {
        "colab": {
          "base_uri": "https://localhost:8080/"
        },
        "id": "12a440e2",
        "outputId": "fc907a73-eec5-4fc3-9424-58e1aeadd9a4"
      },
      "outputs": [
        {
          "output_type": "stream",
          "name": "stdout",
          "text": [
            "86.87 1.07\n"
          ]
        },
        {
          "output_type": "execute_result",
          "data": {
            "text/plain": [
              "15673"
            ]
          },
          "metadata": {},
          "execution_count": 283
        }
      ],
      "source": [
        "# Create a pipeline & cross-validate\n",
        "from sklearn.pipeline import make_pipeline, Pipeline\n",
        "\n",
        "X = data['cleaned_tweets_w/o_SW']\n",
        "y = data['label']\n",
        "\n",
        "CV = CountVectorizer(stop_words=final_stopwords)\n",
        "LR1 = LogisticRegression(class_weight='balanced', solver='liblinear', penalty='l1', C=0.4)\n",
        "\n",
        "CV_pipe = Pipeline([('CV', CV) , ('LR', LR1)] )\n",
        "\n",
        "results = cross_val_score(CV_pipe, X, y, cv=kfold, scoring='accuracy')\n",
        "print(np.round((results.mean())*100, 2), np.round((results.std())*100, 2))\n",
        "\n",
        "CV_pipe.fit(X,y)\n",
        "len(CV_pipe['CV'].vocabulary_)"
      ]
    },
    {
      "cell_type": "code",
      "execution_count": 283,
      "id": "783a68f8",
      "metadata": {
        "id": "783a68f8"
      },
      "outputs": [],
      "source": []
    },
    {
      "cell_type": "code",
      "execution_count": 284,
      "id": "7f3c229f",
      "metadata": {
        "colab": {
          "base_uri": "https://localhost:8080/"
        },
        "id": "7f3c229f",
        "outputId": "896f22cc-166d-4498-dcce-c9e4d48792ae"
      },
      "outputs": [
        {
          "output_type": "stream",
          "name": "stdout",
          "text": [
            "86.77 1.03\n"
          ]
        },
        {
          "output_type": "execute_result",
          "data": {
            "text/plain": [
              "1086"
            ]
          },
          "metadata": {},
          "execution_count": 284
        }
      ],
      "source": [
        "# Create a pipeline & cross-validate\n",
        "from sklearn.pipeline import make_pipeline, Pipeline\n",
        "\n",
        "X = data['cleaned_tweets_w/o_SW']\n",
        "y = data['label']\n",
        "\n",
        "CV = CountVectorizer(stop_words=final_stopwords, min_df=10, max_features=None)\n",
        "LR1 = LogisticRegression(class_weight='balanced', solver='liblinear', penalty='l1', C=0.4)\n",
        "\n",
        "CV_pipe = Pipeline([('CV', CV) , ('LR', LR1)] )\n",
        "\n",
        "results = cross_val_score(CV_pipe, X, y, cv=kfold, scoring='accuracy')\n",
        "print(np.round((results.mean())*100, 2), np.round((results.std())*100, 2))\n",
        "\n",
        "CV_pipe.fit(X,y)\n",
        "len(CV_pipe['CV'].vocabulary_)"
      ]
    },
    {
      "cell_type": "code",
      "execution_count": 284,
      "id": "a3de4b3b",
      "metadata": {
        "id": "a3de4b3b"
      },
      "outputs": [],
      "source": []
    },
    {
      "cell_type": "code",
      "execution_count": 285,
      "id": "d2100b72",
      "metadata": {
        "colab": {
          "base_uri": "https://localhost:8080/"
        },
        "id": "d2100b72",
        "outputId": "4e5f199e-738c-480b-ad6d-260adc68e42f"
      },
      "outputs": [
        {
          "output_type": "stream",
          "name": "stdout",
          "text": [
            "85.24 1.3\n"
          ]
        },
        {
          "output_type": "execute_result",
          "data": {
            "text/plain": [
              "300"
            ]
          },
          "metadata": {},
          "execution_count": 285
        }
      ],
      "source": [
        "# Create a pipeline & cross-validate\n",
        "from sklearn.pipeline import make_pipeline, Pipeline\n",
        "\n",
        "X = data['cleaned_tweets_w/o_SW']\n",
        "y = data['label']\n",
        "\n",
        "CV = CountVectorizer(stop_words=final_stopwords, min_df=10, max_features=300)\n",
        "LR1 = LogisticRegression(class_weight='balanced', solver='liblinear', penalty='l1', C=0.4)\n",
        "\n",
        "CV_pipe = Pipeline([('CV', CV) , ('LR', LR1)] )\n",
        "\n",
        "results = cross_val_score(CV_pipe, X, y, cv=kfold, scoring='accuracy')\n",
        "print(np.round((results.mean())*100, 2), np.round((results.std())*100, 2))\n",
        "\n",
        "CV_pipe.fit(X,y)\n",
        "len(CV_pipe['CV'].vocabulary_)"
      ]
    },
    {
      "cell_type": "code",
      "execution_count": 285,
      "id": "ea6ec811",
      "metadata": {
        "id": "ea6ec811"
      },
      "outputs": [],
      "source": []
    },
    {
      "cell_type": "markdown",
      "id": "83a79b75",
      "metadata": {
        "id": "83a79b75"
      },
      "source": [
        "# 7. TF-IDF Vector BoW Model + Logistic Regression"
      ]
    },
    {
      "cell_type": "code",
      "execution_count": 286,
      "id": "e026f9e6",
      "metadata": {
        "colab": {
          "base_uri": "https://localhost:8080/"
        },
        "id": "e026f9e6",
        "outputId": "82ec48e8-40ea-41a6-f940-8e83e3f9a5f4"
      },
      "outputs": [
        {
          "output_type": "stream",
          "name": "stdout",
          "text": [
            "86.82 0.14\n",
            "85.24 0.84\n"
          ]
        },
        {
          "output_type": "execute_result",
          "data": {
            "text/plain": [
              "1000"
            ]
          },
          "metadata": {},
          "execution_count": 286
        }
      ],
      "source": [
        "from sklearn.feature_extraction.text import TfidfVectorizer\n",
        "X = data['cleaned_tweets_w/o_SW']\n",
        "y = data['label']\n",
        "\n",
        "# we want to include only those words in the vocab which have min df of 5,\n",
        "# means select only those words which occur ATLEAST in 5 documents!!\n",
        "# AND SELECT the TOP 1000 FEATURES ONLY to build the model\n",
        "TFIDF = TfidfVectorizer(stop_words=final_stopwords,  min_df=5, max_features=1000)\n",
        "\n",
        "LR1 = LogisticRegression(class_weight='balanced', solver='liblinear', penalty='l1', C=0.4)\n",
        "CV_pipe = Pipeline([('TFIDF', TFIDF) , ('LR', LR1)] )\n",
        "results = cross_validate(CV_pipe, X, y, cv=kfold, scoring='accuracy', return_train_score=True)\n",
        "\n",
        "# print(results['train_score'])\n",
        "print(np.round((results['train_score'].mean())*100, 2), np.round((results['train_score'].std())*100, 2))\n",
        "\n",
        "# print(results['test_score'])\n",
        "print(np.round((results['test_score'].mean())*100, 2), np.round((results['test_score'].std())*100, 2))\n",
        "\n",
        "TFIDF.fit_transform(X)\n",
        "len(TFIDF.vocabulary_)  # no. of features AFTER applying the stopwords"
      ]
    },
    {
      "cell_type": "markdown",
      "id": "251e95fc",
      "metadata": {
        "id": "251e95fc"
      },
      "source": [
        "# 8. N-Gram Models"
      ]
    },
    {
      "cell_type": "code",
      "execution_count": 287,
      "id": "0f043d71",
      "metadata": {
        "colab": {
          "base_uri": "https://localhost:8080/"
        },
        "id": "0f043d71",
        "outputId": "2a6c7387-8527-4bdb-ae12-2957e5a24349"
      },
      "outputs": [
        {
          "output_type": "stream",
          "name": "stdout",
          "text": [
            "88.89 0.2\n",
            "86.84 0.68\n"
          ]
        },
        {
          "output_type": "execute_result",
          "data": {
            "text/plain": [
              "3322"
            ]
          },
          "metadata": {},
          "execution_count": 287
        }
      ],
      "source": [
        "# Unigrams\n",
        "X = data['cleaned_tweets_w/o_SW']\n",
        "y = data['label']\n",
        "\n",
        "CV = CountVectorizer(stop_words=final_stopwords,  ngram_range=(1, 2), min_df=5)\n",
        "\n",
        "LR1 = LogisticRegression(class_weight='balanced', solver='liblinear', penalty='l1', C=0.4)\n",
        "CV_pipe = Pipeline([('CV', CV) , ('LR', LR1)] )\n",
        "results = cross_validate(CV_pipe, X, y, cv=kfold, scoring='accuracy', return_train_score=True)\n",
        "\n",
        "# print(results['train_score'])\n",
        "print(np.round((results['train_score'].mean())*100, 2), np.round((results['train_score'].std())*100, 2))\n",
        "\n",
        "# print(results['test_score'])\n",
        "print(np.round((results['test_score'].mean())*100, 2), np.round((results['test_score'].std())*100, 2))\n",
        "\n",
        "CV.fit_transform(X)\n",
        "len(CV.vocabulary_)  # no. of features AFTER applying the stopwords"
      ]
    },
    {
      "cell_type": "code",
      "execution_count": 288,
      "id": "3a547e56",
      "metadata": {
        "colab": {
          "base_uri": "https://localhost:8080/"
        },
        "id": "3a547e56",
        "outputId": "63de037c-b981-44a2-ef40-75747c52d1dd"
      },
      "outputs": [
        {
          "output_type": "execute_result",
          "data": {
            "text/plain": [
              "{'fingerprint': 903,\n",
              " 'test': 2950,\n",
              " 'android': 64,\n",
              " 'apps': 175,\n",
              " 'beautiful': 252,\n",
              " 'cute': 624,\n",
              " 'health': 1241,\n",
              " 'igers': 1332,\n",
              " 'iphoneonly': 1561,\n",
              " 'iphonesia': 1570,\n",
              " 'iphone': 1461,\n",
              " 'android apps': 66,\n",
              " 'apps beautiful': 176,\n",
              " 'beautiful cute': 254,\n",
              " 'igers iphoneonly': 1335,\n",
              " 'iphoneonly iphonesia': 1566,\n",
              " 'iphonesia iphone': 1573,\n",
              " 'finally': 894,\n",
              " 'case': 430,\n",
              " 'thanks': 2974,\n",
              " 'yay': 3284,\n",
              " 'sony': 2716,\n",
              " 'xperia': 3277,\n",
              " 'sony xperia': 2737,\n",
              " 'love': 1789,\n",
              " 'talk': 2917,\n",
              " 'relax': 2416,\n",
              " 'smartphone': 2677,\n",
              " 'wifi': 3221,\n",
              " 'connect': 557,\n",
              " 'iphone smartphone': 1537,\n",
              " 'wired': 3234,\n",
              " 'know': 1656,\n",
              " 'wa': 3172,\n",
              " 'way': 3198,\n",
              " 'home': 1279,\n",
              " 'iphone cute': 1479,\n",
              " 'amazing': 54,\n",
              " 'service': 2587,\n",
              " 'apple': 95,\n",
              " 'question': 2367,\n",
              " 'pay': 2164,\n",
              " 'stupid': 2847,\n",
              " 'support': 2880,\n",
              " 'service apple': 2588,\n",
              " 'software': 2706,\n",
              " 'update': 3102,\n",
              " 'fucked': 1001,\n",
              " 'big': 288,\n",
              " 'time': 2997,\n",
              " 'iphones': 1569,\n",
              " 'software update': 2707,\n",
              " 'big time': 289,\n",
              " 'happy': 1202,\n",
              " 'instapic': 1426,\n",
              " 'instadaily': 1376,\n",
              " 'xperiaz': 3279,\n",
              " 'new': 2004,\n",
              " 'type': 3081,\n",
              " 'charger': 465,\n",
              " 'cable': 396,\n",
              " 'uk': 3086,\n",
              " 'amazon': 58,\n",
              " 'year': 3290,\n",
              " 'cross': 612,\n",
              " 'young': 3303,\n",
              " 'newyear': 2059,\n",
              " 'starting': 2803,\n",
              " 'recipe': 2397,\n",
              " 'technology': 2944,\n",
              " 'samsunggalaxys': 2534,\n",
              " 'iphonex': 1576,\n",
              " 'pic': 2227,\n",
              " 'charger cable': 467,\n",
              " 'new year': 2046,\n",
              " 'iphonex pic': 1579,\n",
              " 'bout': 343,\n",
              " 'shopping': 2616,\n",
              " 'listening': 1746,\n",
              " 'music': 1965,\n",
              " 'likeforlike': 1738,\n",
              " 'followforfollow': 933,\n",
              " 'music iphone': 1968,\n",
              " 'photo': 2184,\n",
              " 'fun': 1011,\n",
              " 'selfie': 2573,\n",
              " 'pool': 2285,\n",
              " 'water': 3195,\n",
              " 'camera': 407,\n",
              " 'picoftheday': 2233,\n",
              " 'sun': 2866,\n",
              " 'instagood': 1384,\n",
              " 'boy': 348,\n",
              " 'sony camera': 2717,\n",
              " 'hey': 1258,\n",
              " 'make': 1835,\n",
              " 'ipod': 1581,\n",
              " 'color': 528,\n",
              " 'inch': 1355,\n",
              " 'crash': 600,\n",
              " 'fuckin': 1003,\n",
              " 'hey apple': 1259,\n",
              " 'apple make': 142,\n",
              " 'new ipod': 2028,\n",
              " 'ha': 1181,\n",
              " 'doe': 722,\n",
              " 'need': 1997,\n",
              " 'really': 2390,\n",
              " 'dropped': 757,\n",
              " 'ball': 234,\n",
              " 'design': 691,\n",
              " 'giving': 1107,\n",
              " 'simply': 2640,\n",
              " 'new android': 2005,\n",
              " 'crazy': 603,\n",
              " 'purchase': 2356,\n",
              " 'lol': 1765,\n",
              " 'work': 3247,\n",
              " 'hard': 1210,\n",
              " 'play': 2264,\n",
              " 'ipad': 1444,\n",
              " 'work hard': 3249,\n",
              " 'ipad apple': 1446,\n",
              " 'battery': 242,\n",
              " 'charge': 463,\n",
              " 'dead': 665,\n",
              " 'downtown': 744,\n",
              " 'saturday': 2541,\n",
              " 'rx': 2485,\n",
              " 'summer': 2864,\n",
              " 'urban': 3116,\n",
              " 'like': 1725,\n",
              " 'share': 2599,\n",
              " 'want': 3181,\n",
              " 'like share': 1735,\n",
              " 'share want': 2600,\n",
              " 'case iphone': 434,\n",
              " 'iphone iphone': 1506,\n",
              " 'iphone pic': 1527,\n",
              " 'instagram': 1394,\n",
              " 'photooftheday': 2214,\n",
              " 'tweegram': 3069,\n",
              " 'iphone instagood': 1500,\n",
              " 'instagood instagram': 1387,\n",
              " 'instagram photooftheday': 1402,\n",
              " 'photooftheday tweegram': 2220,\n",
              " 'reason': 2393,\n",
              " 'suck': 2859,\n",
              " 'truth': 3057,\n",
              " 'agree': 39,\n",
              " 'fact': 841,\n",
              " 'reason iphone': 2394,\n",
              " 'iphone suck': 1545,\n",
              " 'suck apple': 2860,\n",
              " 'store': 2825,\n",
              " 'screen': 2555,\n",
              " 'monday': 1933,\n",
              " 'fucking': 1004,\n",
              " 'apple store': 155,\n",
              " 'fucking apple': 1005,\n",
              " 'art': 190,\n",
              " 'easter': 779,\n",
              " 'dear': 668,\n",
              " 'friend': 985,\n",
              " 'face': 837,\n",
              " 'bunny': 381,\n",
              " 'email': 798,\n",
              " 'excuse': 825,\n",
              " 'pie': 2243,\n",
              " 'wife': 3219,\n",
              " 'apple pie': 149,\n",
              " 'day': 656,\n",
              " 'button': 385,\n",
              " 'broke': 367,\n",
              " 'hit': 1271,\n",
              " 'button broke': 386,\n",
              " 'completely': 548,\n",
              " 'black': 304,\n",
              " 'getting': 1086,\n",
              " 'text': 2951,\n",
              " 'check': 477,\n",
              " 'iphone screen': 1535,\n",
              " 'wallpaper': 3179,\n",
              " 'wall': 3178,\n",
              " 'galaxy': 1035,\n",
              " 'samsung': 2502,\n",
              " 'app': 88,\n",
              " 'time new': 3001,\n",
              " 'galaxy samsung': 1045,\n",
              " 'patent': 2161,\n",
              " 'million': 1898,\n",
              " 'thanks apple': 2975,\n",
              " 'apple apple': 98,\n",
              " 'messed': 1883,\n",
              " 'touch': 3031,\n",
              " 'frozen': 992,\n",
              " 'logo': 1764,\n",
              " 'start': 2800,\n",
              " 'lose': 1782,\n",
              " 'kill': 1647,\n",
              " 'hateapple': 1225,\n",
              " 'ipod touch': 1584,\n",
              " 'flower': 919,\n",
              " 'green': 1167,\n",
              " 'diamond': 702,\n",
              " 'love new': 1794,\n",
              " 'new case': 2012,\n",
              " 'new iphone': 2026,\n",
              " 'iphone case': 1474,\n",
              " 'watch': 3192,\n",
              " 'youtube': 3305,\n",
              " 'subscribe': 2856,\n",
              " 'daily': 638,\n",
              " 'vlog': 3159,\n",
              " 'twitch': 3077,\n",
              " 'gaming': 1063,\n",
              " 'xbox': 3271,\n",
              " 'game': 1050,\n",
              " 'io': 1434,\n",
              " 'youtube subscribe': 3306,\n",
              " 'subscribe daily': 2857,\n",
              " 'twitch gaming': 3079,\n",
              " 'gaming fun': 1064,\n",
              " 'fun xbox': 1020,\n",
              " 'xbox sony': 3272,\n",
              " 'sony game': 2719,\n",
              " 'io android': 1435,\n",
              " 'thank': 2967,\n",
              " 'live': 1750,\n",
              " 'laugh': 1678,\n",
              " 'life': 1706,\n",
              " 'food': 944,\n",
              " 'instago': 1382,\n",
              " 'instahub': 1408,\n",
              " 'thank samsung': 2971,\n",
              " 'samsung live': 2516,\n",
              " 'live laugh': 1753,\n",
              " 'laugh life': 1679,\n",
              " 'instago instahub': 1383,\n",
              " 'ch': 456,\n",
              " 'friendship': 991,\n",
              " 'dog': 728,\n",
              " 'family': 851,\n",
              " 'goal': 1113,\n",
              " 'bestfriends': 276,\n",
              " 'pitbull': 2254,\n",
              " 'country': 585,\n",
              " 'america': 61,\n",
              " 'wild': 3224,\n",
              " 'mimmo': 1899,\n",
              " 'al': 45,\n",
              " 'taken': 2913,\n",
              " 'sunset': 2872,\n",
              " 'sky': 2659,\n",
              " 'instapic mimmo': 1428,\n",
              " 'mimmo al': 1900,\n",
              " 'taken sony': 2915,\n",
              " 'sony rx': 2729,\n",
              " 'sky beautiful': 2660,\n",
              " 'beautiful fun': 256,\n",
              " 'fun pic': 1017,\n",
              " 'sister': 2651,\n",
              " 'bought': 339,\n",
              " 'early': 771,\n",
              " 'gift': 1088,\n",
              " 'bought new': 340,\n",
              " 'happy samsung': 1207,\n",
              " 'received': 2396,\n",
              " 'note': 2081,\n",
              " 'samsung note': 2518,\n",
              " 'market': 1853,\n",
              " 'delete': 681,\n",
              " 'song': 2711,\n",
              " 'itunes': 1593,\n",
              " 'apple itunes': 134,\n",
              " 'everybody': 819,\n",
              " 'freaking': 968,\n",
              " 'window': 3227,\n",
              " 'bad': 232,\n",
              " 'cheap': 476,\n",
              " 'tech': 2936,\n",
              " 'tech apple': 2937,\n",
              " 'bull': 378,\n",
              " 'instasize': 1429,\n",
              " 'smile': 2685,\n",
              " 'potd': 2298,\n",
              " 'let': 1698,\n",
              " 'candid': 414,\n",
              " 'sunday': 2867,\n",
              " 'eye': 836,\n",
              " 'ootd': 2119,\n",
              " 'fashion': 860,\n",
              " 'blackandwhite': 307,\n",
              " 'mylife': 1975,\n",
              " 'film': 890,\n",
              " 'set': 2590,\n",
              " 'building': 377,\n",
              " 'video': 3146,\n",
              " 'producer': 2325,\n",
              " 'videoproduction': 3151,\n",
              " 'commercial': 540,\n",
              " 'actor': 19,\n",
              " 'actress': 20,\n",
              " 'losangeles': 1781,\n",
              " 'movie': 1959,\n",
              " 'acting': 17,\n",
              " 'startup': 2804,\n",
              " 'photooftheday beautiful': 2215,\n",
              " 'iphone apple': 1466,\n",
              " 'cupcake': 615,\n",
              " 'pink': 2248,\n",
              " 'sweet': 2893,\n",
              " 'cherry': 480,\n",
              " 'sexy': 2594,\n",
              " 'lady': 1665,\n",
              " 'iphon': 1460,\n",
              " 'live iphone': 1752,\n",
              " 'iphone iphonesia': 1511,\n",
              " 'iphonesia instagood': 1571,\n",
              " 'instagood photooftheday': 1392,\n",
              " 'week': 3206,\n",
              " 'end': 803,\n",
              " 'plus': 2275,\n",
              " 'moment': 1930,\n",
              " 'italy': 1589,\n",
              " 'iphone plus': 1530,\n",
              " 'plus apple': 2276,\n",
              " 'photography': 2202,\n",
              " 'nature': 1986,\n",
              " 'landscape': 1668,\n",
              " 'view': 3152,\n",
              " 'tree': 3047,\n",
              " 'travel': 3041,\n",
              " 'google': 1135,\n",
              " 'cut': 623,\n",
              " 'program': 2332,\n",
              " 'google apple': 1136,\n",
              " 'look': 1772,\n",
              " 'got': 1141,\n",
              " 'christmas': 492,\n",
              " 'girl': 1098,\n",
              " 'look got': 1774,\n",
              " 'instacool': 1375,\n",
              " 'photooftheday iphone': 2218,\n",
              " 'iphone instago': 1499,\n",
              " 'free': 969,\n",
              " 'iphone ipad': 1505,\n",
              " 'ipad ipod': 1452,\n",
              " 'talking': 2918,\n",
              " 'appstore': 180,\n",
              " 'iphone app': 1465,\n",
              " 'joy': 1618,\n",
              " 'peace': 2170,\n",
              " 'reflect': 2409,\n",
              " 'remember': 2419,\n",
              " 'cloud': 514,\n",
              " 'cloudhub': 516,\n",
              " 'skyhub': 2662,\n",
              " 'gr': 1152,\n",
              " 'joy peace': 1619,\n",
              " 'peace reflect': 2171,\n",
              " 'reflect remember': 2410,\n",
              " 'remember sky': 2420,\n",
              " 'sky cloud': 2661,\n",
              " 'cloud cloudhub': 515,\n",
              " 'cloudhub skyhub': 517,\n",
              " 'skyhub tree': 2663,\n",
              " 'tree gr': 3048,\n",
              " 'gr iphone': 1153,\n",
              " 'baby': 224,\n",
              " 'pet': 2178,\n",
              " 'baby boy': 226,\n",
              " 'pet iphone': 2179,\n",
              " 'letter': 1699,\n",
              " 'news': 2054,\n",
              " 'fail': 843,\n",
              " 'funny': 1022,\n",
              " 'news photography': 2057,\n",
              " 'photography fashion': 2204,\n",
              " 'fashion health': 862,\n",
              " 'health fail': 1242,\n",
              " 'fail tech': 845,\n",
              " 'tech ipad': 2939,\n",
              " 'ipad iphone': 1451,\n",
              " 'iphone funny': 1488,\n",
              " 'hated': 1226,\n",
              " 'ye': 3286,\n",
              " 'tablet': 2906,\n",
              " 'use': 3120,\n",
              " 'fan': 855,\n",
              " 'think': 2985,\n",
              " 'quite': 2368,\n",
              " 'product': 2327,\n",
              " 'friday': 983,\n",
              " 'called': 403,\n",
              " 'blackfriday': 310,\n",
              " 'shop': 2614,\n",
              " 'holiday': 1278,\n",
              " 'newyork': 2061,\n",
              " 'business': 382,\n",
              " 'money': 1934,\n",
              " 'birthday': 295,\n",
              " 'tv': 3067,\n",
              " 'computer': 552,\n",
              " 'school': 2550,\n",
              " 'black friday': 305,\n",
              " 'family friend': 853,\n",
              " 'seriously': 2585,\n",
              " 'profit': 2331,\n",
              " 'going': 1116,\n",
              " 'pocket': 2280,\n",
              " 'supported': 2882,\n",
              " 'po': 2279,\n",
              " 'month': 1939,\n",
              " 'good': 1123,\n",
              " 'job': 1613,\n",
              " 'apple charger': 105,\n",
              " 'good job': 1126,\n",
              " 'job apple': 1614,\n",
              " 'actually': 22,\n",
              " 'killing': 1649,\n",
              " 'paying': 2166,\n",
              " 'replacement': 2426,\n",
              " 'droid': 755,\n",
              " 'apple suck': 156,\n",
              " 'wait': 3173,\n",
              " 'double': 736,\n",
              " 'saw': 2545,\n",
              " 'cool': 569,\n",
              " 'picture': 2239,\n",
              " 'camera iphone': 408,\n",
              " 'iphone cool': 1477,\n",
              " 'complete': 547,\n",
              " 'run': 2482,\n",
              " 'beach': 247,\n",
              " 'sport': 2787,\n",
              " 'sport health': 2788,\n",
              " 'bit': 302,\n",
              " 'hashtag': 1217,\n",
              " 'gain': 1030,\n",
              " 'follower': 931,\n",
              " 'rts': 2475,\n",
              " 'sougofollow': 2763,\n",
              " 'ff': 880,\n",
              " 'si': 2630,\n",
              " 'gain follower': 1032,\n",
              " 'follower rts': 932,\n",
              " 'rts gain': 2476,\n",
              " 'gain iphone': 1033,\n",
              " 'iphone sougofollow': 1540,\n",
              " 'sougofollow ff': 2764,\n",
              " 'iphoneography': 1558,\n",
              " 'streetphotography': 2838,\n",
              " 'iphonephotography': 1567,\n",
              " 'mobilephotography': 1918,\n",
              " 'bright': 363,\n",
              " 'iphoneonly iphoneography': 1565,\n",
              " 'apple color': 107,\n",
              " 'user': 3125,\n",
              " 'dating': 647,\n",
              " 'iphone user': 1548,\n",
              " 'le': 1682,\n",
              " 'random': 2379,\n",
              " 'instamood': 1418,\n",
              " 'photo love': 2187,\n",
              " 'pink iphone': 2249,\n",
              " 'shine': 2602,\n",
              " 'wine': 3229,\n",
              " 'copenhagen': 574,\n",
              " 'creative': 608,\n",
              " 'composer': 550,\n",
              " 'denmark': 689,\n",
              " 'hot': 1294,\n",
              " 'iconic': 1320,\n",
              " 'keepthefaith': 1636,\n",
              " 'mariajensen': 1851,\n",
              " 'original': 2125,\n",
              " 'pop': 2287,\n",
              " 'red': 2402,\n",
              " 'rock': 2463,\n",
              " 'soul': 2765,\n",
              " 'singer': 2642,\n",
              " 'songwriter': 2714,\n",
              " 'universal': 3094,\n",
              " 'amazing beautiful': 55,\n",
              " 'beautiful copenhagen': 253,\n",
              " 'copenhagen creative': 575,\n",
              " 'creative composer': 609,\n",
              " 'composer denmark': 551,\n",
              " 'denmark fun': 690,\n",
              " 'fun hot': 1015,\n",
              " 'hot iconic': 1295,\n",
              " 'iconic keepthefaith': 1321,\n",
              " 'keepthefaith mariajensen': 1637,\n",
              " 'mariajensen music': 1852,\n",
              " 'music original': 1972,\n",
              " 'original pop': 2126,\n",
              " 'pop producer': 2288,\n",
              " 'producer red': 2326,\n",
              " 'red rock': 2403,\n",
              " 'rock soul': 2464,\n",
              " 'soul singer': 2766,\n",
              " 'singer songwriter': 2643,\n",
              " 'songwriter song': 2715,\n",
              " 'song universal': 2713,\n",
              " 'universal sony': 3095,\n",
              " 'wedding': 3203,\n",
              " 'dvd': 766,\n",
              " 'thought': 2988,\n",
              " 'lost': 1785,\n",
              " 'samsung galaxy': 2511,\n",
              " 'ipadmini': 1455,\n",
              " 'instamoment': 1416,\n",
              " 'apple ipadmini': 130,\n",
              " 'new baby': 2008,\n",
              " 'feeling': 877,\n",
              " 'broken': 368,\n",
              " 'replaced': 2425,\n",
              " 'happiness': 1201,\n",
              " 'ce': 448,\n",
              " 'light': 1723,\n",
              " 'indonesia': 1362,\n",
              " 'sonya': 2739,\n",
              " 'photooftheday instagood': 2216,\n",
              " 'sony sonya': 2732,\n",
              " 'gold': 1120,\n",
              " 'iphone gold': 1492,\n",
              " 'reset': 2430,\n",
              " 'sorry': 2760,\n",
              " 'white': 3217,\n",
              " 'tea': 2928,\n",
              " 'chilling': 485,\n",
              " 'samsung smile': 2525,\n",
              " 'clear': 506,\n",
              " 'cover': 591,\n",
              " 'samsunggalaxy': 2532,\n",
              " 'mouse': 1958,\n",
              " 'came': 405,\n",
              " 'magic': 1831,\n",
              " 'come': 533,\n",
              " 'followsunday': 938,\n",
              " 'followback': 928,\n",
              " 'teamfollowback': 2932,\n",
              " 'retweet': 2439,\n",
              " 'ya': 3282,\n",
              " 'thing': 2983,\n",
              " 'followsunday followback': 939,\n",
              " 'followback teamfollowback': 930,\n",
              " 'teamfollowback retweet': 2933,\n",
              " 'retweet iphone': 2442,\n",
              " 'iphone ya': 1553,\n",
              " 'ya thing': 3283,\n",
              " 'problem': 2323,\n",
              " 'issue': 1586,\n",
              " 'able': 0,\n",
              " 'shoot': 2610,\n",
              " 'nature pic': 1990,\n",
              " 'pic photo': 2229,\n",
              " 'price': 2312,\n",
              " 'device': 701,\n",
              " 'new apple': 2006,\n",
              " 'apple device': 111,\n",
              " 'win': 3225,\n",
              " 'memory': 1872,\n",
              " 'brother': 369,\n",
              " 'oh': 2106,\n",
              " 'comment': 539,\n",
              " 'lip': 1744,\n",
              " 'enjoying': 807,\n",
              " 'playstation': 2269,\n",
              " 'gamer': 1060,\n",
              " 'iphone instagram': 1501,\n",
              " 'wrong': 3266,\n",
              " 'right': 2454,\n",
              " 'today': 3011,\n",
              " 'item': 1591,\n",
              " 'earphone': 774,\n",
              " 'earpods': 776,\n",
              " 'lifestyle': 1722,\n",
              " 'fuckyou': 1008,\n",
              " 'bug': 376,\n",
              " 'buck': 374,\n",
              " 'little': 1749,\n",
              " 'quality': 2365,\n",
              " 'fuckyou apple': 1009,\n",
              " 'girlfriend': 1103,\n",
              " 'bf': 285,\n",
              " 'card': 426,\n",
              " 'present': 2306,\n",
              " 'mom': 1928,\n",
              " 'macbookpro': 1826,\n",
              " 'macbook': 1820,\n",
              " 'sweden': 2892,\n",
              " 'birthday present': 299,\n",
              " 'apple macbookpro': 141,\n",
              " 'quote': 2369,\n",
              " 'wisdom': 3236,\n",
              " 'word': 3245,\n",
              " 'tweetgram': 3074,\n",
              " 'photo quote': 2192,\n",
              " 'quote day': 2370,\n",
              " 'day quote': 662,\n",
              " 'quote wisdom': 2372,\n",
              " 'wisdom word': 3237,\n",
              " 'word smile': 3246,\n",
              " 'smile tweetgram': 2691,\n",
              " 'tweetgram cute': 3075,\n",
              " 'cute iphone': 629,\n",
              " 'iphone fashion': 1484,\n",
              " 'customer': 619,\n",
              " 'great': 1163,\n",
              " 'repair': 2423,\n",
              " 'hour': 1297,\n",
              " 'customer service': 621,\n",
              " 'recovery': 2400,\n",
              " 'mode': 1922,\n",
              " 'iphone update': 1547,\n",
              " 'recovery mode': 2401,\n",
              " 'yousuck': 3304,\n",
              " 'usa': 3117,\n",
              " 'company': 542,\n",
              " 'loser': 1783,\n",
              " 'working': 3255,\n",
              " 'server': 2586,\n",
              " 'dumb': 764,\n",
              " 'model': 1923,\n",
              " 'handmade': 1196,\n",
              " 'iphone sony': 1539,\n",
              " 'cd': 447,\n",
              " 'iphoneonly iphone': 1564,\n",
              " 'feature': 872,\n",
              " 'know iphone': 1658,\n",
              " 'box': 345,\n",
              " 'yey': 3297,\n",
              " 'blessed': 313,\n",
              " 'feliz': 878,\n",
              " 'coffee': 522,\n",
              " 'effect': 790,\n",
              " 'created': 606,\n",
              " 'spring': 2791,\n",
              " 'galaxynote': 1048,\n",
              " 'awsome': 221,\n",
              " 'best': 270,\n",
              " 'note samsung': 2083,\n",
              " 'special': 2779,\n",
              " 'valentine': 3132,\n",
              " 'nowplaying': 2087,\n",
              " 'daughter': 653,\n",
              " 'poem': 2281,\n",
              " 'special app': 2780,\n",
              " 'app valentine': 93,\n",
              " 'daughter poem': 654,\n",
              " 'valentine iphone': 3134,\n",
              " 'pa': 2135,\n",
              " 'car': 424,\n",
              " 'sign': 2633,\n",
              " 'photo day': 2185,\n",
              " 'lunch': 1811,\n",
              " 'park': 2151,\n",
              " 'carrot': 428,\n",
              " 'banana': 235,\n",
              " 'lovely': 1798,\n",
              " 'autumn': 214,\n",
              " 'leaf': 1683,\n",
              " 'spend': 2782,\n",
              " 'faith': 848,\n",
              " 'book': 330,\n",
              " 'love iphone': 1791,\n",
              " 'iphone photography': 1525,\n",
              " 'say': 2546,\n",
              " 'fuck': 997,\n",
              " 'took': 3024,\n",
              " 'download': 739,\n",
              " 'hate': 1219,\n",
              " 'apple want': 162,\n",
              " 'new update': 2043,\n",
              " 'took hour': 3025,\n",
              " 'hate apple': 1220,\n",
              " 'apple io': 128,\n",
              " 'taken instagram': 2914,\n",
              " 'added': 26,\n",
              " 'york': 3301,\n",
              " 'ny': 2092,\n",
              " 'education': 789,\n",
              " 'new york': 2047,\n",
              " 'iphone fun': 1487,\n",
              " 'missed': 1912,\n",
              " 'min': 1901,\n",
              " 'jump': 1624,\n",
              " 'rid': 2451,\n",
              " 'absolutely': 1,\n",
              " 'tmobile': 3010,\n",
              " 'ha come': 1182,\n",
              " 'iphone samsung': 1534,\n",
              " 'frank': 966,\n",
              " 'ocean': 2098,\n",
              " 'new news': 2036,\n",
              " 'funny lol': 1024,\n",
              " 'annoying': 81,\n",
              " 'level': 1701,\n",
              " 'buy': 387,\n",
              " 'version': 3144,\n",
              " 'important': 1352,\n",
              " 'mood': 1941,\n",
              " 'bos': 336,\n",
              " 'blog': 316,\n",
              " 'style': 2851,\n",
              " 'bestoftheday': 279,\n",
              " 'pretty': 2308,\n",
              " 'babe': 223,\n",
              " 'wednesday': 3204,\n",
              " 'blog life': 318,\n",
              " 'send': 2580,\n",
              " 'turn': 3065,\n",
              " 'imessage': 1349,\n",
              " 'sleep': 2665,\n",
              " 'popular': 2289,\n",
              " 'tweet': 3073,\n",
              " 'rabbit': 2373,\n",
              " 'hop': 1290,\n",
              " 'bounce': 342,\n",
              " 'charlie': 472,\n",
              " 'shotoniphone': 2623,\n",
              " 'photographer': 2200,\n",
              " 'chuck': 497,\n",
              " 'shotoniphone apple': 2624,\n",
              " 'apple iphone': 131,\n",
              " 'photography photographer': 2210,\n",
              " 'happy valentine': 1208,\n",
              " 'valentine day': 3133,\n",
              " 'day iphone': 659,\n",
              " 'vegan': 3141,\n",
              " 'silly': 2635,\n",
              " 'syncing': 2903,\n",
              " 'hear': 1244,\n",
              " 'second': 2564,\n",
              " 'fml': 923,\n",
              " 'candy': 416,\n",
              " 'nice': 2064,\n",
              " 'hand': 1195,\n",
              " 'gb': 1071,\n",
              " 'iphonex iphone': 1578,\n",
              " 'apple pic': 148,\n",
              " 'bar': 239,\n",
              " 'key': 1638,\n",
              " 'long': 1769,\n",
              " 'cold': 523,\n",
              " 'boot': 334,\n",
              " 'siri': 2648,\n",
              " 'nephew': 2000,\n",
              " 'shot': 2622,\n",
              " 'iphone igers': 1497,\n",
              " 'instagram instagood': 1398,\n",
              " 'instagood instadaily': 1385,\n",
              " 'literally': 1748,\n",
              " 'contact': 563,\n",
              " 'lost contact': 1786,\n",
              " 'wonder': 3242,\n",
              " 'available': 215,\n",
              " 'laptop': 1670,\n",
              " 'vaio': 3131,\n",
              " 'inlove': 1367,\n",
              " 'laptop sony': 1673,\n",
              " 'sony vaio': 2735,\n",
              " 'blackberry': 308,\n",
              " 'fruit': 993,\n",
              " 'fall': 850,\n",
              " 'worry': 3260,\n",
              " 'soon': 2754,\n",
              " 'yum': 3309,\n",
              " 'food iphone': 945,\n",
              " 'iphone iphoneonly': 1509,\n",
              " 'yosemite': 3302,\n",
              " 'hill': 1267,\n",
              " 'mac': 1815,\n",
              " 'apple update': 159,\n",
              " 'warning': 3188,\n",
              " 'display': 717,\n",
              " 'fuckyou sony': 1010,\n",
              " 'told': 3021,\n",
              " 'stop': 2820,\n",
              " 'like hour': 1728,\n",
              " 'selfie samsung': 2577,\n",
              " 'gear': 1077,\n",
              " 'vr': 3167,\n",
              " 'new samsung': 2038,\n",
              " 'past': 2158,\n",
              " 'past year': 2160,\n",
              " 'american': 62,\n",
              " 'single': 2644,\n",
              " 'paid': 2140,\n",
              " 'sup': 2875,\n",
              " 'surf': 2884,\n",
              " 'capetown': 418,\n",
              " 'xt': 3280,\n",
              " 'instagram sup': 1404,\n",
              " 'sup surf': 2876,\n",
              " 'surf fun': 2885,\n",
              " 'fun capetown': 1012,\n",
              " 'capetown funny': 419,\n",
              " 'funny sexy': 1025,\n",
              " 'sexy samsung': 2595,\n",
              " 'samsung pic': 2520,\n",
              " 'final': 892,\n",
              " 'pro': 2320,\n",
              " 'trial': 3050,\n",
              " 'doe work': 726,\n",
              " 'half': 1193,\n",
              " 'downloaded': 743,\n",
              " 'mistake': 1914,\n",
              " 'stuff': 2846,\n",
              " 'arrived': 189,\n",
              " 'excited': 823,\n",
              " 'open': 2120,\n",
              " 'android samsung': 72,\n",
              " 'short': 2621,\n",
              " 'constantly': 561,\n",
              " 'piss': 2250,\n",
              " 'need new': 1998,\n",
              " 'iphone charger': 1475,\n",
              " 'like apple': 1726,\n",
              " 'officially': 2105,\n",
              " 'keyboard': 1639,\n",
              " 'okay': 2109,\n",
              " 'challenge': 457,\n",
              " 'decision': 676,\n",
              " 'simple': 2639,\n",
              " 'golden': 1121,\n",
              " 'state': 2806,\n",
              " 'colorful': 531,\n",
              " 'like iphone': 1729,\n",
              " 'installing': 1413,\n",
              " 'th': 2961,\n",
              " 'refuse': 2411,\n",
              " 'sync': 2902,\n",
              " 'th time': 2963,\n",
              " 'time week': 3004,\n",
              " 'night': 2067,\n",
              " 'father': 867,\n",
              " 'son': 2710,\n",
              " 'life instago': 1713,\n",
              " 'instahub instamood': 1409,\n",
              " 'instamood instagood': 1422,\n",
              " 'jj': 1611,\n",
              " 'party': 2153,\n",
              " 'happy birthday': 1203,\n",
              " 'makeup': 1838,\n",
              " 'fashion makeup': 863,\n",
              " 'match': 1860,\n",
              " 'valentinesday': 3138,\n",
              " 'ad': 23,\n",
              " 'february': 873,\n",
              " 'gamers': 1062,\n",
              " 'college': 526,\n",
              " 'playstation sony': 2270,\n",
              " 'portrait': 2293,\n",
              " 'sonyalpha': 2740,\n",
              " 'mm': 1916,\n",
              " 'dof': 727,\n",
              " 'bokeh': 327,\n",
              " 'grey': 1169,\n",
              " 'sony sony': 2731,\n",
              " 'sony mm': 2723,\n",
              " 'hacker': 1184,\n",
              " 'password': 2156,\n",
              " 'hacker wifi': 1185,\n",
              " 'wifi password': 3223,\n",
              " 'password android': 2157,\n",
              " 'cute color': 626,\n",
              " 'color igers': 530,\n",
              " 'extra': 835,\n",
              " 'zoom': 3321,\n",
              " 'deleted': 682,\n",
              " 'music apple': 1966,\n",
              " 'apple fucking': 120,\n",
              " 'addiction': 29,\n",
              " 'dot': 735,\n",
              " 'prophet': 2337,\n",
              " 'husband': 1311,\n",
              " 'kindle': 1651,\n",
              " 'prophet husband': 2338,\n",
              " 'husband iphone': 1312,\n",
              " 'iphone android': 1464,\n",
              " 'android kindle': 71,\n",
              " 'kindle book': 1652,\n",
              " 'upgraded': 3112,\n",
              " 'instagramers': 1405,\n",
              " 'instalike': 1410,\n",
              " 'help': 1256,\n",
              " 'child': 483,\n",
              " 'malaysia': 1842,\n",
              " 'time day': 2999,\n",
              " 'tab': 2904,\n",
              " 'real': 2388,\n",
              " 'galaxy tab': 1046,\n",
              " 'santa': 2538,\n",
              " 'earlier': 770,\n",
              " 'hi': 1261,\n",
              " 'world': 3258,\n",
              " 'old': 2110,\n",
              " 'followme': 934,\n",
              " 'like like': 1731,\n",
              " 'gray': 1162,\n",
              " 'swag': 2890,\n",
              " 'cat': 441,\n",
              " 'edit': 785,\n",
              " 'sick': 2632,\n",
              " 'paint': 2142,\n",
              " 'cat iphone': 443,\n",
              " 'iphone new': 1522,\n",
              " 'bullshit': 379,\n",
              " 'gta': 1172,\n",
              " 'sony playstation': 2727,\n",
              " 'iwatch': 1597,\n",
              " 'perfect': 2174,\n",
              " 'instaphoto': 1425,\n",
              " 'good night': 1128,\n",
              " 'welcome': 3211,\n",
              " 'drawing': 747,\n",
              " 'sketch': 2655,\n",
              " 'throw': 2991,\n",
              " 'sm': 2671,\n",
              " 'want throw': 3184,\n",
              " 'body': 326,\n",
              " 'concert': 556,\n",
              " 'fast': 865,\n",
              " 'promise': 2334,\n",
              " 'evening': 817,\n",
              " 'round': 2473,\n",
              " 'update apple': 3103,\n",
              " 'hate itunes': 1224,\n",
              " 'apple android': 97,\n",
              " 'offer': 2101,\n",
              " 'middle': 1897,\n",
              " 'buy iphone': 389,\n",
              " 'night iphone': 2068,\n",
              " 'charger iphone': 468,\n",
              " 'used': 3122,\n",
              " 'hole': 1277,\n",
              " 'account': 16,\n",
              " 'apple product': 150,\n",
              " 'photo pic': 2191,\n",
              " 'city': 502,\n",
              " 'baby new': 228,\n",
              " 'story': 2829,\n",
              " 'destiny': 696,\n",
              " 'awesome': 219,\n",
              " 'photography iphone': 2207,\n",
              " 'accessory': 14,\n",
              " 'bag': 233,\n",
              " 'info': 1363,\n",
              " 'friendly': 990,\n",
              " 'disappointed': 711,\n",
              " 'time update': 3003,\n",
              " 'goodnight': 1132,\n",
              " 'dubai': 761,\n",
              " 'dream': 748,\n",
              " 'hope': 1291,\n",
              " 'uae': 3082,\n",
              " 'advance': 33,\n",
              " 'lucky': 1809,\n",
              " 'thank apple': 2968,\n",
              " 'deal': 666,\n",
              " 'bluray': 325,\n",
              " 'foto': 958,\n",
              " 'passion': 2154,\n",
              " 'behappy': 266,\n",
              " 'photography photo': 2209,\n",
              " 'camera sony': 411,\n",
              " 'sony pic': 2726,\n",
              " 'reading': 2386,\n",
              " 'nearly': 1996,\n",
              " 'edm': 788,\n",
              " 'amor': 63,\n",
              " 'playlist': 2268,\n",
              " 'like new': 1733,\n",
              " 'god': 1114,\n",
              " 'thank god': 2969,\n",
              " 'instagram iphonesia': 1401,\n",
              " 'nx': 2090,\n",
              " 'tha': 2964,\n",
              " 'beauty': 258,\n",
              " 'iphoneisa': 1557,\n",
              " 'foreveryoung': 953,\n",
              " 'friend beauty': 986,\n",
              " 'iphone iphoneisa': 1507,\n",
              " 'updated': 3108,\n",
              " 'galaxy note': 1044,\n",
              " 'thanks samsung': 2977,\n",
              " 'high': 1264,\n",
              " 'lightning': 1724,\n",
              " 'usb': 3118,\n",
              " 'foot': 949,\n",
              " 'geek': 1078,\n",
              " 'bot': 337,\n",
              " 'gadget': 1027,\n",
              " 'technews': 2942,\n",
              " 'power': 2299,\n",
              " 'pc': 2167,\n",
              " 'dev': 697,\n",
              " ...}"
            ]
          },
          "metadata": {},
          "execution_count": 288
        }
      ],
      "source": [
        "CV.vocabulary_"
      ]
    },
    {
      "cell_type": "code",
      "execution_count": 289,
      "id": "47c796bc",
      "metadata": {
        "colab": {
          "base_uri": "https://localhost:8080/"
        },
        "id": "47c796bc",
        "outputId": "72428d4e-f82a-4bb1-dc7e-03153017185c"
      },
      "outputs": [
        {
          "output_type": "execute_result",
          "data": {
            "text/plain": [
              "{'CV': CountVectorizer(min_df=5, ngram_range=(1, 2),\n",
              "                 stop_words=['phone', 'mobile', 'twitter', 'rt', 'com', 'follow',\n",
              "                             'however', 'an', 'but', 'third', 'her', 'one',\n",
              "                             'empty', 'interest', 'couldn', 'ie', 'de',\n",
              "                             'somehow', 'among', 'alone', 'nowhere', 'mustn',\n",
              "                             'its', 'beforehand', \"haven't\", 'somewhere',\n",
              "                             'within', 'until', 'since', 'three', ...]),\n",
              " 'LR': LogisticRegression(C=0.4, class_weight='balanced', penalty='l1',\n",
              "                    solver='liblinear')}"
            ]
          },
          "metadata": {},
          "execution_count": 289
        }
      ],
      "source": [
        "CV_pipe.named_steps"
      ]
    },
    {
      "cell_type": "code",
      "execution_count": 290,
      "id": "d2686aec",
      "metadata": {
        "colab": {
          "base_uri": "https://localhost:8080/",
          "height": 36
        },
        "id": "d2686aec",
        "outputId": "f8facba8-d641-4b0f-a71e-bba48c913d84"
      },
      "outputs": [
        {
          "output_type": "execute_result",
          "data": {
            "text/plain": [
              "'1.4.2'"
            ],
            "application/vnd.google.colaboratory.intrinsic+json": {
              "type": "string"
            }
          },
          "metadata": {},
          "execution_count": 290
        }
      ],
      "source": [
        "import joblib\n",
        "joblib.__version__"
      ]
    },
    {
      "cell_type": "code",
      "execution_count": 291,
      "id": "7b502abf",
      "metadata": {
        "id": "7b502abf"
      },
      "outputs": [],
      "source": [
        "# pip install --upgrade joblib==1.1.0"
      ]
    },
    {
      "cell_type": "code",
      "execution_count": 292,
      "id": "d8e5bd58",
      "metadata": {
        "colab": {
          "base_uri": "https://localhost:8080/"
        },
        "id": "d8e5bd58",
        "outputId": "b85f3e2a-737e-4d7b-f76d-72b7ca706da5"
      },
      "outputs": [
        {
          "output_type": "stream",
          "name": "stdout",
          "text": [
            "Requirement already satisfied: mglearn in /usr/local/lib/python3.10/dist-packages (0.2.0)\n",
            "Requirement already satisfied: numpy in /usr/local/lib/python3.10/dist-packages (from mglearn) (1.25.2)\n",
            "Requirement already satisfied: matplotlib in /usr/local/lib/python3.10/dist-packages (from mglearn) (3.7.1)\n",
            "Requirement already satisfied: scikit-learn in /usr/local/lib/python3.10/dist-packages (from mglearn) (1.2.2)\n",
            "Requirement already satisfied: pandas in /usr/local/lib/python3.10/dist-packages (from mglearn) (2.0.3)\n",
            "Requirement already satisfied: pillow in /usr/local/lib/python3.10/dist-packages (from mglearn) (9.4.0)\n",
            "Requirement already satisfied: cycler in /usr/local/lib/python3.10/dist-packages (from mglearn) (0.12.1)\n",
            "Requirement already satisfied: imageio in /usr/local/lib/python3.10/dist-packages (from mglearn) (2.31.6)\n",
            "Requirement already satisfied: joblib in /usr/local/lib/python3.10/dist-packages (from mglearn) (1.4.2)\n",
            "Requirement already satisfied: contourpy>=1.0.1 in /usr/local/lib/python3.10/dist-packages (from matplotlib->mglearn) (1.2.1)\n",
            "Requirement already satisfied: fonttools>=4.22.0 in /usr/local/lib/python3.10/dist-packages (from matplotlib->mglearn) (4.51.0)\n",
            "Requirement already satisfied: kiwisolver>=1.0.1 in /usr/local/lib/python3.10/dist-packages (from matplotlib->mglearn) (1.4.5)\n",
            "Requirement already satisfied: packaging>=20.0 in /usr/local/lib/python3.10/dist-packages (from matplotlib->mglearn) (24.0)\n",
            "Requirement already satisfied: pyparsing>=2.3.1 in /usr/local/lib/python3.10/dist-packages (from matplotlib->mglearn) (3.1.2)\n",
            "Requirement already satisfied: python-dateutil>=2.7 in /usr/local/lib/python3.10/dist-packages (from matplotlib->mglearn) (2.8.2)\n",
            "Requirement already satisfied: pytz>=2020.1 in /usr/local/lib/python3.10/dist-packages (from pandas->mglearn) (2023.4)\n",
            "Requirement already satisfied: tzdata>=2022.1 in /usr/local/lib/python3.10/dist-packages (from pandas->mglearn) (2024.1)\n",
            "Requirement already satisfied: scipy>=1.3.2 in /usr/local/lib/python3.10/dist-packages (from scikit-learn->mglearn) (1.11.4)\n",
            "Requirement already satisfied: threadpoolctl>=2.0.0 in /usr/local/lib/python3.10/dist-packages (from scikit-learn->mglearn) (3.5.0)\n",
            "Requirement already satisfied: six>=1.5 in /usr/local/lib/python3.10/dist-packages (from python-dateutil>=2.7->matplotlib->mglearn) (1.16.0)\n"
          ]
        }
      ],
      "source": [
        "!pip install mglearn\n",
        "import mglearn"
      ]
    },
    {
      "cell_type": "code",
      "execution_count": 293,
      "id": "56595ea9",
      "metadata": {
        "colab": {
          "base_uri": "https://localhost:8080/",
          "height": 440
        },
        "id": "56595ea9",
        "outputId": "cc94245e-6198-44c0-ce74-b8018c175e78"
      },
      "outputs": [
        {
          "output_type": "display_data",
          "data": {
            "text/plain": [
              "<Figure size 1500x500 with 1 Axes>"
            ],
            "image/png": "[encoded data removed]"
          },
          "metadata": {}
        }
      ],
      "source": [
        "# Most important features when using unigrams, bigrams, and trigrams with tf-idf rescaling\n",
        "\n",
        "feature_names = np.array(CV.get_feature_names_out())\n",
        "\n",
        "LR1.fit(CV.fit_transform(X), y)\n",
        "coef = LR1.coef_\n",
        "mglearn.tools.visualize_coefficients(coef, feature_names, n_top_features=25)"
      ]
    },
    {
      "cell_type": "code",
      "execution_count": 294,
      "id": "8d5d7026",
      "metadata": {
        "colab": {
          "base_uri": "https://localhost:8080/"
        },
        "id": "8d5d7026",
        "outputId": "38b4bf2f-9525-46cf-a11a-b92907b45d8f"
      },
      "outputs": [
        {
          "output_type": "execute_result",
          "data": {
            "text/plain": [
              "(3322, 3322)"
            ]
          },
          "metadata": {},
          "execution_count": 294
        }
      ],
      "source": [
        "len(coef.ravel()), len(feature_names)"
      ]
    },
    {
      "cell_type": "code",
      "execution_count": 295,
      "id": "abdc41f8",
      "metadata": {
        "colab": {
          "base_uri": "https://localhost:8080/",
          "height": 527
        },
        "id": "abdc41f8",
        "outputId": "9b549f8e-51e9-4f3d-bb88-2d3885b32825"
      },
      "outputs": [
        {
          "output_type": "display_data",
          "data": {
            "text/plain": [
              "<Figure size 1500x500 with 1 Axes>"
            ],
            "image/png": "[encoded data removed]"
          },
          "metadata": {}
        }
      ],
      "source": [
        "# find 2-gram features\n",
        "mask = np.array([len(feature.split(\" \")) for feature in feature_names]) == 2\n",
        "\n",
        "LR1.fit(CV.fit_transform(X), y)\n",
        "coef = LR1.coef_\n",
        "\n",
        "# visualize only 2-gram features\n",
        "mglearn.tools.visualize_coefficients(coef.ravel()[mask], feature_names[mask], n_top_features=25)"
      ]
    },
    {
      "cell_type": "code",
      "execution_count": 296,
      "id": "1a9791e2",
      "metadata": {
        "colab": {
          "base_uri": "https://localhost:8080/"
        },
        "id": "1a9791e2",
        "outputId": "13c2a232-4b18-49b8-b011-b635eb189e69"
      },
      "outputs": [
        {
          "output_type": "stream",
          "name": "stdout",
          "text": [
            "88.88 0.2\n",
            "86.84 0.68\n"
          ]
        },
        {
          "output_type": "execute_result",
          "data": {
            "text/plain": [
              "3871"
            ]
          },
          "metadata": {},
          "execution_count": 296
        }
      ],
      "source": [
        "# Unigrams + Bigrams + Trigrams\n",
        "X = data['cleaned_tweets_w/o_SW']\n",
        "y = data['label']\n",
        "\n",
        "CV = CountVectorizer(stop_words=final_stopwords,  ngram_range=(1, 3), min_df=5)\n",
        "\n",
        "LR1 = LogisticRegression(class_weight='balanced', solver='liblinear', penalty='l1', C=0.4)\n",
        "CV_pipe = Pipeline([('CV', CV) , ('LR', LR1)] )\n",
        "results = cross_validate(CV_pipe, X, y, cv=kfold, scoring='accuracy', return_train_score=True)\n",
        "\n",
        "# print(results['train_score'])\n",
        "print(np.round((results['train_score'].mean())*100, 2), np.round((results['train_score'].std())*100, 2))\n",
        "\n",
        "# print(results['test_score'])\n",
        "print(np.round((results['test_score'].mean())*100, 2), np.round((results['test_score'].std())*100, 2))\n",
        "\n",
        "CV.fit_transform(X)\n",
        "len(CV.vocabulary_)  # no. of features AFTER applying the stopwords"
      ]
    },
    {
      "cell_type": "code",
      "execution_count": 297,
      "id": "a352bfd4",
      "metadata": {
        "colab": {
          "base_uri": "https://localhost:8080/"
        },
        "id": "a352bfd4",
        "outputId": "532e4b25-667c-4487-a75e-3de63d3ae5f2"
      },
      "outputs": [
        {
          "output_type": "execute_result",
          "data": {
            "text/plain": [
              "(3322, 3322)"
            ]
          },
          "metadata": {},
          "execution_count": 297
        }
      ],
      "source": [
        "len(coef.ravel()), len(feature_names)"
      ]
    },
    {
      "cell_type": "code",
      "execution_count": 298,
      "id": "0bd6cbc9",
      "metadata": {
        "id": "0bd6cbc9"
      },
      "outputs": [],
      "source": [
        "data.to_pickle(\"tweets_cleaned.pkl\")"
      ]
    },
    {
      "cell_type": "code",
      "execution_count": 299,
      "id": "666a82ef",
      "metadata": {
        "colab": {
          "base_uri": "https://localhost:8080/",
          "height": 293
        },
        "id": "666a82ef",
        "outputId": "dac83bb6-61e2-42bb-cca6-2e28c6f93b3c"
      },
      "outputs": [
        {
          "output_type": "execute_result",
          "data": {
            "text/plain": [
              "   id  label  \\\n",
              "0   1      0   \n",
              "1   2      0   \n",
              "2   3      0   \n",
              "3   4      0   \n",
              "4   5      1   \n",
              "\n",
              "                                                                                                                                 tweet  \\\n",
              "0     #fingerprint #Pregnancy Test https://goo.gl/h1MfQV #android #apps #beautiful #cute #health #igers #iphoneonly #iphonesia #iphone   \n",
              "1  Finally a transparant silicon case ^^ Thanks to my uncle :) #yay #Sony #Xperia #S #sonyexperias… http://instagram.com/p/YGEt5JC6JM/   \n",
              "2          We love this! Would you go? #talk #makememories #unplug #relax #iphone #smartphone #wifi #connect... http://fb.me/6N3LsUpCu   \n",
              "3                     I'm wired I know I'm George I was made that way ;) #iphone #cute #daventry #home http://instagr.am/p/Li_5_ujS4k/   \n",
              "4         What amazing service! Apple won't even talk to me about a question I have unless I pay them $19.95 for their stupid support!   \n",
              "\n",
              "                                                                                                     cleaned_tweets_w/o_SW  \\\n",
              "0                         fingerprint pregnancy test android apps beautiful cute health igers iphoneonly iphonesia iphone    \n",
              "1                                    finally a transparant silicon case thanks to my uncle yay sony xperia s sonyexperias    \n",
              "2                                 we love this would you go talk makememories unplug relax iphone smartphone wifi connect    \n",
              "3                                              i am wired i know i am george i wa made that way iphone cute daventry home    \n",
              "4  what amazing service apple will not even talk to me about a question i have unless i pay them for their stupid support    \n",
              "\n",
              "                                                                             cleaned_tweets_with_SW  \n",
              "0  fingerprint pregnancy test android apps beautiful cute health igers iphoneonly iphonesia iphone   \n",
              "1                       finally transparant silicon case thanks uncle yay sony xperia sonyexperias   \n",
              "2                               love talk makememories unplug relax iphone smartphone wifi connect   \n",
              "3                                                  wired know george way iphone cute daventry home   \n",
              "4                                    amazing service apple talk question unless pay stupid support   "
            ],
            "text/html": [
              "\n",
              "  <div id=\"df-71dad6fe-76e8-4423-a90f-8c71e72efb77\" class=\"colab-df-container\">\n",
              "    <div>\n",
              "<style scoped>\n",
              "    .dataframe tbody tr th:only-of-type {\n",
              "        vertical-align: middle;\n",
              "    }\n",
              "\n",
              "    .dataframe tbody tr th {\n",
              "        vertical-align: top;\n",
              "    }\n",
              "\n",
              "    .dataframe thead th {\n",
              "        text-align: right;\n",
              "    }\n",
              "</style>\n",
              "<table border=\"1\" class=\"dataframe\">\n",
              "  <thead>\n",
              "    <tr style=\"text-align: right;\">\n",
              "      <th></th>\n",
              "      <th>id</th>\n",
              "      <th>label</th>\n",
              "      <th>tweet</th>\n",
              "      <th>cleaned_tweets_w/o_SW</th>\n",
              "      <th>cleaned_tweets_with_SW</th>\n",
              "    </tr>\n",
              "  </thead>\n",
              "  <tbody>\n",
              "    <tr>\n",
              "      <th>0</th>\n",
              "      <td>1</td>\n",
              "      <td>0</td>\n",
              "      <td>#fingerprint #Pregnancy Test https://goo.gl/h1MfQV #android #apps #beautiful #cute #health #igers #iphoneonly #iphonesia #iphone</td>\n",
              "      <td>fingerprint pregnancy test android apps beautiful cute health igers iphoneonly iphonesia iphone</td>\n",
              "      <td>fingerprint pregnancy test android apps beautiful cute health igers iphoneonly iphonesia iphone</td>\n",
              "    </tr>\n",
              "    <tr>\n",
              "      <th>1</th>\n",
              "      <td>2</td>\n",
              "      <td>0</td>\n",
              "      <td>Finally a transparant silicon case ^^ Thanks to my uncle :) #yay #Sony #Xperia #S #sonyexperias… http://instagram.com/p/YGEt5JC6JM/</td>\n",
              "      <td>finally a transparant silicon case thanks to my uncle yay sony xperia s sonyexperias</td>\n",
              "      <td>finally transparant silicon case thanks uncle yay sony xperia sonyexperias</td>\n",
              "    </tr>\n",
              "    <tr>\n",
              "      <th>2</th>\n",
              "      <td>3</td>\n",
              "      <td>0</td>\n",
              "      <td>We love this! Would you go? #talk #makememories #unplug #relax #iphone #smartphone #wifi #connect... http://fb.me/6N3LsUpCu</td>\n",
              "      <td>we love this would you go talk makememories unplug relax iphone smartphone wifi connect</td>\n",
              "      <td>love talk makememories unplug relax iphone smartphone wifi connect</td>\n",
              "    </tr>\n",
              "    <tr>\n",
              "      <th>3</th>\n",
              "      <td>4</td>\n",
              "      <td>0</td>\n",
              "      <td>I'm wired I know I'm George I was made that way ;) #iphone #cute #daventry #home http://instagr.am/p/Li_5_ujS4k/</td>\n",
              "      <td>i am wired i know i am george i wa made that way iphone cute daventry home</td>\n",
              "      <td>wired know george way iphone cute daventry home</td>\n",
              "    </tr>\n",
              "    <tr>\n",
              "      <th>4</th>\n",
              "      <td>5</td>\n",
              "      <td>1</td>\n",
              "      <td>What amazing service! Apple won't even talk to me about a question I have unless I pay them $19.95 for their stupid support!</td>\n",
              "      <td>what amazing service apple will not even talk to me about a question i have unless i pay them for their stupid support</td>\n",
              "      <td>amazing service apple talk question unless pay stupid support</td>\n",
              "    </tr>\n",
              "  </tbody>\n",
              "</table>\n",
              "</div>\n",
              "    <div class=\"colab-df-buttons\">\n",
              "\n",
              "  <div class=\"colab-df-container\">\n",
              "    <button class=\"colab-df-convert\" onclick=\"convertToInteractive('df-71dad6fe-76e8-4423-a90f-8c71e72efb77')\"\n",
              "            title=\"Convert this dataframe to an interactive table.\"\n",
              "            style=\"display:none;\">\n",
              "\n",
              "  <svg xmlns=\"http://www.w3.org/2000/svg\" height=\"24px\" viewBox=\"0 -960 960 960\">\n",
              "    <path d=\"M120-120v-720h720v720H120Zm60-500h600v-160H180v160Zm220 220h160v-160H400v160Zm0 220h160v-160H400v160ZM180-400h160v-160H180v160Zm440 0h160v-160H620v160ZM180-180h160v-160H180v160Zm440 0h160v-160H620v160Z\"/>\n",
              "  </svg>\n",
              "    </button>\n",
              "\n",
              "  <style>\n",
              "    .colab-df-container {\n",
              "      display:flex;\n",
              "      gap: 12px;\n",
              "    }\n",
              "\n",
              "    .colab-df-convert {\n",
              "      background-color: #E8F0FE;\n",
              "      border: none;\n",
              "      border-radius: 50%;\n",
              "      cursor: pointer;\n",
              "      display: none;\n",
              "      fill: #1967D2;\n",
              "      height: 32px;\n",
              "      padding: 0 0 0 0;\n",
              "      width: 32px;\n",
              "    }\n",
              "\n",
              "    .colab-df-convert:hover {\n",
              "      background-color: #E2EBFA;\n",
              "      box-shadow: 0px 1px 2px rgba(60, 64, 67, 0.3), 0px 1px 3px 1px rgba(60, 64, 67, 0.15);\n",
              "      fill: #174EA6;\n",
              "    }\n",
              "\n",
              "    .colab-df-buttons div {\n",
              "      margin-bottom: 4px;\n",
              "    }\n",
              "\n",
              "    [theme=dark] .colab-df-convert {\n",
              "      background-color: #3B4455;\n",
              "      fill: #D2E3FC;\n",
              "    }\n",
              "\n",
              "    [theme=dark] .colab-df-convert:hover {\n",
              "      background-color: #434B5C;\n",
              "      box-shadow: 0px 1px 3px 1px rgba(0, 0, 0, 0.15);\n",
              "      filter: drop-shadow(0px 1px 2px rgba(0, 0, 0, 0.3));\n",
              "      fill: #FFFFFF;\n",
              "    }\n",
              "  </style>\n",
              "\n",
              "    <script>\n",
              "      const buttonEl =\n",
              "        document.querySelector('#df-71dad6fe-76e8-4423-a90f-8c71e72efb77 button.colab-df-convert');\n",
              "      buttonEl.style.display =\n",
              "        google.colab.kernel.accessAllowed ? 'block' : 'none';\n",
              "\n",
              "      async function convertToInteractive(key) {\n",
              "        const element = document.querySelector('#df-71dad6fe-76e8-4423-a90f-8c71e72efb77');\n",
              "        const dataTable =\n",
              "          await google.colab.kernel.invokeFunction('convertToInteractive',\n",
              "                                                    [key], {});\n",
              "        if (!dataTable) return;\n",
              "\n",
              "        const docLinkHtml = 'Like what you see? Visit the ' +\n",
              "          '<a target=\"_blank\" href=https://colab.research.google.com/notebooks/data_table.ipynb>data table notebook</a>'\n",
              "          + ' to learn more about interactive tables.';\n",
              "        element.innerHTML = '';\n",
              "        dataTable['output_type'] = 'display_data';\n",
              "        await google.colab.output.renderOutput(dataTable, element);\n",
              "        const docLink = document.createElement('div');\n",
              "        docLink.innerHTML = docLinkHtml;\n",
              "        element.appendChild(docLink);\n",
              "      }\n",
              "    </script>\n",
              "  </div>\n",
              "\n",
              "\n",
              "<div id=\"df-9f4c97ba-5005-4097-b59c-6f4765789c26\">\n",
              "  <button class=\"colab-df-quickchart\" onclick=\"quickchart('df-9f4c97ba-5005-4097-b59c-6f4765789c26')\"\n",
              "            title=\"Suggest charts\"\n",
              "            style=\"display:none;\">\n",
              "\n",
              "<svg xmlns=\"http://www.w3.org/2000/svg\" height=\"24px\"viewBox=\"0 0 24 24\"\n",
              "     width=\"24px\">\n",
              "    <g>\n",
              "        <path d=\"M19 3H5c-1.1 0-2 .9-2 2v14c0 1.1.9 2 2 2h14c1.1 0 2-.9 2-2V5c0-1.1-.9-2-2-2zM9 17H7v-7h2v7zm4 0h-2V7h2v10zm4 0h-2v-4h2v4z\"/>\n",
              "    </g>\n",
              "</svg>\n",
              "  </button>\n",
              "\n",
              "<style>\n",
              "  .colab-df-quickchart {\n",
              "      --bg-color: #E8F0FE;\n",
              "      --fill-color: #1967D2;\n",
              "      --hover-bg-color: #E2EBFA;\n",
              "      --hover-fill-color: #174EA6;\n",
              "      --disabled-fill-color: #AAA;\n",
              "      --disabled-bg-color: #DDD;\n",
              "  }\n",
              "\n",
              "  [theme=dark] .colab-df-quickchart {\n",
              "      --bg-color: #3B4455;\n",
              "      --fill-color: #D2E3FC;\n",
              "      --hover-bg-color: #434B5C;\n",
              "      --hover-fill-color: #FFFFFF;\n",
              "      --disabled-bg-color: #3B4455;\n",
              "      --disabled-fill-color: #666;\n",
              "  }\n",
              "\n",
              "  .colab-df-quickchart {\n",
              "    background-color: var(--bg-color);\n",
              "    border: none;\n",
              "    border-radius: 50%;\n",
              "    cursor: pointer;\n",
              "    display: none;\n",
              "    fill: var(--fill-color);\n",
              "    height: 32px;\n",
              "    padding: 0;\n",
              "    width: 32px;\n",
              "  }\n",
              "\n",
              "  .colab-df-quickchart:hover {\n",
              "    background-color: var(--hover-bg-color);\n",
              "    box-shadow: 0 1px 2px rgba(60, 64, 67, 0.3), 0 1px 3px 1px rgba(60, 64, 67, 0.15);\n",
              "    fill: var(--button-hover-fill-color);\n",
              "  }\n",
              "\n",
              "  .colab-df-quickchart-complete:disabled,\n",
              "  .colab-df-quickchart-complete:disabled:hover {\n",
              "    background-color: var(--disabled-bg-color);\n",
              "    fill: var(--disabled-fill-color);\n",
              "    box-shadow: none;\n",
              "  }\n",
              "\n",
              "  .colab-df-spinner {\n",
              "    border: 2px solid var(--fill-color);\n",
              "    border-color: transparent;\n",
              "    border-bottom-color: var(--fill-color);\n",
              "    animation:\n",
              "      spin 1s steps(1) infinite;\n",
              "  }\n",
              "\n",
              "  @keyframes spin {\n",
              "    0% {\n",
              "      border-color: transparent;\n",
              "      border-bottom-color: var(--fill-color);\n",
              "      border-left-color: var(--fill-color);\n",
              "    }\n",
              "    20% {\n",
              "      border-color: transparent;\n",
              "      border-left-color: var(--fill-color);\n",
              "      border-top-color: var(--fill-color);\n",
              "    }\n",
              "    30% {\n",
              "      border-color: transparent;\n",
              "      border-left-color: var(--fill-color);\n",
              "      border-top-color: var(--fill-color);\n",
              "      border-right-color: var(--fill-color);\n",
              "    }\n",
              "    40% {\n",
              "      border-color: transparent;\n",
              "      border-right-color: var(--fill-color);\n",
              "      border-top-color: var(--fill-color);\n",
              "    }\n",
              "    60% {\n",
              "      border-color: transparent;\n",
              "      border-right-color: var(--fill-color);\n",
              "    }\n",
              "    80% {\n",
              "      border-color: transparent;\n",
              "      border-right-color: var(--fill-color);\n",
              "      border-bottom-color: var(--fill-color);\n",
              "    }\n",
              "    90% {\n",
              "      border-color: transparent;\n",
              "      border-bottom-color: var(--fill-color);\n",
              "    }\n",
              "  }\n",
              "</style>\n",
              "\n",
              "  <script>\n",
              "    async function quickchart(key) {\n",
              "      const quickchartButtonEl =\n",
              "        document.querySelector('#' + key + ' button');\n",
              "      quickchartButtonEl.disabled = true;  // To prevent multiple clicks.\n",
              "      quickchartButtonEl.classList.add('colab-df-spinner');\n",
              "      try {\n",
              "        const charts = await google.colab.kernel.invokeFunction(\n",
              "            'suggestCharts', [key], {});\n",
              "      } catch (error) {\n",
              "        console.error('Error during call to suggestCharts:', error);\n",
              "      }\n",
              "      quickchartButtonEl.classList.remove('colab-df-spinner');\n",
              "      quickchartButtonEl.classList.add('colab-df-quickchart-complete');\n",
              "    }\n",
              "    (() => {\n",
              "      let quickchartButtonEl =\n",
              "        document.querySelector('#df-9f4c97ba-5005-4097-b59c-6f4765789c26 button');\n",
              "      quickchartButtonEl.style.display =\n",
              "        google.colab.kernel.accessAllowed ? 'block' : 'none';\n",
              "    })();\n",
              "  </script>\n",
              "</div>\n",
              "\n",
              "    </div>\n",
              "  </div>\n"
            ],
            "application/vnd.google.colaboratory.intrinsic+json": {
              "type": "dataframe",
              "variable_name": "data",
              "summary": "{\n  \"name\": \"data\",\n  \"rows\": 7920,\n  \"fields\": [\n    {\n      \"column\": \"id\",\n      \"properties\": {\n        \"dtype\": \"number\",\n        \"std\": 2286,\n        \"min\": 1,\n        \"max\": 7920,\n        \"num_unique_values\": 7920,\n        \"samples\": [\n          4897,\n          7540,\n          1678\n        ],\n        \"semantic_type\": \"\",\n        \"description\": \"\"\n      }\n    },\n    {\n      \"column\": \"label\",\n      \"properties\": {\n        \"dtype\": \"number\",\n        \"std\": 0,\n        \"min\": 0,\n        \"max\": 1,\n        \"num_unique_values\": 2,\n        \"samples\": [\n          1,\n          0\n        ],\n        \"semantic_type\": \"\",\n        \"description\": \"\"\n      }\n    },\n    {\n      \"column\": \"tweet\",\n      \"properties\": {\n        \"dtype\": \"string\",\n        \"num_unique_values\": 7918,\n        \"samples\": [\n          \"My face as dad gave me cards worth \\u00a320, 000.00 #gay #shopping #boy #macbook #apple #blonde #pickofthe http://instagr.am/p/Uo5Ue7H7A8/\",\n          \"@skullcandy your product is brutal, 1 headphone always stops working. Get it together #Sony ftw\"\n        ],\n        \"semantic_type\": \"\",\n        \"description\": \"\"\n      }\n    },\n    {\n      \"column\": \"cleaned_tweets_w/o_SW\",\n      \"properties\": {\n        \"dtype\": \"string\",\n        \"num_unique_values\": 7712,\n        \"samples\": [\n          \"samsung galaxy edge new super ebace geneva genevalake phone photo by b st n ge rge \",\n          \"the key to my heart teamminibar clubdrunkviners iphone lgbt guy lol comedy artpop heart \"\n        ],\n        \"semantic_type\": \"\",\n        \"description\": \"\"\n      }\n    },\n    {\n      \"column\": \"cleaned_tweets_with_SW\",\n      \"properties\": {\n        \"dtype\": \"string\",\n        \"num_unique_values\": 7585,\n        \"samples\": [\n          \"iphone slowly braking screen cracked charge \",\n          \"make smartphones webos palm died android sstinkybad \"\n        ],\n        \"semantic_type\": \"\",\n        \"description\": \"\"\n      }\n    }\n  ]\n}"
            }
          },
          "metadata": {},
          "execution_count": 299
        }
      ],
      "source": [
        "data = pd.read_pickle(\"tweets_cleaned.pkl\")\n",
        "data.head()"
      ]
    },
    {
      "cell_type": "markdown",
      "id": "kkMsldFq139A",
      "metadata": {
        "id": "kkMsldFq139A"
      },
      "source": [
        "**Word Embedding**"
      ]
    },
    {
      "cell_type": "code",
      "execution_count": 300,
      "id": "pS__6NQma1yC",
      "metadata": {
        "colab": {
          "base_uri": "https://localhost:8080/"
        },
        "id": "pS__6NQma1yC",
        "outputId": "46f0c880-c40c-4041-c68f-695886828d95"
      },
      "outputs": [
        {
          "output_type": "execute_result",
          "data": {
            "text/plain": [
              "['fingerprint',\n",
              " 'pregnancy',\n",
              " 'test',\n",
              " 'android',\n",
              " 'apps',\n",
              " 'beautiful',\n",
              " 'cute',\n",
              " 'health',\n",
              " 'igers',\n",
              " 'iphoneonly',\n",
              " 'iphonesia',\n",
              " 'iphone']"
            ]
          },
          "metadata": {},
          "execution_count": 300
        }
      ],
      "source": [
        "tweets_list = list(data['cleaned_tweets_w/o_SW'].apply(lambda x: x.split()))\n",
        "tweets_list[0] # list of lists, where each tweet is a list of tokens, finally we have a list of tweets"
      ]
    },
    {
      "cell_type": "code",
      "execution_count": 301,
      "id": "XzJQsMVga9Ig",
      "metadata": {
        "colab": {
          "base_uri": "https://localhost:8080/"
        },
        "id": "XzJQsMVga9Ig",
        "outputId": "915474aa-73d8-486f-e4f3-57700a0a80c0"
      },
      "outputs": [
        {
          "output_type": "stream",
          "name": "stdout",
          "text": [
            "Requirement already satisfied: gensim in /usr/local/lib/python3.10/dist-packages (4.3.2)\n",
            "Requirement already satisfied: numpy>=1.18.5 in /usr/local/lib/python3.10/dist-packages (from gensim) (1.25.2)\n",
            "Requirement already satisfied: scipy>=1.7.0 in /usr/local/lib/python3.10/dist-packages (from gensim) (1.11.4)\n",
            "Requirement already satisfied: smart-open>=1.8.1 in /usr/local/lib/python3.10/dist-packages (from gensim) (6.4.0)\n"
          ]
        }
      ],
      "source": [
        "!pip install gensim"
      ]
    },
    {
      "cell_type": "code",
      "execution_count": 302,
      "id": "bVNXgh_Ca_Uz",
      "metadata": {
        "id": "bVNXgh_Ca_Uz"
      },
      "outputs": [],
      "source": [
        "# Creating your own Word2Vec Model & Train\n",
        "from gensim.models import Word2Vec\n",
        "# train model\n",
        "cbow_model = Word2Vec(tweets_list, vector_size = 300, window = 3, min_count=5, sg=0)"
      ]
    },
    {
      "cell_type": "code",
      "execution_count": 303,
      "id": "FfPIB5-VbB2n",
      "metadata": {
        "colab": {
          "base_uri": "https://localhost:8080/"
        },
        "id": "FfPIB5-VbB2n",
        "outputId": "3d3c10b7-4668-4ab8-c820-dda95b429425"
      },
      "outputs": [
        {
          "output_type": "stream",
          "name": "stdout",
          "text": [
            "Word2Vec<vocab=2420, vector_size=300, alpha=0.025>\n"
          ]
        }
      ],
      "source": [
        "# summarize the loaded model\n",
        "print(cbow_model)"
      ]
    },
    {
      "cell_type": "code",
      "execution_count": 304,
      "id": "PdwsvtpwbEy5",
      "metadata": {
        "colab": {
          "base_uri": "https://localhost:8080/"
        },
        "id": "PdwsvtpwbEy5",
        "outputId": "702afa91-1942-41bb-fd2b-92dbbea5cb77"
      },
      "outputs": [
        {
          "output_type": "execute_result",
          "data": {
            "text/plain": [
              "['iphone',\n",
              " 'apple',\n",
              " 'i',\n",
              " 'my',\n",
              " 'the',\n",
              " 'to',\n",
              " 'a',\n",
              " 'is',\n",
              " 'samsung',\n",
              " 'it',\n",
              " 'and',\n",
              " 'you',\n",
              " 'new',\n",
              " 'twitter',\n",
              " 'for',\n",
              " 'com',\n",
              " 'phone',\n",
              " 'me',\n",
              " 'sony',\n",
              " 'not']"
            ]
          },
          "metadata": {},
          "execution_count": 304
        }
      ],
      "source": [
        "cbow_model.wv.index_to_key[:20]  # this is vocab"
      ]
    },
    {
      "cell_type": "code",
      "execution_count": 305,
      "id": "_jOlFBTTbGEF",
      "metadata": {
        "colab": {
          "base_uri": "https://localhost:8080/"
        },
        "id": "_jOlFBTTbGEF",
        "outputId": "7075238b-9181-4de9-a4f3-95e99ff079fb"
      },
      "outputs": [
        {
          "output_type": "execute_result",
          "data": {
            "text/plain": [
              "2420"
            ]
          },
          "metadata": {},
          "execution_count": 305
        }
      ],
      "source": [
        "len(cbow_model.wv.index_to_key)"
      ]
    },
    {
      "cell_type": "code",
      "execution_count": 306,
      "id": "sdPBFlc7bJdl",
      "metadata": {
        "id": "sdPBFlc7bJdl"
      },
      "outputs": [],
      "source": [
        "# Each document vector will have dimension [1 x 300]"
      ]
    },
    {
      "cell_type": "code",
      "execution_count": 307,
      "id": "N6_ApBl1bKvc",
      "metadata": {
        "id": "N6_ApBl1bKvc"
      },
      "outputs": [],
      "source": [
        "def document_vector(doc):\n",
        "    \"\"\"Create document vectors by averaging word vectors. Remove out-of-vocabulary words.\"\"\"\n",
        "\n",
        "    # doc1 contains those words of the document which are included in the vocab\n",
        "    doc1 = [word for word in doc.split() if word in cbow_model.wv.index_to_key]\n",
        "\n",
        "    wv1 = []  # this will contain the WE of all the vocab words from the doc\n",
        "    for word in doc1:\n",
        "        wv1.append(cbow_model.wv.get_vector(word))\n",
        "    wv1_ = np.array(wv1)\n",
        "    wv1_mean = wv1_.mean(axis=0)\n",
        "    return wv1_mean"
      ]
    },
    {
      "cell_type": "code",
      "execution_count": 308,
      "id": "Wo15sgH-bMBb",
      "metadata": {
        "id": "Wo15sgH-bMBb"
      },
      "outputs": [],
      "source": [
        "tweets_temp = data['cleaned_tweets_w/o_SW'].apply(document_vector)"
      ]
    },
    {
      "cell_type": "code",
      "execution_count": 309,
      "id": "FG1GTlA_bNRb",
      "metadata": {
        "colab": {
          "base_uri": "https://localhost:8080/"
        },
        "id": "FG1GTlA_bNRb",
        "outputId": "962504a2-0f64-49ab-eb09-93b8d3e34750"
      },
      "outputs": [
        {
          "output_type": "execute_result",
          "data": {
            "text/plain": [
              "0    [0.09423092, 0.29462814, -0.027901363, 0.09609175, 0.05550876, -0.44715393, 0.13682318, 0.59844875, -0.12575984, 0.045169365, -0.043518465, -0.16499875, -0.064211294, -0.07664269, -0.150837, -0.12...\n",
              "1    [-0.010299649, 0.18279162, -0.0038540766, 0.04051315, -0.0053660413, -0.2979552, 0.21422198, 0.43884414, -0.007845869, -0.30475825, -0.020763697, -0.31704158, -0.011781982, 0.10208926, -0.2234985,...\n",
              "2    [-0.015143822, 0.1444245, 0.08553839, 0.12780987, -0.035835475, -0.16070847, 0.2254961, 0.42727914, 0.10367627, -0.18244816, 0.033272874, -0.22819781, -0.01938358, 0.033754792, -0.18226539, -0.086...\n",
              "3    [0.008616447, 0.13172637, 0.12764896, 0.18630794, -0.066728495, -0.12683024, 0.27581856, 0.47082195, 0.17021488, -0.23993762, 0.0707759, -0.27984333, 0.0026704832, 0.07398034, -0.21537004, -0.0546...\n",
              "4    [-0.024910904, 0.11945398, 0.09610394, 0.15360516, -0.06413612, -0.11849863, 0.26221964, 0.4317727, 0.16869581, -0.274418, 0.05798917, -0.27768305, -0.0147344265, 0.06485322, -0.222281, -0.0959873...\n",
              "5    [-0.01603643, 0.130557, 0.055097148, 0.10186244, -0.027871288, -0.19650893, 0.22155619, 0.3736354, 0.04724289, -0.22609733, 0.001744218, -0.26018423, -0.019450838, 0.060063362, -0.19568768, -0.135...\n",
              "6    [0.041446302, 0.21626292, -0.03453756, 0.023190819, 0.001228276, -0.27181068, 0.117114305, 0.4593959, 0.024231449, -0.15344095, 0.038212433, -0.21021666, 0.03322954, 0.030212002, -0.14801246, -0.1...\n",
              "7    [0.037008643, 0.23755276, -0.07618102, -0.034030527, 0.007268337, -0.30792385, 0.103835285, 0.42716303, -0.01700655, -0.14672276, 0.04162097, -0.20001622, 0.030175198, 0.05422162, -0.11251839, -0....\n",
              "8    [-0.0029087942, 0.14625725, 0.037393533, 0.09556302, -0.025712403, -0.18166572, 0.17682649, 0.39246297, 0.06353333, -0.15188788, 0.024385685, -0.20761405, -0.017052976, 0.01627235, -0.16716021, -0...\n",
              "9    [0.096793115, 0.29713422, -0.07584937, 0.0381268, 0.04792848, -0.42120233, 0.08947998, 0.5919542, -0.07541757, -0.032802332, -0.0029189214, -0.17800133, 0.004031488, -0.017899022, -0.14649518, -0....\n",
              "Name: cleaned_tweets_w/o_SW, dtype: object"
            ]
          },
          "metadata": {},
          "execution_count": 309
        }
      ],
      "source": [
        "tweets_temp[:10]"
      ]
    },
    {
      "cell_type": "code",
      "execution_count": 310,
      "id": "rpk4AbUdbOZ2",
      "metadata": {
        "colab": {
          "base_uri": "https://localhost:8080/"
        },
        "id": "rpk4AbUdbOZ2",
        "outputId": "435a588e-8f2d-4051-c453-e97d2ce8bdea"
      },
      "outputs": [
        {
          "output_type": "execute_result",
          "data": {
            "text/plain": [
              "(7920, 300)"
            ]
          },
          "metadata": {},
          "execution_count": 310
        }
      ],
      "source": [
        "\n",
        "# Combining all the document vectors into a singl numpy array (tweets_vec)\n",
        "embedding_size = 300\n",
        "tweets_vec = np.ones((len(tweets_temp), embedding_size))*np.nan\n",
        "for i in range(tweets_vec.shape[0]):\n",
        "    tweets_vec[i,:] = tweets_temp.iloc[i]\n",
        "\n",
        "tweets_vec.shape # this itself is your final FEATURE MATRIX"
      ]
    },
    {
      "cell_type": "code",
      "execution_count": 311,
      "id": "batt-9CNbR5j",
      "metadata": {
        "id": "batt-9CNbR5j"
      },
      "outputs": [],
      "source": [
        "# Create a new DF to store these new documnent features\n",
        "df = pd.DataFrame(tweets_vec)\n",
        "df['y'] = data['label']\n",
        "df.dropna(how='any', axis=0, inplace=True)"
      ]
    },
    {
      "cell_type": "code",
      "execution_count": 312,
      "id": "ZH20H6ETbTiZ",
      "metadata": {
        "colab": {
          "base_uri": "https://localhost:8080/"
        },
        "id": "ZH20H6ETbTiZ",
        "outputId": "c7babe11-349a-4549-fd56-b4743da3f6eb"
      },
      "outputs": [
        {
          "output_type": "execute_result",
          "data": {
            "text/plain": [
              "(7920, 301)"
            ]
          },
          "metadata": {},
          "execution_count": 312
        }
      ],
      "source": [
        "df.shape"
      ]
    },
    {
      "cell_type": "code",
      "execution_count": 313,
      "id": "vvungZeubUoO",
      "metadata": {
        "colab": {
          "base_uri": "https://localhost:8080/"
        },
        "id": "vvungZeubUoO",
        "outputId": "32dd4fe6-433f-4189-edfe-7fa9eae7ffd6"
      },
      "outputs": [
        {
          "output_type": "execute_result",
          "data": {
            "text/plain": [
              "(7920, 300)"
            ]
          },
          "metadata": {},
          "execution_count": 313
        }
      ],
      "source": [
        "X_word_emb = df.drop('y', axis=1)\n",
        "y = df['y']\n",
        "X_word_emb.shape"
      ]
    },
    {
      "cell_type": "code",
      "execution_count": 314,
      "id": "2RM8ScQJbVm6",
      "metadata": {
        "id": "2RM8ScQJbVm6"
      },
      "outputs": [],
      "source": [
        "from sklearn.pipeline import make_pipeline, Pipeline\n",
        "from sklearn.linear_model import LogisticRegression\n",
        "from sklearn.model_selection import cross_val_score, cross_validate\n",
        "from sklearn.model_selection import StratifiedKFold\n",
        "from sklearn.preprocessing import StandardScaler\n",
        "from sklearn.feature_extraction.text import CountVectorizer"
      ]
    },
    {
      "cell_type": "code",
      "execution_count": 315,
      "id": "jmfol4FtbWvO",
      "metadata": {
        "colab": {
          "base_uri": "https://localhost:8080/"
        },
        "id": "jmfol4FtbWvO",
        "outputId": "df8a0ae4-d9eb-4487-9910-60eb81bd0d7c"
      },
      "outputs": [
        {
          "output_type": "stream",
          "name": "stdout",
          "text": [
            "85.73 0.14\n",
            "85.49 0.72\n"
          ]
        }
      ],
      "source": [
        "kfold = StratifiedKFold(n_splits=5, shuffle=True, random_state=42)\n",
        "LR1 = LogisticRegression(class_weight='balanced', solver='liblinear', penalty='l1', C=0.4, random_state=42)\n",
        "WE_pipe = Pipeline([('SC', StandardScaler()), ('LR', LR1)] )\n",
        "\n",
        "results = cross_validate(WE_pipe, X_word_emb, y, cv=kfold, scoring='accuracy', return_train_score=True)\n",
        "\n",
        "# print(results['train_score'])\n",
        "print(np.round((results['train_score'].mean())*100, 2), np.round((results['train_score'].std())*100, 2))\n",
        "\n",
        "# print(results['test_score'])\n",
        "print(np.round((results['test_score'].mean())*100, 2), np.round((results['test_score'].std())*100, 2))"
      ]
    },
    {
      "cell_type": "code",
      "execution_count": 316,
      "id": "8HuI-TcqbXoR",
      "metadata": {
        "id": "8HuI-TcqbXoR"
      },
      "outputs": [],
      "source": [
        "X = data['cleaned_tweets_w/o_SW']\n",
        "y = data['label']"
      ]
    },
    {
      "cell_type": "code",
      "execution_count": 317,
      "id": "MkYEBW6fbYlJ",
      "metadata": {
        "colab": {
          "base_uri": "https://localhost:8080/"
        },
        "id": "MkYEBW6fbYlJ",
        "outputId": "4706c285-3b52-4513-dfab-ae14bbd29c3e"
      },
      "outputs": [
        {
          "output_type": "stream",
          "name": "stdout",
          "text": [
            "88.95 0.08\n",
            "87.75 1.01\n"
          ]
        },
        {
          "output_type": "execute_result",
          "data": {
            "text/plain": [
              "300"
            ]
          },
          "metadata": {},
          "execution_count": 317
        }
      ],
      "source": [
        "# we want to include only those words in the vocab which have min df of 5,\n",
        "# means select only those words which occur ATLEAST in 5 documents!!\n",
        "# AND SELECT the TOP 300 FEATURES ONLY to build the model\n",
        "CV = CountVectorizer(min_df=5, max_features=300)\n",
        "\n",
        "LR1 = LogisticRegression(class_weight='balanced', solver='liblinear', penalty='l1', C=0.4)\n",
        "CV_pipe = Pipeline([('CV', CV) , ('LR', LR1)] )\n",
        "results = cross_validate(CV_pipe, X, y, cv=kfold, scoring='accuracy', return_train_score=True)\n",
        "\n",
        "# print(results['train_score'])\n",
        "print(np.round((results['train_score'].mean())*100, 2), np.round((results['train_score'].std())*100, 2))\n",
        "\n",
        "# print(results['test_score'])\n",
        "print(np.round((results['test_score'].mean())*100, 2), np.round((results['test_score'].std())*100, 2))\n",
        "\n",
        "CV.fit_transform(X)\n",
        "len(CV.vocabulary_)  # no. of features AFTER applying the stopwords"
      ]
    },
    {
      "cell_type": "code",
      "execution_count": 318,
      "id": "NTRSeoxXba1d",
      "metadata": {
        "id": "NTRSeoxXba1d"
      },
      "outputs": [],
      "source": [
        "#Word Embeddings from GloVe Model"
      ]
    },
    {
      "cell_type": "code",
      "execution_count": 319,
      "id": "CW7gtes-bbxR",
      "metadata": {
        "id": "CW7gtes-bbxR"
      },
      "outputs": [],
      "source": [
        "from gensim.models import KeyedVectors\n",
        "from gensim.scripts.glove2word2vec import glove2word2vec"
      ]
    },
    {
      "cell_type": "code",
      "execution_count": 320,
      "id": "tNkKb4L_bdaz",
      "metadata": {
        "colab": {
          "base_uri": "https://localhost:8080/",
          "height": 321
        },
        "id": "tNkKb4L_bdaz",
        "outputId": "0f914ce5-aeec-4bd4-9e3e-8da434492b16"
      },
      "outputs": [
        {
          "output_type": "error",
          "ename": "FileNotFoundError",
          "evalue": "[Errno 2] No such file or directory: 'word2vec.txt'",
          "traceback": [
            "\u001b[0;31m---------------------------------------------------------------------------\u001b[0m",
            "\u001b[0;31mFileNotFoundError\u001b[0m                         Traceback (most recent call last)",
            "\u001b[0;32m<ipython-input-320-577d706c2928>\u001b[0m in \u001b[0;36m<cell line: 3>\u001b[0;34m()\u001b[0m\n\u001b[1;32m      1\u001b[0m \u001b[0;31m# load the converted model\u001b[0m\u001b[0;34m\u001b[0m\u001b[0;34m\u001b[0m\u001b[0m\n\u001b[1;32m      2\u001b[0m \u001b[0mfilename\u001b[0m \u001b[0;34m=\u001b[0m \u001b[0;34m'word2vec.txt'\u001b[0m\u001b[0;34m\u001b[0m\u001b[0;34m\u001b[0m\u001b[0m\n\u001b[0;32m----> 3\u001b[0;31m \u001b[0mmodel\u001b[0m \u001b[0;34m=\u001b[0m \u001b[0mKeyedVectors\u001b[0m\u001b[0;34m.\u001b[0m\u001b[0mload_word2vec_format\u001b[0m\u001b[0;34m(\u001b[0m\u001b[0mfilename\u001b[0m\u001b[0;34m,\u001b[0m \u001b[0mbinary\u001b[0m\u001b[0;34m=\u001b[0m\u001b[0;32mFalse\u001b[0m\u001b[0;34m)\u001b[0m\u001b[0;34m\u001b[0m\u001b[0;34m\u001b[0m\u001b[0m\n\u001b[0m",
            "\u001b[0;32m/usr/local/lib/python3.10/dist-packages/gensim/models/keyedvectors.py\u001b[0m in \u001b[0;36mload_word2vec_format\u001b[0;34m(cls, fname, fvocab, binary, encoding, unicode_errors, limit, datatype, no_header)\u001b[0m\n\u001b[1;32m   1717\u001b[0m \u001b[0;34m\u001b[0m\u001b[0m\n\u001b[1;32m   1718\u001b[0m         \"\"\"\n\u001b[0;32m-> 1719\u001b[0;31m         return _load_word2vec_format(\n\u001b[0m\u001b[1;32m   1720\u001b[0m             \u001b[0mcls\u001b[0m\u001b[0;34m,\u001b[0m \u001b[0mfname\u001b[0m\u001b[0;34m,\u001b[0m \u001b[0mfvocab\u001b[0m\u001b[0;34m=\u001b[0m\u001b[0mfvocab\u001b[0m\u001b[0;34m,\u001b[0m \u001b[0mbinary\u001b[0m\u001b[0;34m=\u001b[0m\u001b[0mbinary\u001b[0m\u001b[0;34m,\u001b[0m \u001b[0mencoding\u001b[0m\u001b[0;34m=\u001b[0m\u001b[0mencoding\u001b[0m\u001b[0;34m,\u001b[0m \u001b[0municode_errors\u001b[0m\u001b[0;34m=\u001b[0m\u001b[0municode_errors\u001b[0m\u001b[0;34m,\u001b[0m\u001b[0;34m\u001b[0m\u001b[0;34m\u001b[0m\u001b[0m\n\u001b[1;32m   1721\u001b[0m             \u001b[0mlimit\u001b[0m\u001b[0;34m=\u001b[0m\u001b[0mlimit\u001b[0m\u001b[0;34m,\u001b[0m \u001b[0mdatatype\u001b[0m\u001b[0;34m=\u001b[0m\u001b[0mdatatype\u001b[0m\u001b[0;34m,\u001b[0m \u001b[0mno_header\u001b[0m\u001b[0;34m=\u001b[0m\u001b[0mno_header\u001b[0m\u001b[0;34m,\u001b[0m\u001b[0;34m\u001b[0m\u001b[0;34m\u001b[0m\u001b[0m\n",
            "\u001b[0;32m/usr/local/lib/python3.10/dist-packages/gensim/models/keyedvectors.py\u001b[0m in \u001b[0;36m_load_word2vec_format\u001b[0;34m(cls, fname, fvocab, binary, encoding, unicode_errors, limit, datatype, no_header, binary_chunk_size)\u001b[0m\n\u001b[1;32m   2046\u001b[0m \u001b[0;34m\u001b[0m\u001b[0m\n\u001b[1;32m   2047\u001b[0m     \u001b[0mlogger\u001b[0m\u001b[0;34m.\u001b[0m\u001b[0minfo\u001b[0m\u001b[0;34m(\u001b[0m\u001b[0;34m\"loading projection weights from %s\"\u001b[0m\u001b[0;34m,\u001b[0m \u001b[0mfname\u001b[0m\u001b[0;34m)\u001b[0m\u001b[0;34m\u001b[0m\u001b[0;34m\u001b[0m\u001b[0m\n\u001b[0;32m-> 2048\u001b[0;31m     \u001b[0;32mwith\u001b[0m \u001b[0mutils\u001b[0m\u001b[0;34m.\u001b[0m\u001b[0mopen\u001b[0m\u001b[0;34m(\u001b[0m\u001b[0mfname\u001b[0m\u001b[0;34m,\u001b[0m \u001b[0;34m'rb'\u001b[0m\u001b[0;34m)\u001b[0m \u001b[0;32mas\u001b[0m \u001b[0mfin\u001b[0m\u001b[0;34m:\u001b[0m\u001b[0;34m\u001b[0m\u001b[0;34m\u001b[0m\u001b[0m\n\u001b[0m\u001b[1;32m   2049\u001b[0m         \u001b[0;32mif\u001b[0m \u001b[0mno_header\u001b[0m\u001b[0;34m:\u001b[0m\u001b[0;34m\u001b[0m\u001b[0;34m\u001b[0m\u001b[0m\n\u001b[1;32m   2050\u001b[0m             \u001b[0;31m# deduce both vocab_size & vector_size from 1st pass over file\u001b[0m\u001b[0;34m\u001b[0m\u001b[0;34m\u001b[0m\u001b[0m\n",
            "\u001b[0;32m/usr/local/lib/python3.10/dist-packages/smart_open/smart_open_lib.py\u001b[0m in \u001b[0;36mopen\u001b[0;34m(uri, mode, buffering, encoding, errors, newline, closefd, opener, compression, transport_params)\u001b[0m\n\u001b[1;32m    175\u001b[0m         \u001b[0mtransport_params\u001b[0m \u001b[0;34m=\u001b[0m \u001b[0;34m{\u001b[0m\u001b[0;34m}\u001b[0m\u001b[0;34m\u001b[0m\u001b[0;34m\u001b[0m\u001b[0m\n\u001b[1;32m    176\u001b[0m \u001b[0;34m\u001b[0m\u001b[0m\n\u001b[0;32m--> 177\u001b[0;31m     fobj = _shortcut_open(\n\u001b[0m\u001b[1;32m    178\u001b[0m         \u001b[0muri\u001b[0m\u001b[0;34m,\u001b[0m\u001b[0;34m\u001b[0m\u001b[0;34m\u001b[0m\u001b[0m\n\u001b[1;32m    179\u001b[0m         \u001b[0mmode\u001b[0m\u001b[0;34m,\u001b[0m\u001b[0;34m\u001b[0m\u001b[0;34m\u001b[0m\u001b[0m\n",
            "\u001b[0;32m/usr/local/lib/python3.10/dist-packages/smart_open/smart_open_lib.py\u001b[0m in \u001b[0;36m_shortcut_open\u001b[0;34m(uri, mode, compression, buffering, encoding, errors, newline)\u001b[0m\n\u001b[1;32m    361\u001b[0m         \u001b[0mopen_kwargs\u001b[0m\u001b[0;34m[\u001b[0m\u001b[0;34m'errors'\u001b[0m\u001b[0;34m]\u001b[0m \u001b[0;34m=\u001b[0m \u001b[0merrors\u001b[0m\u001b[0;34m\u001b[0m\u001b[0;34m\u001b[0m\u001b[0m\n\u001b[1;32m    362\u001b[0m \u001b[0;34m\u001b[0m\u001b[0m\n\u001b[0;32m--> 363\u001b[0;31m     \u001b[0;32mreturn\u001b[0m \u001b[0m_builtin_open\u001b[0m\u001b[0;34m(\u001b[0m\u001b[0mlocal_path\u001b[0m\u001b[0;34m,\u001b[0m \u001b[0mmode\u001b[0m\u001b[0;34m,\u001b[0m \u001b[0mbuffering\u001b[0m\u001b[0;34m=\u001b[0m\u001b[0mbuffering\u001b[0m\u001b[0;34m,\u001b[0m \u001b[0;34m**\u001b[0m\u001b[0mopen_kwargs\u001b[0m\u001b[0;34m)\u001b[0m\u001b[0;34m\u001b[0m\u001b[0;34m\u001b[0m\u001b[0m\n\u001b[0m\u001b[1;32m    364\u001b[0m \u001b[0;34m\u001b[0m\u001b[0m\n\u001b[1;32m    365\u001b[0m \u001b[0;34m\u001b[0m\u001b[0m\n",
            "\u001b[0;31mFileNotFoundError\u001b[0m: [Errno 2] No such file or directory: 'word2vec.txt'"
          ]
        }
      ],
      "source": [
        "# load the converted model\n",
        "filename = 'word2vec.txt'\n",
        "model = KeyedVectors.load_word2vec_format(filename, binary=False)"
      ]
    },
    {
      "cell_type": "code",
      "execution_count": null,
      "id": "llLjUNVKgnMO",
      "metadata": {
        "id": "llLjUNVKgnMO"
      },
      "outputs": [],
      "source": [
        " model.get_vector('analytics')"
      ]
    },
    {
      "cell_type": "code",
      "execution_count": null,
      "id": "M8LuAVN7beO3",
      "metadata": {
        "id": "M8LuAVN7beO3"
      },
      "outputs": [],
      "source": [
        "def document_vector_GloVe(doc):\n",
        "    \"\"\"Create document vectors by averaging word vectors. Remove out-of-vocabulary words.\"\"\"\n",
        "\n",
        "    # doc1 contains those words of the document which are included in the vocab\n",
        "    doc1 = [word for word in doc.split() if word in cbow_model.wv.index_to_key]\n",
        "\n",
        "    wv1 = []  # this will contain the WE of all the vocab words from the doc\n",
        "    for word in doc1:\n",
        "        wv1.append(model.get_vector(word))\n",
        "    wv1_ = np.array(wv1)\n",
        "    wv1_mean = wv1_.mean(axis=0)\n",
        "    return wv1_mean"
      ]
    },
    {
      "cell_type": "code",
      "execution_count": null,
      "id": "Ny9wysqlbh3J",
      "metadata": {
        "id": "Ny9wysqlbh3J"
      },
      "outputs": [],
      "source": [
        "tweets_temp = data['cleaned_tweets_w/o_SW'].apply(document_vector_GloVe)"
      ]
    },
    {
      "cell_type": "code",
      "execution_count": null,
      "id": "C0q3Q1TGffQA",
      "metadata": {
        "id": "C0q3Q1TGffQA"
      },
      "outputs": [],
      "source": []
    },
    {
      "cell_type": "code",
      "execution_count": null,
      "id": "emxkJ6dYbjf6",
      "metadata": {
        "id": "emxkJ6dYbjf6"
      },
      "outputs": [],
      "source": [
        "# Combining all the document vectors into a singl numpy array (tweets_vec)\n",
        "embedding_size = 100\n",
        "tweets_vec = np.ones((len(tweets_temp), embedding_size))*np.nan\n",
        "for i in range(tweets_vec.shape[0]):\n",
        "    tweets_vec[i,:] = tweets_temp.iloc[i]\n",
        "\n",
        "# tweets_vec.shape # this itself is your final FEATURE MATRIX\n",
        "# Create a new DF to store these new documnent features\n",
        "df1 = pd.DataFrame(tweets_vec)\n",
        "df1['y'] = data['label']\n",
        "df1.dropna(how='any', axis=0, inplace=True)\n",
        "\n",
        "X_word_emb = df1.drop('y', axis=1)\n",
        "y = df1['y']\n",
        "X_word_emb.shape"
      ]
    },
    {
      "cell_type": "code",
      "execution_count": null,
      "id": "Iradc-0hbmEa",
      "metadata": {
        "id": "Iradc-0hbmEa"
      },
      "outputs": [],
      "source": [
        "kfold = StratifiedKFold(n_splits=5, shuffle=True, random_state=42)\n",
        "LR1 = LogisticRegression(class_weight='balanced', solver='liblinear', penalty='l1', C=0.4, random_state=42)\n",
        "WE_pipe = Pipeline([('SC', StandardScaler()), ('LR', LR1)] )\n",
        "\n",
        "results = cross_validate(WE_pipe, X_word_emb, y, cv=kfold, scoring='accuracy', return_train_score=True)\n",
        "\n",
        "# print(results['train_score'])\n",
        "print(np.round((results['train_score'].mean())*100, 2), np.round((results['train_score'].std())*100, 2))\n",
        "\n",
        "# print(results['test_score'])\n",
        "print(np.round((results['test_score'].mean())*100, 2), np.round((results['test_score'].std())*100, 2))"
      ]
    },
    {
      "cell_type": "code",
      "execution_count": 326,
      "id": "R6kGJfb1bpky",
      "metadata": {
        "id": "R6kGJfb1bpky"
      },
      "outputs": [],
      "source": [
        "import numpy as np\n",
        "import pandas as pd\n",
        "from sklearn.pipeline import make_pipeline, Pipeline\n",
        "from sklearn.linear_model import LogisticRegression\n",
        "from sklearn.model_selection import cross_val_score, cross_validate\n",
        "from sklearn.model_selection import StratifiedKFold\n",
        "from sklearn.preprocessing import StandardScaler\n",
        "from sklearn.feature_extraction.text import CountVectorizer\n",
        "from sklearn.model_selection import train_test_split"
      ]
    },
    {
      "cell_type": "code",
      "execution_count": 324,
      "id": "UaPmg3u2brDp",
      "metadata": {
        "colab": {
          "base_uri": "https://localhost:8080/",
          "height": 293
        },
        "id": "UaPmg3u2brDp",
        "outputId": "a6bea86c-8875-4aa4-a5b2-6bb557d2b4a8"
      },
      "outputs": [
        {
          "output_type": "execute_result",
          "data": {
            "text/plain": [
              "   id  label  \\\n",
              "0   1      0   \n",
              "1   2      0   \n",
              "2   3      0   \n",
              "3   4      0   \n",
              "4   5      1   \n",
              "\n",
              "                                                                                                                                 tweet  \\\n",
              "0     #fingerprint #Pregnancy Test https://goo.gl/h1MfQV #android #apps #beautiful #cute #health #igers #iphoneonly #iphonesia #iphone   \n",
              "1  Finally a transparant silicon case ^^ Thanks to my uncle :) #yay #Sony #Xperia #S #sonyexperias… http://instagram.com/p/YGEt5JC6JM/   \n",
              "2          We love this! Would you go? #talk #makememories #unplug #relax #iphone #smartphone #wifi #connect... http://fb.me/6N3LsUpCu   \n",
              "3                     I'm wired I know I'm George I was made that way ;) #iphone #cute #daventry #home http://instagr.am/p/Li_5_ujS4k/   \n",
              "4         What amazing service! Apple won't even talk to me about a question I have unless I pay them $19.95 for their stupid support!   \n",
              "\n",
              "                                                                                                     cleaned_tweets_w/o_SW  \\\n",
              "0                         fingerprint pregnancy test android apps beautiful cute health igers iphoneonly iphonesia iphone    \n",
              "1                                    finally a transparant silicon case thanks to my uncle yay sony xperia s sonyexperias    \n",
              "2                                 we love this would you go talk makememories unplug relax iphone smartphone wifi connect    \n",
              "3                                              i am wired i know i am george i wa made that way iphone cute daventry home    \n",
              "4  what amazing service apple will not even talk to me about a question i have unless i pay them for their stupid support    \n",
              "\n",
              "                                                                             cleaned_tweets_with_SW  \n",
              "0  fingerprint pregnancy test android apps beautiful cute health igers iphoneonly iphonesia iphone   \n",
              "1                       finally transparant silicon case thanks uncle yay sony xperia sonyexperias   \n",
              "2                               love talk makememories unplug relax iphone smartphone wifi connect   \n",
              "3                                                  wired know george way iphone cute daventry home   \n",
              "4                                    amazing service apple talk question unless pay stupid support   "
            ],
            "text/html": [
              "\n",
              "  <div id=\"df-6fda8255-76f2-496f-9ec8-e077928ea73e\" class=\"colab-df-container\">\n",
              "    <div>\n",
              "<style scoped>\n",
              "    .dataframe tbody tr th:only-of-type {\n",
              "        vertical-align: middle;\n",
              "    }\n",
              "\n",
              "    .dataframe tbody tr th {\n",
              "        vertical-align: top;\n",
              "    }\n",
              "\n",
              "    .dataframe thead th {\n",
              "        text-align: right;\n",
              "    }\n",
              "</style>\n",
              "<table border=\"1\" class=\"dataframe\">\n",
              "  <thead>\n",
              "    <tr style=\"text-align: right;\">\n",
              "      <th></th>\n",
              "      <th>id</th>\n",
              "      <th>label</th>\n",
              "      <th>tweet</th>\n",
              "      <th>cleaned_tweets_w/o_SW</th>\n",
              "      <th>cleaned_tweets_with_SW</th>\n",
              "    </tr>\n",
              "  </thead>\n",
              "  <tbody>\n",
              "    <tr>\n",
              "      <th>0</th>\n",
              "      <td>1</td>\n",
              "      <td>0</td>\n",
              "      <td>#fingerprint #Pregnancy Test https://goo.gl/h1MfQV #android #apps #beautiful #cute #health #igers #iphoneonly #iphonesia #iphone</td>\n",
              "      <td>fingerprint pregnancy test android apps beautiful cute health igers iphoneonly iphonesia iphone</td>\n",
              "      <td>fingerprint pregnancy test android apps beautiful cute health igers iphoneonly iphonesia iphone</td>\n",
              "    </tr>\n",
              "    <tr>\n",
              "      <th>1</th>\n",
              "      <td>2</td>\n",
              "      <td>0</td>\n",
              "      <td>Finally a transparant silicon case ^^ Thanks to my uncle :) #yay #Sony #Xperia #S #sonyexperias… http://instagram.com/p/YGEt5JC6JM/</td>\n",
              "      <td>finally a transparant silicon case thanks to my uncle yay sony xperia s sonyexperias</td>\n",
              "      <td>finally transparant silicon case thanks uncle yay sony xperia sonyexperias</td>\n",
              "    </tr>\n",
              "    <tr>\n",
              "      <th>2</th>\n",
              "      <td>3</td>\n",
              "      <td>0</td>\n",
              "      <td>We love this! Would you go? #talk #makememories #unplug #relax #iphone #smartphone #wifi #connect... http://fb.me/6N3LsUpCu</td>\n",
              "      <td>we love this would you go talk makememories unplug relax iphone smartphone wifi connect</td>\n",
              "      <td>love talk makememories unplug relax iphone smartphone wifi connect</td>\n",
              "    </tr>\n",
              "    <tr>\n",
              "      <th>3</th>\n",
              "      <td>4</td>\n",
              "      <td>0</td>\n",
              "      <td>I'm wired I know I'm George I was made that way ;) #iphone #cute #daventry #home http://instagr.am/p/Li_5_ujS4k/</td>\n",
              "      <td>i am wired i know i am george i wa made that way iphone cute daventry home</td>\n",
              "      <td>wired know george way iphone cute daventry home</td>\n",
              "    </tr>\n",
              "    <tr>\n",
              "      <th>4</th>\n",
              "      <td>5</td>\n",
              "      <td>1</td>\n",
              "      <td>What amazing service! Apple won't even talk to me about a question I have unless I pay them $19.95 for their stupid support!</td>\n",
              "      <td>what amazing service apple will not even talk to me about a question i have unless i pay them for their stupid support</td>\n",
              "      <td>amazing service apple talk question unless pay stupid support</td>\n",
              "    </tr>\n",
              "  </tbody>\n",
              "</table>\n",
              "</div>\n",
              "    <div class=\"colab-df-buttons\">\n",
              "\n",
              "  <div class=\"colab-df-container\">\n",
              "    <button class=\"colab-df-convert\" onclick=\"convertToInteractive('df-6fda8255-76f2-496f-9ec8-e077928ea73e')\"\n",
              "            title=\"Convert this dataframe to an interactive table.\"\n",
              "            style=\"display:none;\">\n",
              "\n",
              "  <svg xmlns=\"http://www.w3.org/2000/svg\" height=\"24px\" viewBox=\"0 -960 960 960\">\n",
              "    <path d=\"M120-120v-720h720v720H120Zm60-500h600v-160H180v160Zm220 220h160v-160H400v160Zm0 220h160v-160H400v160ZM180-400h160v-160H180v160Zm440 0h160v-160H620v160ZM180-180h160v-160H180v160Zm440 0h160v-160H620v160Z\"/>\n",
              "  </svg>\n",
              "    </button>\n",
              "\n",
              "  <style>\n",
              "    .colab-df-container {\n",
              "      display:flex;\n",
              "      gap: 12px;\n",
              "    }\n",
              "\n",
              "    .colab-df-convert {\n",
              "      background-color: #E8F0FE;\n",
              "      border: none;\n",
              "      border-radius: 50%;\n",
              "      cursor: pointer;\n",
              "      display: none;\n",
              "      fill: #1967D2;\n",
              "      height: 32px;\n",
              "      padding: 0 0 0 0;\n",
              "      width: 32px;\n",
              "    }\n",
              "\n",
              "    .colab-df-convert:hover {\n",
              "      background-color: #E2EBFA;\n",
              "      box-shadow: 0px 1px 2px rgba(60, 64, 67, 0.3), 0px 1px 3px 1px rgba(60, 64, 67, 0.15);\n",
              "      fill: #174EA6;\n",
              "    }\n",
              "\n",
              "    .colab-df-buttons div {\n",
              "      margin-bottom: 4px;\n",
              "    }\n",
              "\n",
              "    [theme=dark] .colab-df-convert {\n",
              "      background-color: #3B4455;\n",
              "      fill: #D2E3FC;\n",
              "    }\n",
              "\n",
              "    [theme=dark] .colab-df-convert:hover {\n",
              "      background-color: #434B5C;\n",
              "      box-shadow: 0px 1px 3px 1px rgba(0, 0, 0, 0.15);\n",
              "      filter: drop-shadow(0px 1px 2px rgba(0, 0, 0, 0.3));\n",
              "      fill: #FFFFFF;\n",
              "    }\n",
              "  </style>\n",
              "\n",
              "    <script>\n",
              "      const buttonEl =\n",
              "        document.querySelector('#df-6fda8255-76f2-496f-9ec8-e077928ea73e button.colab-df-convert');\n",
              "      buttonEl.style.display =\n",
              "        google.colab.kernel.accessAllowed ? 'block' : 'none';\n",
              "\n",
              "      async function convertToInteractive(key) {\n",
              "        const element = document.querySelector('#df-6fda8255-76f2-496f-9ec8-e077928ea73e');\n",
              "        const dataTable =\n",
              "          await google.colab.kernel.invokeFunction('convertToInteractive',\n",
              "                                                    [key], {});\n",
              "        if (!dataTable) return;\n",
              "\n",
              "        const docLinkHtml = 'Like what you see? Visit the ' +\n",
              "          '<a target=\"_blank\" href=https://colab.research.google.com/notebooks/data_table.ipynb>data table notebook</a>'\n",
              "          + ' to learn more about interactive tables.';\n",
              "        element.innerHTML = '';\n",
              "        dataTable['output_type'] = 'display_data';\n",
              "        await google.colab.output.renderOutput(dataTable, element);\n",
              "        const docLink = document.createElement('div');\n",
              "        docLink.innerHTML = docLinkHtml;\n",
              "        element.appendChild(docLink);\n",
              "      }\n",
              "    </script>\n",
              "  </div>\n",
              "\n",
              "\n",
              "<div id=\"df-868a3188-125e-4f7a-a126-7418eb74be61\">\n",
              "  <button class=\"colab-df-quickchart\" onclick=\"quickchart('df-868a3188-125e-4f7a-a126-7418eb74be61')\"\n",
              "            title=\"Suggest charts\"\n",
              "            style=\"display:none;\">\n",
              "\n",
              "<svg xmlns=\"http://www.w3.org/2000/svg\" height=\"24px\"viewBox=\"0 0 24 24\"\n",
              "     width=\"24px\">\n",
              "    <g>\n",
              "        <path d=\"M19 3H5c-1.1 0-2 .9-2 2v14c0 1.1.9 2 2 2h14c1.1 0 2-.9 2-2V5c0-1.1-.9-2-2-2zM9 17H7v-7h2v7zm4 0h-2V7h2v10zm4 0h-2v-4h2v4z\"/>\n",
              "    </g>\n",
              "</svg>\n",
              "  </button>\n",
              "\n",
              "<style>\n",
              "  .colab-df-quickchart {\n",
              "      --bg-color: #E8F0FE;\n",
              "      --fill-color: #1967D2;\n",
              "      --hover-bg-color: #E2EBFA;\n",
              "      --hover-fill-color: #174EA6;\n",
              "      --disabled-fill-color: #AAA;\n",
              "      --disabled-bg-color: #DDD;\n",
              "  }\n",
              "\n",
              "  [theme=dark] .colab-df-quickchart {\n",
              "      --bg-color: #3B4455;\n",
              "      --fill-color: #D2E3FC;\n",
              "      --hover-bg-color: #434B5C;\n",
              "      --hover-fill-color: #FFFFFF;\n",
              "      --disabled-bg-color: #3B4455;\n",
              "      --disabled-fill-color: #666;\n",
              "  }\n",
              "\n",
              "  .colab-df-quickchart {\n",
              "    background-color: var(--bg-color);\n",
              "    border: none;\n",
              "    border-radius: 50%;\n",
              "    cursor: pointer;\n",
              "    display: none;\n",
              "    fill: var(--fill-color);\n",
              "    height: 32px;\n",
              "    padding: 0;\n",
              "    width: 32px;\n",
              "  }\n",
              "\n",
              "  .colab-df-quickchart:hover {\n",
              "    background-color: var(--hover-bg-color);\n",
              "    box-shadow: 0 1px 2px rgba(60, 64, 67, 0.3), 0 1px 3px 1px rgba(60, 64, 67, 0.15);\n",
              "    fill: var(--button-hover-fill-color);\n",
              "  }\n",
              "\n",
              "  .colab-df-quickchart-complete:disabled,\n",
              "  .colab-df-quickchart-complete:disabled:hover {\n",
              "    background-color: var(--disabled-bg-color);\n",
              "    fill: var(--disabled-fill-color);\n",
              "    box-shadow: none;\n",
              "  }\n",
              "\n",
              "  .colab-df-spinner {\n",
              "    border: 2px solid var(--fill-color);\n",
              "    border-color: transparent;\n",
              "    border-bottom-color: var(--fill-color);\n",
              "    animation:\n",
              "      spin 1s steps(1) infinite;\n",
              "  }\n",
              "\n",
              "  @keyframes spin {\n",
              "    0% {\n",
              "      border-color: transparent;\n",
              "      border-bottom-color: var(--fill-color);\n",
              "      border-left-color: var(--fill-color);\n",
              "    }\n",
              "    20% {\n",
              "      border-color: transparent;\n",
              "      border-left-color: var(--fill-color);\n",
              "      border-top-color: var(--fill-color);\n",
              "    }\n",
              "    30% {\n",
              "      border-color: transparent;\n",
              "      border-left-color: var(--fill-color);\n",
              "      border-top-color: var(--fill-color);\n",
              "      border-right-color: var(--fill-color);\n",
              "    }\n",
              "    40% {\n",
              "      border-color: transparent;\n",
              "      border-right-color: var(--fill-color);\n",
              "      border-top-color: var(--fill-color);\n",
              "    }\n",
              "    60% {\n",
              "      border-color: transparent;\n",
              "      border-right-color: var(--fill-color);\n",
              "    }\n",
              "    80% {\n",
              "      border-color: transparent;\n",
              "      border-right-color: var(--fill-color);\n",
              "      border-bottom-color: var(--fill-color);\n",
              "    }\n",
              "    90% {\n",
              "      border-color: transparent;\n",
              "      border-bottom-color: var(--fill-color);\n",
              "    }\n",
              "  }\n",
              "</style>\n",
              "\n",
              "  <script>\n",
              "    async function quickchart(key) {\n",
              "      const quickchartButtonEl =\n",
              "        document.querySelector('#' + key + ' button');\n",
              "      quickchartButtonEl.disabled = true;  // To prevent multiple clicks.\n",
              "      quickchartButtonEl.classList.add('colab-df-spinner');\n",
              "      try {\n",
              "        const charts = await google.colab.kernel.invokeFunction(\n",
              "            'suggestCharts', [key], {});\n",
              "      } catch (error) {\n",
              "        console.error('Error during call to suggestCharts:', error);\n",
              "      }\n",
              "      quickchartButtonEl.classList.remove('colab-df-spinner');\n",
              "      quickchartButtonEl.classList.add('colab-df-quickchart-complete');\n",
              "    }\n",
              "    (() => {\n",
              "      let quickchartButtonEl =\n",
              "        document.querySelector('#df-868a3188-125e-4f7a-a126-7418eb74be61 button');\n",
              "      quickchartButtonEl.style.display =\n",
              "        google.colab.kernel.accessAllowed ? 'block' : 'none';\n",
              "    })();\n",
              "  </script>\n",
              "</div>\n",
              "\n",
              "    </div>\n",
              "  </div>\n"
            ],
            "application/vnd.google.colaboratory.intrinsic+json": {
              "type": "dataframe",
              "variable_name": "data",
              "summary": "{\n  \"name\": \"data\",\n  \"rows\": 7920,\n  \"fields\": [\n    {\n      \"column\": \"id\",\n      \"properties\": {\n        \"dtype\": \"number\",\n        \"std\": 2286,\n        \"min\": 1,\n        \"max\": 7920,\n        \"num_unique_values\": 7920,\n        \"samples\": [\n          4897,\n          7540,\n          1678\n        ],\n        \"semantic_type\": \"\",\n        \"description\": \"\"\n      }\n    },\n    {\n      \"column\": \"label\",\n      \"properties\": {\n        \"dtype\": \"number\",\n        \"std\": 0,\n        \"min\": 0,\n        \"max\": 1,\n        \"num_unique_values\": 2,\n        \"samples\": [\n          1,\n          0\n        ],\n        \"semantic_type\": \"\",\n        \"description\": \"\"\n      }\n    },\n    {\n      \"column\": \"tweet\",\n      \"properties\": {\n        \"dtype\": \"string\",\n        \"num_unique_values\": 7918,\n        \"samples\": [\n          \"My face as dad gave me cards worth \\u00a320, 000.00 #gay #shopping #boy #macbook #apple #blonde #pickofthe http://instagr.am/p/Uo5Ue7H7A8/\",\n          \"@skullcandy your product is brutal, 1 headphone always stops working. Get it together #Sony ftw\"\n        ],\n        \"semantic_type\": \"\",\n        \"description\": \"\"\n      }\n    },\n    {\n      \"column\": \"cleaned_tweets_w/o_SW\",\n      \"properties\": {\n        \"dtype\": \"string\",\n        \"num_unique_values\": 7712,\n        \"samples\": [\n          \"samsung galaxy edge new super ebace geneva genevalake phone photo by b st n ge rge \",\n          \"the key to my heart teamminibar clubdrunkviners iphone lgbt guy lol comedy artpop heart \"\n        ],\n        \"semantic_type\": \"\",\n        \"description\": \"\"\n      }\n    },\n    {\n      \"column\": \"cleaned_tweets_with_SW\",\n      \"properties\": {\n        \"dtype\": \"string\",\n        \"num_unique_values\": 7585,\n        \"samples\": [\n          \"iphone slowly braking screen cracked charge \",\n          \"make smartphones webos palm died android sstinkybad \"\n        ],\n        \"semantic_type\": \"\",\n        \"description\": \"\"\n      }\n    }\n  ]\n}"
            }
          },
          "metadata": {},
          "execution_count": 324
        }
      ],
      "source": [
        "data = pd.read_pickle(\"tweets_cleaned.pkl\")\n",
        "data.head()"
      ]
    },
    {
      "cell_type": "code",
      "execution_count": 325,
      "id": "NGQuO129bsfQ",
      "metadata": {
        "colab": {
          "base_uri": "https://localhost:8080/",
          "height": 293
        },
        "id": "NGQuO129bsfQ",
        "outputId": "cdac4b7f-4289-494f-937a-1f5ecf30e116"
      },
      "outputs": [
        {
          "output_type": "execute_result",
          "data": {
            "text/plain": [
              "   id  label  \\\n",
              "0   1      0   \n",
              "1   2      0   \n",
              "2   3      0   \n",
              "3   4      0   \n",
              "4   5      1   \n",
              "\n",
              "                                                                                                                                 tweet  \\\n",
              "0     #fingerprint #Pregnancy Test https://goo.gl/h1MfQV #android #apps #beautiful #cute #health #igers #iphoneonly #iphonesia #iphone   \n",
              "1  Finally a transparant silicon case ^^ Thanks to my uncle :) #yay #Sony #Xperia #S #sonyexperias… http://instagram.com/p/YGEt5JC6JM/   \n",
              "2          We love this! Would you go? #talk #makememories #unplug #relax #iphone #smartphone #wifi #connect... http://fb.me/6N3LsUpCu   \n",
              "3                     I'm wired I know I'm George I was made that way ;) #iphone #cute #daventry #home http://instagr.am/p/Li_5_ujS4k/   \n",
              "4         What amazing service! Apple won't even talk to me about a question I have unless I pay them $19.95 for their stupid support!   \n",
              "\n",
              "                                                                                                     cleaned_tweets_w/o_SW  \\\n",
              "0                         fingerprint pregnancy test android apps beautiful cute health igers iphoneonly iphonesia iphone    \n",
              "1                                    finally a transparant silicon case thanks to my uncle yay sony xperia s sonyexperias    \n",
              "2                                 we love this would you go talk makememories unplug relax iphone smartphone wifi connect    \n",
              "3                                              i am wired i know i am george i wa made that way iphone cute daventry home    \n",
              "4  what amazing service apple will not even talk to me about a question i have unless i pay them for their stupid support    \n",
              "\n",
              "                                                                             cleaned_tweets_with_SW  \n",
              "0  fingerprint pregnancy test android apps beautiful cute health igers iphoneonly iphonesia iphone   \n",
              "1                       finally transparant silicon case thanks uncle yay sony xperia sonyexperias   \n",
              "2                               love talk makememories unplug relax iphone smartphone wifi connect   \n",
              "3                                                  wired know george way iphone cute daventry home   \n",
              "4                                    amazing service apple talk question unless pay stupid support   "
            ],
            "text/html": [
              "\n",
              "  <div id=\"df-56e57f06-6f1d-4583-a4f7-14a03787f9d4\" class=\"colab-df-container\">\n",
              "    <div>\n",
              "<style scoped>\n",
              "    .dataframe tbody tr th:only-of-type {\n",
              "        vertical-align: middle;\n",
              "    }\n",
              "\n",
              "    .dataframe tbody tr th {\n",
              "        vertical-align: top;\n",
              "    }\n",
              "\n",
              "    .dataframe thead th {\n",
              "        text-align: right;\n",
              "    }\n",
              "</style>\n",
              "<table border=\"1\" class=\"dataframe\">\n",
              "  <thead>\n",
              "    <tr style=\"text-align: right;\">\n",
              "      <th></th>\n",
              "      <th>id</th>\n",
              "      <th>label</th>\n",
              "      <th>tweet</th>\n",
              "      <th>cleaned_tweets_w/o_SW</th>\n",
              "      <th>cleaned_tweets_with_SW</th>\n",
              "    </tr>\n",
              "  </thead>\n",
              "  <tbody>\n",
              "    <tr>\n",
              "      <th>0</th>\n",
              "      <td>1</td>\n",
              "      <td>0</td>\n",
              "      <td>#fingerprint #Pregnancy Test https://goo.gl/h1MfQV #android #apps #beautiful #cute #health #igers #iphoneonly #iphonesia #iphone</td>\n",
              "      <td>fingerprint pregnancy test android apps beautiful cute health igers iphoneonly iphonesia iphone</td>\n",
              "      <td>fingerprint pregnancy test android apps beautiful cute health igers iphoneonly iphonesia iphone</td>\n",
              "    </tr>\n",
              "    <tr>\n",
              "      <th>1</th>\n",
              "      <td>2</td>\n",
              "      <td>0</td>\n",
              "      <td>Finally a transparant silicon case ^^ Thanks to my uncle :) #yay #Sony #Xperia #S #sonyexperias… http://instagram.com/p/YGEt5JC6JM/</td>\n",
              "      <td>finally a transparant silicon case thanks to my uncle yay sony xperia s sonyexperias</td>\n",
              "      <td>finally transparant silicon case thanks uncle yay sony xperia sonyexperias</td>\n",
              "    </tr>\n",
              "    <tr>\n",
              "      <th>2</th>\n",
              "      <td>3</td>\n",
              "      <td>0</td>\n",
              "      <td>We love this! Would you go? #talk #makememories #unplug #relax #iphone #smartphone #wifi #connect... http://fb.me/6N3LsUpCu</td>\n",
              "      <td>we love this would you go talk makememories unplug relax iphone smartphone wifi connect</td>\n",
              "      <td>love talk makememories unplug relax iphone smartphone wifi connect</td>\n",
              "    </tr>\n",
              "    <tr>\n",
              "      <th>3</th>\n",
              "      <td>4</td>\n",
              "      <td>0</td>\n",
              "      <td>I'm wired I know I'm George I was made that way ;) #iphone #cute #daventry #home http://instagr.am/p/Li_5_ujS4k/</td>\n",
              "      <td>i am wired i know i am george i wa made that way iphone cute daventry home</td>\n",
              "      <td>wired know george way iphone cute daventry home</td>\n",
              "    </tr>\n",
              "    <tr>\n",
              "      <th>4</th>\n",
              "      <td>5</td>\n",
              "      <td>1</td>\n",
              "      <td>What amazing service! Apple won't even talk to me about a question I have unless I pay them $19.95 for their stupid support!</td>\n",
              "      <td>what amazing service apple will not even talk to me about a question i have unless i pay them for their stupid support</td>\n",
              "      <td>amazing service apple talk question unless pay stupid support</td>\n",
              "    </tr>\n",
              "  </tbody>\n",
              "</table>\n",
              "</div>\n",
              "    <div class=\"colab-df-buttons\">\n",
              "\n",
              "  <div class=\"colab-df-container\">\n",
              "    <button class=\"colab-df-convert\" onclick=\"convertToInteractive('df-56e57f06-6f1d-4583-a4f7-14a03787f9d4')\"\n",
              "            title=\"Convert this dataframe to an interactive table.\"\n",
              "            style=\"display:none;\">\n",
              "\n",
              "  <svg xmlns=\"http://www.w3.org/2000/svg\" height=\"24px\" viewBox=\"0 -960 960 960\">\n",
              "    <path d=\"M120-120v-720h720v720H120Zm60-500h600v-160H180v160Zm220 220h160v-160H400v160Zm0 220h160v-160H400v160ZM180-400h160v-160H180v160Zm440 0h160v-160H620v160ZM180-180h160v-160H180v160Zm440 0h160v-160H620v160Z\"/>\n",
              "  </svg>\n",
              "    </button>\n",
              "\n",
              "  <style>\n",
              "    .colab-df-container {\n",
              "      display:flex;\n",
              "      gap: 12px;\n",
              "    }\n",
              "\n",
              "    .colab-df-convert {\n",
              "      background-color: #E8F0FE;\n",
              "      border: none;\n",
              "      border-radius: 50%;\n",
              "      cursor: pointer;\n",
              "      display: none;\n",
              "      fill: #1967D2;\n",
              "      height: 32px;\n",
              "      padding: 0 0 0 0;\n",
              "      width: 32px;\n",
              "    }\n",
              "\n",
              "    .colab-df-convert:hover {\n",
              "      background-color: #E2EBFA;\n",
              "      box-shadow: 0px 1px 2px rgba(60, 64, 67, 0.3), 0px 1px 3px 1px rgba(60, 64, 67, 0.15);\n",
              "      fill: #174EA6;\n",
              "    }\n",
              "\n",
              "    .colab-df-buttons div {\n",
              "      margin-bottom: 4px;\n",
              "    }\n",
              "\n",
              "    [theme=dark] .colab-df-convert {\n",
              "      background-color: #3B4455;\n",
              "      fill: #D2E3FC;\n",
              "    }\n",
              "\n",
              "    [theme=dark] .colab-df-convert:hover {\n",
              "      background-color: #434B5C;\n",
              "      box-shadow: 0px 1px 3px 1px rgba(0, 0, 0, 0.15);\n",
              "      filter: drop-shadow(0px 1px 2px rgba(0, 0, 0, 0.3));\n",
              "      fill: #FFFFFF;\n",
              "    }\n",
              "  </style>\n",
              "\n",
              "    <script>\n",
              "      const buttonEl =\n",
              "        document.querySelector('#df-56e57f06-6f1d-4583-a4f7-14a03787f9d4 button.colab-df-convert');\n",
              "      buttonEl.style.display =\n",
              "        google.colab.kernel.accessAllowed ? 'block' : 'none';\n",
              "\n",
              "      async function convertToInteractive(key) {\n",
              "        const element = document.querySelector('#df-56e57f06-6f1d-4583-a4f7-14a03787f9d4');\n",
              "        const dataTable =\n",
              "          await google.colab.kernel.invokeFunction('convertToInteractive',\n",
              "                                                    [key], {});\n",
              "        if (!dataTable) return;\n",
              "\n",
              "        const docLinkHtml = 'Like what you see? Visit the ' +\n",
              "          '<a target=\"_blank\" href=https://colab.research.google.com/notebooks/data_table.ipynb>data table notebook</a>'\n",
              "          + ' to learn more about interactive tables.';\n",
              "        element.innerHTML = '';\n",
              "        dataTable['output_type'] = 'display_data';\n",
              "        await google.colab.output.renderOutput(dataTable, element);\n",
              "        const docLink = document.createElement('div');\n",
              "        docLink.innerHTML = docLinkHtml;\n",
              "        element.appendChild(docLink);\n",
              "      }\n",
              "    </script>\n",
              "  </div>\n",
              "\n",
              "\n",
              "<div id=\"df-69f79b26-f5c5-41c1-8dd3-c837b5d7f795\">\n",
              "  <button class=\"colab-df-quickchart\" onclick=\"quickchart('df-69f79b26-f5c5-41c1-8dd3-c837b5d7f795')\"\n",
              "            title=\"Suggest charts\"\n",
              "            style=\"display:none;\">\n",
              "\n",
              "<svg xmlns=\"http://www.w3.org/2000/svg\" height=\"24px\"viewBox=\"0 0 24 24\"\n",
              "     width=\"24px\">\n",
              "    <g>\n",
              "        <path d=\"M19 3H5c-1.1 0-2 .9-2 2v14c0 1.1.9 2 2 2h14c1.1 0 2-.9 2-2V5c0-1.1-.9-2-2-2zM9 17H7v-7h2v7zm4 0h-2V7h2v10zm4 0h-2v-4h2v4z\"/>\n",
              "    </g>\n",
              "</svg>\n",
              "  </button>\n",
              "\n",
              "<style>\n",
              "  .colab-df-quickchart {\n",
              "      --bg-color: #E8F0FE;\n",
              "      --fill-color: #1967D2;\n",
              "      --hover-bg-color: #E2EBFA;\n",
              "      --hover-fill-color: #174EA6;\n",
              "      --disabled-fill-color: #AAA;\n",
              "      --disabled-bg-color: #DDD;\n",
              "  }\n",
              "\n",
              "  [theme=dark] .colab-df-quickchart {\n",
              "      --bg-color: #3B4455;\n",
              "      --fill-color: #D2E3FC;\n",
              "      --hover-bg-color: #434B5C;\n",
              "      --hover-fill-color: #FFFFFF;\n",
              "      --disabled-bg-color: #3B4455;\n",
              "      --disabled-fill-color: #666;\n",
              "  }\n",
              "\n",
              "  .colab-df-quickchart {\n",
              "    background-color: var(--bg-color);\n",
              "    border: none;\n",
              "    border-radius: 50%;\n",
              "    cursor: pointer;\n",
              "    display: none;\n",
              "    fill: var(--fill-color);\n",
              "    height: 32px;\n",
              "    padding: 0;\n",
              "    width: 32px;\n",
              "  }\n",
              "\n",
              "  .colab-df-quickchart:hover {\n",
              "    background-color: var(--hover-bg-color);\n",
              "    box-shadow: 0 1px 2px rgba(60, 64, 67, 0.3), 0 1px 3px 1px rgba(60, 64, 67, 0.15);\n",
              "    fill: var(--button-hover-fill-color);\n",
              "  }\n",
              "\n",
              "  .colab-df-quickchart-complete:disabled,\n",
              "  .colab-df-quickchart-complete:disabled:hover {\n",
              "    background-color: var(--disabled-bg-color);\n",
              "    fill: var(--disabled-fill-color);\n",
              "    box-shadow: none;\n",
              "  }\n",
              "\n",
              "  .colab-df-spinner {\n",
              "    border: 2px solid var(--fill-color);\n",
              "    border-color: transparent;\n",
              "    border-bottom-color: var(--fill-color);\n",
              "    animation:\n",
              "      spin 1s steps(1) infinite;\n",
              "  }\n",
              "\n",
              "  @keyframes spin {\n",
              "    0% {\n",
              "      border-color: transparent;\n",
              "      border-bottom-color: var(--fill-color);\n",
              "      border-left-color: var(--fill-color);\n",
              "    }\n",
              "    20% {\n",
              "      border-color: transparent;\n",
              "      border-left-color: var(--fill-color);\n",
              "      border-top-color: var(--fill-color);\n",
              "    }\n",
              "    30% {\n",
              "      border-color: transparent;\n",
              "      border-left-color: var(--fill-color);\n",
              "      border-top-color: var(--fill-color);\n",
              "      border-right-color: var(--fill-color);\n",
              "    }\n",
              "    40% {\n",
              "      border-color: transparent;\n",
              "      border-right-color: var(--fill-color);\n",
              "      border-top-color: var(--fill-color);\n",
              "    }\n",
              "    60% {\n",
              "      border-color: transparent;\n",
              "      border-right-color: var(--fill-color);\n",
              "    }\n",
              "    80% {\n",
              "      border-color: transparent;\n",
              "      border-right-color: var(--fill-color);\n",
              "      border-bottom-color: var(--fill-color);\n",
              "    }\n",
              "    90% {\n",
              "      border-color: transparent;\n",
              "      border-bottom-color: var(--fill-color);\n",
              "    }\n",
              "  }\n",
              "</style>\n",
              "\n",
              "  <script>\n",
              "    async function quickchart(key) {\n",
              "      const quickchartButtonEl =\n",
              "        document.querySelector('#' + key + ' button');\n",
              "      quickchartButtonEl.disabled = true;  // To prevent multiple clicks.\n",
              "      quickchartButtonEl.classList.add('colab-df-spinner');\n",
              "      try {\n",
              "        const charts = await google.colab.kernel.invokeFunction(\n",
              "            'suggestCharts', [key], {});\n",
              "      } catch (error) {\n",
              "        console.error('Error during call to suggestCharts:', error);\n",
              "      }\n",
              "      quickchartButtonEl.classList.remove('colab-df-spinner');\n",
              "      quickchartButtonEl.classList.add('colab-df-quickchart-complete');\n",
              "    }\n",
              "    (() => {\n",
              "      let quickchartButtonEl =\n",
              "        document.querySelector('#df-69f79b26-f5c5-41c1-8dd3-c837b5d7f795 button');\n",
              "      quickchartButtonEl.style.display =\n",
              "        google.colab.kernel.accessAllowed ? 'block' : 'none';\n",
              "    })();\n",
              "  </script>\n",
              "</div>\n",
              "\n",
              "    </div>\n",
              "  </div>\n"
            ],
            "application/vnd.google.colaboratory.intrinsic+json": {
              "type": "dataframe",
              "variable_name": "data",
              "summary": "{\n  \"name\": \"data\",\n  \"rows\": 7920,\n  \"fields\": [\n    {\n      \"column\": \"id\",\n      \"properties\": {\n        \"dtype\": \"number\",\n        \"std\": 2286,\n        \"min\": 1,\n        \"max\": 7920,\n        \"num_unique_values\": 7920,\n        \"samples\": [\n          4897,\n          7540,\n          1678\n        ],\n        \"semantic_type\": \"\",\n        \"description\": \"\"\n      }\n    },\n    {\n      \"column\": \"label\",\n      \"properties\": {\n        \"dtype\": \"number\",\n        \"std\": 0,\n        \"min\": 0,\n        \"max\": 1,\n        \"num_unique_values\": 2,\n        \"samples\": [\n          1,\n          0\n        ],\n        \"semantic_type\": \"\",\n        \"description\": \"\"\n      }\n    },\n    {\n      \"column\": \"tweet\",\n      \"properties\": {\n        \"dtype\": \"string\",\n        \"num_unique_values\": 7918,\n        \"samples\": [\n          \"My face as dad gave me cards worth \\u00a320, 000.00 #gay #shopping #boy #macbook #apple #blonde #pickofthe http://instagr.am/p/Uo5Ue7H7A8/\",\n          \"@skullcandy your product is brutal, 1 headphone always stops working. Get it together #Sony ftw\"\n        ],\n        \"semantic_type\": \"\",\n        \"description\": \"\"\n      }\n    },\n    {\n      \"column\": \"cleaned_tweets_w/o_SW\",\n      \"properties\": {\n        \"dtype\": \"string\",\n        \"num_unique_values\": 7712,\n        \"samples\": [\n          \"samsung galaxy edge new super ebace geneva genevalake phone photo by b st n ge rge \",\n          \"the key to my heart teamminibar clubdrunkviners iphone lgbt guy lol comedy artpop heart \"\n        ],\n        \"semantic_type\": \"\",\n        \"description\": \"\"\n      }\n    },\n    {\n      \"column\": \"cleaned_tweets_with_SW\",\n      \"properties\": {\n        \"dtype\": \"string\",\n        \"num_unique_values\": 7585,\n        \"samples\": [\n          \"iphone slowly braking screen cracked charge \",\n          \"make smartphones webos palm died android sstinkybad \"\n        ],\n        \"semantic_type\": \"\",\n        \"description\": \"\"\n      }\n    }\n  ]\n}"
            }
          },
          "metadata": {},
          "execution_count": 325
        }
      ],
      "source": [
        "data = pd.read_pickle(\"tweets_cleaned.pkl\")\n",
        "data.head()"
      ]
    },
    {
      "cell_type": "code",
      "execution_count": 321,
      "id": "tGviJCPnbwnH",
      "metadata": {
        "id": "tGviJCPnbwnH"
      },
      "outputs": [],
      "source": [
        "#Deep Learning Model with OHE (Binary) Features"
      ]
    },
    {
      "cell_type": "code",
      "execution_count": 322,
      "id": "6gLAZgCLbyJS",
      "metadata": {
        "colab": {
          "base_uri": "https://localhost:8080/"
        },
        "id": "6gLAZgCLbyJS",
        "outputId": "e955183a-bc35-42bc-f77d-0a1144cdb35b"
      },
      "outputs": [
        {
          "output_type": "stream",
          "name": "stdout",
          "text": [
            "Requirement already satisfied: keras in /usr/local/lib/python3.10/dist-packages (2.15.0)\n"
          ]
        }
      ],
      "source": [
        "!pip install keras"
      ]
    },
    {
      "cell_type": "code",
      "execution_count": 323,
      "id": "-uUr6zsZby-e",
      "metadata": {
        "id": "-uUr6zsZby-e"
      },
      "outputs": [],
      "source": [
        "from keras.models import Sequential\n",
        "from keras.layers import Dense, Dropout\n",
        "from keras.callbacks import ModelCheckpoint\n",
        "import pydot\n",
        "import keras.backend as K"
      ]
    },
    {
      "cell_type": "code",
      "execution_count": 327,
      "id": "ZN4J3md0b2PS",
      "metadata": {
        "id": "ZN4J3md0b2PS"
      },
      "outputs": [],
      "source": [
        "# This user-defined function return a Deep Learning Model\n",
        "\n",
        "def define_model(n_words):\n",
        "    # define network\n",
        "    model = Sequential()\n",
        "    model.add(Dense(64, input_shape=(n_words,), activation='relu', kernel_regularizer='l2'))\n",
        "#     model.add(Dropout(0.25))\n",
        "    model.add(Dense(32, activation='relu', kernel_regularizer='l2'))\n",
        "#     model.add(Dropout(0.25))\n",
        "    model.add(Dense(1, activation='sigmoid'))\n",
        "\n",
        "    # compile network\n",
        "    model.compile(loss='binary_crossentropy', optimizer='adam', metrics=['accuracy'], )\n",
        "\n",
        "    # summarize defined model\n",
        "    model.summary()\n",
        "    plot_model(model, to_file='model1.png', show_shapes=True)\n",
        "    return model"
      ]
    },
    {
      "cell_type": "code",
      "execution_count": 328,
      "id": "oXaF6nI_b3uM",
      "metadata": {
        "id": "oXaF6nI_b3uM"
      },
      "outputs": [],
      "source": [
        "# evaluate a neural network model\n",
        "def evaluate_model(Xtrain, ytrain, Xtest, ytest):\n",
        "    scores = list()\n",
        "    n_repeats = 5\n",
        "    n_words = Xtest.shape[1]\n",
        "\n",
        "    for i in range(n_repeats):\n",
        "        # define network\n",
        "        model = define_model(n_words)\n",
        "\n",
        "        # fit network\n",
        "        model.fit(Xtrain, ytrain, epochs=10, verbose=0)\n",
        "\n",
        "        # evaluate\n",
        "        _, acc = model.evaluate(Xtest, ytest, verbose=0)\n",
        "        scores.append(acc)\n",
        "\n",
        "        print('%d accuracy: %s' % ((i+1), acc))\n",
        "    return scores"
      ]
    },
    {
      "cell_type": "code",
      "execution_count": 329,
      "id": "Q2Jnnu2_b4pm",
      "metadata": {
        "id": "Q2Jnnu2_b4pm"
      },
      "outputs": [],
      "source": [
        "# fit a tokenizer\n",
        "from tensorflow.keras.preprocessing.text import Tokenizer\n",
        "def create_tokenizer(lines):\n",
        "    tokenizer = Tokenizer() # num_words=1000\n",
        "    tokenizer.fit_on_texts(lines)\n",
        "    return tokenizer"
      ]
    },
    {
      "cell_type": "code",
      "execution_count": 330,
      "id": "eJB-_kKYb50w",
      "metadata": {
        "id": "eJB-_kKYb50w"
      },
      "outputs": [],
      "source": [
        "# create the tokenizer\n",
        "train_docs = data['cleaned_tweets_with_SW']\n",
        "tokenizer = create_tokenizer(train_docs)"
      ]
    },
    {
      "cell_type": "code",
      "execution_count": 331,
      "id": "67UfJpdob6q9",
      "metadata": {
        "id": "67UfJpdob6q9"
      },
      "outputs": [],
      "source": [
        "# encode data\n",
        "X = tokenizer.texts_to_matrix(train_docs, mode='binary')"
      ]
    },
    {
      "cell_type": "code",
      "execution_count": 332,
      "id": "ur9fyXVDb7mI",
      "metadata": {
        "colab": {
          "base_uri": "https://localhost:8080/"
        },
        "id": "ur9fyXVDb7mI",
        "outputId": "54bb3b2c-a51c-43c2-8853-d9a1ec226c81"
      },
      "outputs": [
        {
          "output_type": "execute_result",
          "data": {
            "text/plain": [
              "(7920, 15351)"
            ]
          },
          "metadata": {},
          "execution_count": 332
        }
      ],
      "source": [
        "X.shape"
      ]
    },
    {
      "cell_type": "code",
      "execution_count": 333,
      "id": "pAfE01p5b8cz",
      "metadata": {
        "colab": {
          "base_uri": "https://localhost:8080/"
        },
        "id": "pAfE01p5b8cz",
        "outputId": "bc7363dd-b74a-4e60-bee3-643774b5d5de"
      },
      "outputs": [
        {
          "output_type": "execute_result",
          "data": {
            "text/plain": [
              "array([0., 1., 0., ..., 0., 0., 0.])"
            ]
          },
          "metadata": {},
          "execution_count": 333
        }
      ],
      "source": [
        "X[0]"
      ]
    },
    {
      "cell_type": "code",
      "execution_count": 334,
      "id": "ZoyWq2sNb9SH",
      "metadata": {
        "id": "ZoyWq2sNb9SH"
      },
      "outputs": [],
      "source": [
        "y = data['label']"
      ]
    },
    {
      "cell_type": "code",
      "execution_count": 335,
      "id": "o0q7z3Htb-Jz",
      "metadata": {
        "id": "o0q7z3Htb-Jz"
      },
      "outputs": [],
      "source": [
        "Xtrain, Xtest, ytrain, ytest = train_test_split(X, y,  test_size=0.2,random_state=42)"
      ]
    },
    {
      "cell_type": "code",
      "execution_count": 336,
      "id": "TEy5s1rJb_TB",
      "metadata": {
        "colab": {
          "base_uri": "https://localhost:8080/"
        },
        "id": "TEy5s1rJb_TB",
        "outputId": "5fd98dd9-b04c-4661-ade5-06249c800df9"
      },
      "outputs": [
        {
          "output_type": "execute_result",
          "data": {
            "text/plain": [
              "((6336, 15351), (1584, 15351))"
            ]
          },
          "metadata": {},
          "execution_count": 336
        }
      ],
      "source": [
        "Xtrain.shape, Xtest.shape"
      ]
    },
    {
      "cell_type": "code",
      "execution_count": 337,
      "id": "y90wh_GgcAT-",
      "metadata": {
        "colab": {
          "base_uri": "https://localhost:8080/"
        },
        "id": "y90wh_GgcAT-",
        "outputId": "1980af66-4119-401a-ef99-a736fe4dbe4a"
      },
      "outputs": [
        {
          "output_type": "stream",
          "name": "stdout",
          "text": [
            "Requirement already satisfied: keras.utils in /usr/local/lib/python3.10/dist-packages (1.0.13)\n",
            "Requirement already satisfied: Keras>=2.1.5 in /usr/local/lib/python3.10/dist-packages (from keras.utils) (2.15.0)\n"
          ]
        }
      ],
      "source": [
        "!pip install keras.utils"
      ]
    },
    {
      "cell_type": "code",
      "execution_count": 338,
      "id": "2ER4b_LRcBGZ",
      "metadata": {
        "id": "2ER4b_LRcBGZ"
      },
      "outputs": [],
      "source": [
        "from keras.utils import plot_model"
      ]
    },
    {
      "cell_type": "code",
      "execution_count": 339,
      "id": "l8F_7OjRcB7O",
      "metadata": {
        "colab": {
          "base_uri": "https://localhost:8080/"
        },
        "id": "l8F_7OjRcB7O",
        "outputId": "5773136b-7706-4999-e58c-4127dff59b32"
      },
      "outputs": [
        {
          "output_type": "stream",
          "name": "stdout",
          "text": [
            "Model: \"sequential\"\n",
            "_________________________________________________________________\n",
            " Layer (type)                Output Shape              Param #   \n",
            "=================================================================\n",
            " dense (Dense)               (None, 64)                982528    \n",
            "                                                                 \n",
            " dense_1 (Dense)             (None, 32)                2080      \n",
            "                                                                 \n",
            " dense_2 (Dense)             (None, 1)                 33        \n",
            "                                                                 \n",
            "=================================================================\n",
            "Total params: 984641 (3.76 MB)\n",
            "Trainable params: 984641 (3.76 MB)\n",
            "Non-trainable params: 0 (0.00 Byte)\n",
            "_________________________________________________________________\n"
          ]
        }
      ],
      "source": [
        "# define network\n",
        "import keras.backend as K\n",
        "from keras.models import Sequential\n",
        "from keras.layers import Dense, Dropout\n",
        "from keras.callbacks import ModelCheckpoint\n",
        "import pydot\n",
        "K.clear_session()\n",
        "n_words = Xtrain.shape[1]\n",
        "model = define_model(n_words)"
      ]
    },
    {
      "cell_type": "code",
      "execution_count": 340,
      "id": "Nb_p_gkucMBY",
      "metadata": {
        "colab": {
          "base_uri": "https://localhost:8080/"
        },
        "id": "Nb_p_gkucMBY",
        "outputId": "b41c8f3e-67d7-4398-e583-eb330cac00e0"
      },
      "outputs": [
        {
          "output_type": "stream",
          "name": "stdout",
          "text": [
            "Epoch 1/25\n",
            "\n",
            "Epoch 1: val_loss improved from inf to 0.85679, saving model to BestModel.h5.keras\n",
            "32/32 - 2s - loss: 1.2407 - accuracy: 0.7175 - val_loss: 0.8568 - val_accuracy: 0.7823 - 2s/epoch - 77ms/step\n",
            "Epoch 2/25\n",
            "\n",
            "Epoch 2: val_loss improved from 0.85679 to 0.62815, saving model to BestModel.h5.keras\n",
            "32/32 - 2s - loss: 0.7312 - accuracy: 0.8202 - val_loss: 0.6281 - val_accuracy: 0.8549 - 2s/epoch - 51ms/step\n",
            "Epoch 3/25\n",
            "\n",
            "Epoch 3: val_loss improved from 0.62815 to 0.53598, saving model to BestModel.h5.keras\n",
            "32/32 - 2s - loss: 0.5803 - accuracy: 0.8746 - val_loss: 0.5360 - val_accuracy: 0.8659 - 2s/epoch - 62ms/step\n",
            "Epoch 4/25\n",
            "\n",
            "Epoch 4: val_loss improved from 0.53598 to 0.48117, saving model to BestModel.h5.keras\n",
            "32/32 - 2s - loss: 0.5065 - accuracy: 0.8860 - val_loss: 0.4812 - val_accuracy: 0.8738 - 2s/epoch - 66ms/step\n",
            "Epoch 5/25\n",
            "\n",
            "Epoch 5: val_loss improved from 0.48117 to 0.44649, saving model to BestModel.h5.keras\n",
            "32/32 - 1s - loss: 0.4593 - accuracy: 0.8911 - val_loss: 0.4465 - val_accuracy: 0.8770 - 1s/epoch - 43ms/step\n",
            "Epoch 6/25\n",
            "\n",
            "Epoch 6: val_loss improved from 0.44649 to 0.42586, saving model to BestModel.h5.keras\n",
            "32/32 - 1s - loss: 0.4255 - accuracy: 0.8965 - val_loss: 0.4259 - val_accuracy: 0.8738 - 1s/epoch - 36ms/step\n",
            "Epoch 7/25\n",
            "\n",
            "Epoch 7: val_loss improved from 0.42586 to 0.40675, saving model to BestModel.h5.keras\n",
            "32/32 - 1s - loss: 0.4005 - accuracy: 0.9042 - val_loss: 0.4068 - val_accuracy: 0.8880 - 1s/epoch - 36ms/step\n",
            "Epoch 8/25\n",
            "\n",
            "Epoch 8: val_loss improved from 0.40675 to 0.39950, saving model to BestModel.h5.keras\n",
            "32/32 - 1s - loss: 0.3828 - accuracy: 0.9065 - val_loss: 0.3995 - val_accuracy: 0.8864 - 1s/epoch - 37ms/step\n",
            "Epoch 9/25\n",
            "\n",
            "Epoch 9: val_loss improved from 0.39950 to 0.39424, saving model to BestModel.h5.keras\n",
            "32/32 - 1s - loss: 0.3698 - accuracy: 0.9104 - val_loss: 0.3942 - val_accuracy: 0.8707 - 1s/epoch - 37ms/step\n",
            "Epoch 10/25\n",
            "\n",
            "Epoch 10: val_loss improved from 0.39424 to 0.38292, saving model to BestModel.h5.keras\n",
            "32/32 - 1s - loss: 0.3605 - accuracy: 0.9148 - val_loss: 0.3829 - val_accuracy: 0.8912 - 1s/epoch - 37ms/step\n",
            "Epoch 11/25\n",
            "\n",
            "Epoch 11: val_loss improved from 0.38292 to 0.38019, saving model to BestModel.h5.keras\n",
            "32/32 - 1s - loss: 0.3514 - accuracy: 0.9167 - val_loss: 0.3802 - val_accuracy: 0.8833 - 1s/epoch - 38ms/step\n",
            "Epoch 12/25\n",
            "\n",
            "Epoch 12: val_loss improved from 0.38019 to 0.37868, saving model to BestModel.h5.keras\n",
            "32/32 - 1s - loss: 0.3434 - accuracy: 0.9206 - val_loss: 0.3787 - val_accuracy: 0.8754 - 1s/epoch - 36ms/step\n",
            "Epoch 13/25\n",
            "\n",
            "Epoch 13: val_loss improved from 0.37868 to 0.37602, saving model to BestModel.h5.keras\n",
            "32/32 - 1s - loss: 0.3361 - accuracy: 0.9209 - val_loss: 0.3760 - val_accuracy: 0.8896 - 1s/epoch - 46ms/step\n",
            "Epoch 14/25\n",
            "\n",
            "Epoch 14: val_loss did not improve from 0.37602\n",
            "32/32 - 2s - loss: 0.3307 - accuracy: 0.9263 - val_loss: 0.3773 - val_accuracy: 0.8754 - 2s/epoch - 61ms/step\n",
            "Epoch 15/25\n",
            "\n",
            "Epoch 15: val_loss improved from 0.37602 to 0.37486, saving model to BestModel.h5.keras\n",
            "32/32 - 2s - loss: 0.3248 - accuracy: 0.9288 - val_loss: 0.3749 - val_accuracy: 0.8770 - 2s/epoch - 64ms/step\n",
            "Epoch 16/25\n",
            "\n",
            "Epoch 16: val_loss improved from 0.37486 to 0.37376, saving model to BestModel.h5.keras\n",
            "32/32 - 1s - loss: 0.3217 - accuracy: 0.9300 - val_loss: 0.3738 - val_accuracy: 0.8785 - 1s/epoch - 44ms/step\n",
            "Epoch 17/25\n",
            "\n",
            "Epoch 17: val_loss did not improve from 0.37376\n",
            "32/32 - 1s - loss: 0.3158 - accuracy: 0.9318 - val_loss: 0.3764 - val_accuracy: 0.8754 - 1s/epoch - 35ms/step\n",
            "Epoch 18/25\n",
            "\n",
            "Epoch 18: val_loss improved from 0.37376 to 0.37001, saving model to BestModel.h5.keras\n",
            "32/32 - 1s - loss: 0.3120 - accuracy: 0.9320 - val_loss: 0.3700 - val_accuracy: 0.8849 - 1s/epoch - 38ms/step\n",
            "Epoch 19/25\n",
            "\n",
            "Epoch 19: val_loss improved from 0.37001 to 0.36875, saving model to BestModel.h5.keras\n",
            "32/32 - 1s - loss: 0.3077 - accuracy: 0.9372 - val_loss: 0.3687 - val_accuracy: 0.8880 - 1s/epoch - 38ms/step\n",
            "Epoch 20/25\n",
            "\n",
            "Epoch 20: val_loss did not improve from 0.36875\n",
            "32/32 - 1s - loss: 0.3045 - accuracy: 0.9374 - val_loss: 0.3740 - val_accuracy: 0.8880 - 1s/epoch - 35ms/step\n",
            "Epoch 21/25\n",
            "\n",
            "Epoch 21: val_loss did not improve from 0.36875\n",
            "32/32 - 1s - loss: 0.3033 - accuracy: 0.9353 - val_loss: 0.3692 - val_accuracy: 0.8896 - 1s/epoch - 35ms/step\n",
            "Epoch 22/25\n",
            "\n",
            "Epoch 22: val_loss did not improve from 0.36875\n",
            "32/32 - 1s - loss: 0.2986 - accuracy: 0.9414 - val_loss: 0.3718 - val_accuracy: 0.8817 - 1s/epoch - 34ms/step\n",
            "Epoch 23/25\n",
            "\n",
            "Epoch 23: val_loss did not improve from 0.36875\n",
            "32/32 - 1s - loss: 0.2923 - accuracy: 0.9441 - val_loss: 0.3725 - val_accuracy: 0.8896 - 1s/epoch - 35ms/step\n",
            "Epoch 24/25\n",
            "\n",
            "Epoch 24: val_loss did not improve from 0.36875\n",
            "32/32 - 1s - loss: 0.2903 - accuracy: 0.9460 - val_loss: 0.3795 - val_accuracy: 0.8691 - 1s/epoch - 38ms/step\n",
            "Epoch 25/25\n",
            "\n",
            "Epoch 25: val_loss did not improve from 0.36875\n",
            "32/32 - 2s - loss: 0.2864 - accuracy: 0.9448 - val_loss: 0.3715 - val_accuracy: 0.8849 - 2s/epoch - 60ms/step\n"
          ]
        }
      ],
      "source": [
        "# fit network\n",
        "checkpoint = ModelCheckpoint(\"BestModel.h5.keras\",\n",
        "                             monitor=\"val_loss\",\n",
        "                             mode=\"min\",\n",
        "                             save_best_only = True,\n",
        "                             verbose=1)\n",
        "callbacks = [checkpoint]\n",
        "\n",
        "h = model.fit(Xtrain, ytrain, validation_split=0.1, callbacks = callbacks, batch_size=180, epochs=25, verbose=2)"
      ]
    },
    {
      "cell_type": "code",
      "execution_count": 341,
      "id": "ea2ZKmuZcQv2",
      "metadata": {
        "colab": {
          "base_uri": "https://localhost:8080/",
          "height": 488
        },
        "id": "ea2ZKmuZcQv2",
        "outputId": "f884aa47-9328-45c7-e7e2-a424fee92c78"
      },
      "outputs": [
        {
          "output_type": "execute_result",
          "data": {
            "text/plain": [
              "Text(0, 0.5, 'Loss Fn valaues')"
            ]
          },
          "metadata": {},
          "execution_count": 341
        },
        {
          "output_type": "display_data",
          "data": {
            "text/plain": [
              "<Figure size 800x500 with 1 Axes>"
            ],
            "image/png": "[encoded data removed]"
          },
          "metadata": {}
        }
      ],
      "source": [
        "import matplotlib.pyplot as plt\n",
        "\n",
        "plt.figure(figsize=(8,5))\n",
        "plt.plot(list(range(1,26)), h.history['loss'], label='Training loss')\n",
        "plt.plot(list(range(1,26)), h.history['val_loss'], label='Validation loss')\n",
        "plt.legend(fontsize=15)\n",
        "plt.grid()\n",
        "plt.xlabel('Epochs', fontsize=15)\n",
        "plt.ylabel('Loss Fn valaues', fontsize=15)"
      ]
    },
    {
      "cell_type": "code",
      "execution_count": 342,
      "id": "OCE2ikC7cU4K",
      "metadata": {
        "colab": {
          "base_uri": "https://localhost:8080/",
          "height": 488
        },
        "id": "OCE2ikC7cU4K",
        "outputId": "c6dca1b6-a2ad-4874-c0db-65c94e42d498"
      },
      "outputs": [
        {
          "output_type": "execute_result",
          "data": {
            "text/plain": [
              "Text(0, 0.5, 'Loss Fn valaues')"
            ]
          },
          "metadata": {},
          "execution_count": 342
        },
        {
          "output_type": "display_data",
          "data": {
            "text/plain": [
              "<Figure size 800x500 with 1 Axes>"
            ],
            "image/png": "[encoded data removed]"
          },
          "metadata": {}
        }
      ],
      "source": [
        "import matplotlib.pyplot as plt\n",
        "\n",
        "plt.figure(figsize=(8,5))\n",
        "plt.plot(list(range(1,26)), h.history['loss'], label='Training loss')\n",
        "plt.plot(list(range(1,26)), h.history['val_loss'], label='Validation loss')\n",
        "plt.legend(fontsize=15)\n",
        "plt.grid()\n",
        "plt.xlabel('Epochs', fontsize=15)\n",
        "plt.ylabel('Loss Fn valaues', fontsize=15)"
      ]
    },
    {
      "cell_type": "code",
      "execution_count": 343,
      "id": "AiLYsWBjcpAZ",
      "metadata": {
        "colab": {
          "base_uri": "https://localhost:8080/"
        },
        "id": "AiLYsWBjcpAZ",
        "outputId": "5942798d-5e8c-40a5-843b-c67c78f2d4df"
      },
      "outputs": [
        {
          "output_type": "stream",
          "name": "stdout",
          "text": [
            "Test Accuracy: 88.888890\n"
          ]
        }
      ],
      "source": [
        "# evaluate the model ONCe on the test set\n",
        "loss, acc = model.evaluate(Xtest, ytest, verbose=0)\n",
        "print('Test Accuracy: %f' % (acc*100))"
      ]
    }
  ],
  "metadata": {
    "colab": {
      "provenance": [],
      "include_colab_link": true
    },
    "kernelspec": {
      "display_name": "Python 3 (ipykernel)",
      "language": "python",
      "name": "python3"
    },
    "language_info": {
      "codemirror_mode": {
        "name": "ipython",
        "version": 3
      },
      "file_extension": ".py",
      "mimetype": "text/x-python",
      "name": "python",
      "nbconvert_exporter": "python",
      "pygments_lexer": "ipython3",
      "version": "3.8.10"
    }
  },
  "nbformat": 4,
  "nbformat_minor": 5
}